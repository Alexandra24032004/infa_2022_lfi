{
 "cells": [
  {
   "cell_type": "markdown",
   "metadata": {},
   "source": [
    "# Библиотека numpy"
   ]
  },
  {
   "cell_type": "markdown",
   "metadata": {},
   "source": [
    "**NumPy** — это библиотека языка Python, добавляющая поддержку больших многомерных массивов и матриц, вместе с большой библиотекой высокоуровневых (и очень быстрых) математических функций для операций с этими массивами."
   ]
  },
  {
   "cell_type": "markdown",
   "metadata": {},
   "source": [
    "Основным объектом NumPy является однородный многомерный массив (в numpy называется numpy.ndarray). Это многомерный массив элементов (обычно чисел), одного типа.\n",
    "\n",
    "Наиболее важные атрибуты объектов ndarray:\n",
    "\n",
    "**ndarray.ndim** - число измерений (чаще их называют \"оси\") массива.\n",
    "\n",
    "**ndarray.shape** - размеры массива, его форма. Это кортеж натуральных чисел, показывающий длину массива по каждой оси. Для матрицы из n строк и m столбов, shape будет (n,m). Число элементов кортежа shape равно ndim.\n",
    "\n",
    "**ndarray.size** - количество элементов массива. Очевидно, равно произведению всех элементов атрибута shape.\n",
    "\n",
    "**ndarray.dtype** - объект, описывающий тип элементов массива. Можно определить dtype, используя стандартные типы данных Python. NumPy здесь предоставляет целый букет возможностей, как встроенных, например: bool_, character, int8, int16, int32, int64, float8, float16, float32, float64, complex64, object_, так и возможность определить собственные типы данных, в том числе и составные.\n",
    "\n",
    "**ndarray.itemsize** - размер каждого элемента массива в байтах."
   ]
  },
  {
   "cell_type": "markdown",
   "metadata": {},
   "source": [
    "# Создание массивов"
   ]
  },
  {
   "cell_type": "markdown",
   "metadata": {},
   "source": [
    "В NumPy существует много способов создать массив. Один из наиболее простых - создать массив из обычных списков или кортежей Python, используя функцию numpy.array() (запомните: array - функция, создающая объект типа ndarray):"
   ]
  },
  {
   "cell_type": "code",
   "execution_count": 1,
   "metadata": {},
   "outputs": [
    {
     "data": {
      "text/plain": [
       "array([1, 2, 3])"
      ]
     },
     "execution_count": 1,
     "metadata": {},
     "output_type": "execute_result"
    }
   ],
   "source": [
    "import numpy as np\n",
    "\n",
    "a = np.array([1, 2, 3])\n",
    "a"
   ]
  },
  {
   "cell_type": "code",
   "execution_count": 2,
   "metadata": {},
   "outputs": [
    {
     "data": {
      "text/plain": [
       "numpy.ndarray"
      ]
     },
     "execution_count": 2,
     "metadata": {},
     "output_type": "execute_result"
    }
   ],
   "source": [
    "type(a)"
   ]
  },
  {
   "cell_type": "markdown",
   "metadata": {},
   "source": [
    "Функция array() трансформирует вложенные последовательности в многомерные массивы. Тип элементов массива зависит от типа элементов исходной последовательности (но можно и переопределить его в момент создания)."
   ]
  },
  {
   "cell_type": "code",
   "execution_count": 3,
   "metadata": {},
   "outputs": [
    {
     "data": {
      "text/plain": [
       "array([[1.5, 2. , 3. ],\n",
       "       [4. , 5. , 6. ]])"
      ]
     },
     "execution_count": 3,
     "metadata": {},
     "output_type": "execute_result"
    }
   ],
   "source": [
    "b = np.array([[1.5, 2, 3], [4, 5, 6]])\n",
    "b"
   ]
  },
  {
   "cell_type": "markdown",
   "metadata": {},
   "source": [
    "Можно также переопределить тип в момент создания:"
   ]
  },
  {
   "cell_type": "code",
   "execution_count": 4,
   "metadata": {},
   "outputs": [
    {
     "name": "stderr",
     "output_type": "stream",
     "text": [
      "/tmp/ipykernel_4875/2311286893.py:1: DeprecationWarning: `np.complex` is a deprecated alias for the builtin `complex`. To silence this warning, use `complex` by itself. Doing this will not modify any behavior and is safe. If you specifically wanted the numpy scalar type, use `np.complex128` here.\n",
      "Deprecated in NumPy 1.20; for more details and guidance: https://numpy.org/devdocs/release/1.20.0-notes.html#deprecations\n",
      "  b = np.array([[1.5, 2, 3], [4, 5, 6]], dtype=np.complex)\n"
     ]
    },
    {
     "data": {
      "text/plain": [
       "array([[1.5+0.j, 2. +0.j, 3. +0.j],\n",
       "       [4. +0.j, 5. +0.j, 6. +0.j]])"
      ]
     },
     "execution_count": 4,
     "metadata": {},
     "output_type": "execute_result"
    }
   ],
   "source": [
    "b = np.array([[1.5, 2, 3], [4, 5, 6]], dtype=np.complex)\n",
    "b"
   ]
  },
  {
   "cell_type": "markdown",
   "metadata": {},
   "source": [
    "Функция array() не единственная функция для создания массивов. Обычно элементы массива вначале неизвестны, а массив, в котором они будут храниться, уже нужен. Поэтому имеется несколько функций для того, чтобы создавать массивы с каким-то исходным содержимым (по умолчанию тип создаваемого массива — float64).\n",
    "\n",
    "Функция zeros() создает массив из нулей, а функция ones() — массив из единиц. Обе функции принимают кортеж с размерами, и аргумент dtype:"
   ]
  },
  {
   "cell_type": "code",
   "execution_count": 5,
   "metadata": {},
   "outputs": [
    {
     "data": {
      "text/plain": [
       "array([[0., 0., 0., 0., 0.],\n",
       "       [0., 0., 0., 0., 0.],\n",
       "       [0., 0., 0., 0., 0.]])"
      ]
     },
     "execution_count": 5,
     "metadata": {},
     "output_type": "execute_result"
    }
   ],
   "source": [
    "a = np.zeros((3, 5))\n",
    "a"
   ]
  },
  {
   "cell_type": "code",
   "execution_count": 6,
   "metadata": {},
   "outputs": [
    {
     "data": {
      "text/plain": [
       "array([[[1., 1.],\n",
       "        [1., 1.]],\n",
       "\n",
       "       [[1., 1.],\n",
       "        [1., 1.]]])"
      ]
     },
     "execution_count": 6,
     "metadata": {},
     "output_type": "execute_result"
    }
   ],
   "source": [
    "a = np.ones((2, 2, 2))\n",
    "a"
   ]
  },
  {
   "cell_type": "markdown",
   "metadata": {},
   "source": [
    "Функция eye() создаёт единичную матрицу (двумерный массив)"
   ]
  },
  {
   "cell_type": "code",
   "execution_count": 7,
   "metadata": {},
   "outputs": [
    {
     "data": {
      "text/plain": [
       "array([[1., 0., 0., 0., 0.],\n",
       "       [0., 1., 0., 0., 0.],\n",
       "       [0., 0., 1., 0., 0.],\n",
       "       [0., 0., 0., 1., 0.],\n",
       "       [0., 0., 0., 0., 1.]])"
      ]
     },
     "execution_count": 7,
     "metadata": {},
     "output_type": "execute_result"
    }
   ],
   "source": [
    "a = np.eye(5)\n",
    "a"
   ]
  },
  {
   "cell_type": "markdown",
   "metadata": {},
   "source": [
    "Функция empty() создает массив без его заполнения. Исходное содержимое случайно и зависит от состояния памяти на момент создания массива (то есть от того мусора, что в ней хранится):"
   ]
  },
  {
   "cell_type": "code",
   "execution_count": 8,
   "metadata": {},
   "outputs": [
    {
     "data": {
      "text/plain": [
       "array([[6.9016133e-310, 2.4828870e-316, 0.0000000e+000],\n",
       "       [0.0000000e+000, 0.0000000e+000, 0.0000000e+000],\n",
       "       [0.0000000e+000, 0.0000000e+000, 0.0000000e+000]])"
      ]
     },
     "execution_count": 8,
     "metadata": {},
     "output_type": "execute_result"
    }
   ],
   "source": [
    "a = np.empty((3, 3))\n",
    "a"
   ]
  },
  {
   "cell_type": "markdown",
   "metadata": {},
   "source": [
    "Для создания последовательностей чисел, в NumPy имеется функция arange(), аналогичная встроенной в Python range(), только вместо списков она возвращает массивы, и принимает не только целые значения:"
   ]
  },
  {
   "cell_type": "code",
   "execution_count": 9,
   "metadata": {},
   "outputs": [
    {
     "data": {
      "text/plain": [
       "array([10, 15, 20, 25])"
      ]
     },
     "execution_count": 9,
     "metadata": {},
     "output_type": "execute_result"
    }
   ],
   "source": [
    "a = np.arange(10, 30, 5)\n",
    "a"
   ]
  },
  {
   "cell_type": "code",
   "execution_count": 10,
   "metadata": {},
   "outputs": [
    {
     "data": {
      "text/plain": [
       "array([0. , 0.1, 0.2, 0.3, 0.4, 0.5, 0.6, 0.7, 0.8, 0.9])"
      ]
     },
     "execution_count": 10,
     "metadata": {},
     "output_type": "execute_result"
    }
   ],
   "source": [
    "a = np.arange(0, 1, 0.1)\n",
    "a"
   ]
  },
  {
   "cell_type": "markdown",
   "metadata": {},
   "source": [
    "Вообще, при использовании arange() с аргументами типа float, сложно быть уверенным в том, сколько элементов будет получено (из-за ограничения точности чисел с плавающей запятой). Поэтому, в таких случаях обычно лучше использовать функцию linspace(), которая вместо шага в качестве одного из аргументов принимает число, равное количеству нужных элементов:"
   ]
  },
  {
   "cell_type": "code",
   "execution_count": 11,
   "metadata": {},
   "outputs": [
    {
     "data": {
      "text/plain": [
       "array([0.  , 0.25, 0.5 , 0.75, 1.  , 1.25, 1.5 , 1.75, 2.  ])"
      ]
     },
     "execution_count": 11,
     "metadata": {},
     "output_type": "execute_result"
    }
   ],
   "source": [
    "a = np.linspace(0, 2, 9)  # 9 чисел от 0 до 2 включительно\n",
    "a"
   ]
  },
  {
   "cell_type": "markdown",
   "metadata": {},
   "source": [
    "# Изменение формы массивов"
   ]
  },
  {
   "cell_type": "markdown",
   "metadata": {},
   "source": [
    "Предположим, у нас имеется массив, состоящий из десяти чисел: "
   ]
  },
  {
   "cell_type": "code",
   "execution_count": 12,
   "metadata": {},
   "outputs": [
    {
     "data": {
      "text/plain": [
       "array([0, 1, 2, 3, 4, 5, 6, 7, 8, 9])"
      ]
     },
     "execution_count": 12,
     "metadata": {},
     "output_type": "execute_result"
    }
   ],
   "source": [
    "a = np.arange(10)\n",
    "a"
   ]
  },
  {
   "cell_type": "markdown",
   "metadata": {},
   "source": [
    "Для изменения формы этого массива, достаточно указать свойству shape кортеж с новыми размерами, например, так: "
   ]
  },
  {
   "cell_type": "code",
   "execution_count": 13,
   "metadata": {},
   "outputs": [
    {
     "data": {
      "text/plain": [
       "array([[0, 1, 2, 3, 4],\n",
       "       [5, 6, 7, 8, 9]])"
      ]
     },
     "execution_count": 13,
     "metadata": {},
     "output_type": "execute_result"
    }
   ],
   "source": [
    "a.shape = 2, 5\n",
    "a"
   ]
  },
  {
   "cell_type": "markdown",
   "metadata": {},
   "source": [
    "В результате изменится представление массива, на которое ссылается переменная a. Если же требуется создать новое представление массива, сохранив прежнее, то следует воспользоваться методом reshape(): "
   ]
  },
  {
   "cell_type": "markdown",
   "metadata": {},
   "source": [
    "b = a.reshape(10)\n",
    "b"
   ]
  },
  {
   "cell_type": "markdown",
   "metadata": {},
   "source": [
    "Cсылки b и a будут использовать одни и те же данные, то есть, изменение массива через b: "
   ]
  },
  {
   "cell_type": "code",
   "execution_count": 14,
   "metadata": {},
   "outputs": [],
   "source": [
    "b[0] = -1 # приведет к изменению соответствующего элемента массива a: "
   ]
  },
  {
   "cell_type": "markdown",
   "metadata": {},
   "source": [
    "У свойства shape и метода reshape() размерность должна охватывать все элементы массива. Например, вот такая команда: "
   ]
  },
  {
   "cell_type": "code",
   "execution_count": 15,
   "metadata": {},
   "outputs": [
    {
     "ename": "ValueError",
     "evalue": "cannot reshape array of size 10 into shape (3,3)",
     "output_type": "error",
     "traceback": [
      "\u001b[0;31m---------------------------------------------------------------------------\u001b[0m",
      "\u001b[0;31mValueError\u001b[0m                                Traceback (most recent call last)",
      "\u001b[0;32m/tmp/ipykernel_4875/2444272619.py\u001b[0m in \u001b[0;36m<module>\u001b[0;34m\u001b[0m\n\u001b[0;32m----> 1\u001b[0;31m \u001b[0ma\u001b[0m\u001b[0;34m.\u001b[0m\u001b[0mshape\u001b[0m \u001b[0;34m=\u001b[0m \u001b[0;36m3\u001b[0m\u001b[0;34m,\u001b[0m \u001b[0;36m3\u001b[0m\u001b[0;34m\u001b[0m\u001b[0;34m\u001b[0m\u001b[0m\n\u001b[0m",
      "\u001b[0;31mValueError\u001b[0m: cannot reshape array of size 10 into shape (3,3)"
     ]
    }
   ],
   "source": [
    "a.shape = 3, 3"
   ]
  },
  {
   "cell_type": "markdown",
   "metadata": {},
   "source": [
    "приведет к ошибке, т.к. размерность 3x3 = 9 элементов, а в массиве 10 элементов. Здесь всегда должно выполняться равенство:\n",
    "\n",
    "n1 x n2 x … x nN = число элементов массива "
   ]
  },
  {
   "cell_type": "markdown",
   "metadata": {},
   "source": [
    "Но допускается делать так: "
   ]
  },
  {
   "cell_type": "code",
   "execution_count": 16,
   "metadata": {},
   "outputs": [
    {
     "data": {
      "text/plain": [
       "array([[0, 1],\n",
       "       [2, 3],\n",
       "       [4, 5],\n",
       "       [6, 7],\n",
       "       [8, 9]])"
      ]
     },
     "execution_count": 16,
     "metadata": {},
     "output_type": "execute_result"
    }
   ],
   "source": [
    "a.shape = -1, 2\n",
    "a"
   ]
  },
  {
   "cell_type": "markdown",
   "metadata": {},
   "source": [
    "Отрицательное значение -1 означает автоматическое вычисление размерности по первой оси. По второй берется значение 2. В этом случае получим размерность 5x2.\n",
    "\n",
    "То же самое можно делать и в методе reshape(): "
   ]
  },
  {
   "cell_type": "code",
   "execution_count": 17,
   "metadata": {},
   "outputs": [
    {
     "name": "stdout",
     "output_type": "stream",
     "text": [
      "[[-1.+0.j -1.+0.j -1.+0.j]\n",
      " [ 4.+0.j  5.+0.j  6.+0.j]]\n",
      "[[-1.+0.j -1.+0.j -1.+0.j]\n",
      " [ 4.+0.j  5.+0.j  6.+0.j]]\n"
     ]
    }
   ],
   "source": [
    "b.reshape(-1, 1)\n",
    "print(b)\n",
    "b.reshape(1, -1)\n",
    "print(b)"
   ]
  },
  {
   "cell_type": "markdown",
   "metadata": {},
   "source": [
    "Используя отрицательный индекс, можно делать и такие преобразования: "
   ]
  },
  {
   "cell_type": "code",
   "execution_count": 18,
   "metadata": {},
   "outputs": [
    {
     "name": "stdout",
     "output_type": "stream",
     "text": [
      "[[-1.+0.j -1.+0.j -1.+0.j]\n",
      " [ 4.+0.j  5.+0.j  6.+0.j]]\n",
      "[[-1.+0.j -1.+0.j -1.+0.j]\n",
      " [ 4.+0.j  5.+0.j  6.+0.j]]\n"
     ]
    }
   ],
   "source": [
    "b.reshape(2, -1)\n",
    "print(b)\n",
    "b.reshape(-1, 2)\n",
    "print(b)"
   ]
  },
  {
   "cell_type": "markdown",
   "metadata": {},
   "source": [
    "Если нам требуется многомерный массив преобразовать в обычный одномерный, то можно воспользоваться методом ravel(), который возвращает новое представление, не меняя текущего: "
   ]
  },
  {
   "cell_type": "code",
   "execution_count": 19,
   "metadata": {},
   "outputs": [
    {
     "data": {
      "text/plain": [
       "array([-1.+0.j, -1.+0.j, -1.+0.j,  4.+0.j,  5.+0.j,  6.+0.j])"
      ]
     },
     "execution_count": 19,
     "metadata": {},
     "output_type": "execute_result"
    }
   ],
   "source": [
    "c = b.ravel() # с ссылается на одномерное представление массива\n",
    "c"
   ]
  },
  {
   "cell_type": "markdown",
   "metadata": {},
   "source": [
    "Если же нам нужно текущий массив преобразовать в одномерный, то это можно сделать так: "
   ]
  },
  {
   "cell_type": "code",
   "execution_count": 20,
   "metadata": {},
   "outputs": [],
   "source": [
    "b.shape = -1"
   ]
  },
  {
   "cell_type": "markdown",
   "metadata": {},
   "source": [
    "Помимо свойства shape можно использовать метод resize, который выполняет подобную операцию с текущим массивом. Например: "
   ]
  },
  {
   "cell_type": "code",
   "execution_count": 21,
   "metadata": {},
   "outputs": [],
   "source": [
    "a.resize(2, 5) # массив 2x5"
   ]
  },
  {
   "cell_type": "markdown",
   "metadata": {},
   "source": [
    "Но, как мы уже говорили, вот такая строчка приведет к ошибке: "
   ]
  },
  {
   "cell_type": "code",
   "execution_count": 22,
   "metadata": {},
   "outputs": [
    {
     "ename": "ValueError",
     "evalue": "cannot resize an array that references or is referenced\nby another array in this way.\nUse the np.resize function or refcheck=False",
     "output_type": "error",
     "traceback": [
      "\u001b[0;31m---------------------------------------------------------------------------\u001b[0m",
      "\u001b[0;31mValueError\u001b[0m                                Traceback (most recent call last)",
      "\u001b[0;32m/tmp/ipykernel_4875/4058682236.py\u001b[0m in \u001b[0;36m<module>\u001b[0;34m\u001b[0m\n\u001b[0;32m----> 1\u001b[0;31m \u001b[0ma\u001b[0m\u001b[0;34m.\u001b[0m\u001b[0mresize\u001b[0m\u001b[0;34m(\u001b[0m\u001b[0;36m3\u001b[0m\u001b[0;34m,\u001b[0m \u001b[0;36m3\u001b[0m\u001b[0;34m)\u001b[0m  \u001b[0;31m# ошибка: 3x3 != 10\u001b[0m\u001b[0;34m\u001b[0m\u001b[0;34m\u001b[0m\u001b[0m\n\u001b[0m",
      "\u001b[0;31mValueError\u001b[0m: cannot resize an array that references or is referenced\nby another array in this way.\nUse the np.resize function or refcheck=False"
     ]
    }
   ],
   "source": [
    "a.resize(3, 3)  # ошибка: 3x3 != 10"
   ]
  },
  {
   "cell_type": "markdown",
   "metadata": {},
   "source": [
    "# Транспонирование матриц и векторов"
   ]
  },
  {
   "cell_type": "markdown",
   "metadata": {},
   "source": [
    "Очень часто в математических операциях требуется выполнять транспонирование матриц и векторов, то есть, заменять строки на столбцы. Например, если имеется матрица (двумерный массив): "
   ]
  },
  {
   "cell_type": "code",
   "execution_count": 23,
   "metadata": {},
   "outputs": [
    {
     "data": {
      "text/plain": [
       "array([[ 1,  2,  3],\n",
       "       [ 1,  4,  9],\n",
       "       [ 1,  8, 27]])"
      ]
     },
     "execution_count": 23,
     "metadata": {},
     "output_type": "execute_result"
    }
   ],
   "source": [
    "a = np.array([(1, 2, 3), (1, 4, 9), (1, 8, 27)])\n",
    "a"
   ]
  },
  {
   "cell_type": "markdown",
   "metadata": {},
   "source": [
    "то операция транспонирования может быть реализована так: "
   ]
  },
  {
   "cell_type": "code",
   "execution_count": 24,
   "metadata": {},
   "outputs": [
    {
     "data": {
      "text/plain": [
       "array([[ 1,  1,  1],\n",
       "       [ 2,  4,  8],\n",
       "       [ 3,  9, 27]])"
      ]
     },
     "execution_count": 24,
     "metadata": {},
     "output_type": "execute_result"
    }
   ],
   "source": [
    "b = a.T\n",
    "b"
   ]
  },
  {
   "cell_type": "markdown",
   "metadata": {},
   "source": [
    "Обратите внимание, мы здесь создаем лишь новое представление тех же самых данных массива a. И изменение элементов в массиве b: "
   ]
  },
  {
   "cell_type": "code",
   "execution_count": 25,
   "metadata": {},
   "outputs": [],
   "source": [
    "b[0, 1] = 10"
   ]
  },
  {
   "cell_type": "markdown",
   "metadata": {},
   "source": [
    "приведет к соответствующему изменению значения элемента и массива a. Это следует помнить, используя операцию транспонирования.\n",
    "\n",
    "Транспонирование векторов работает несколько иначе. Предположим, имеется одномерный массив: "
   ]
  },
  {
   "cell_type": "code",
   "execution_count": 26,
   "metadata": {},
   "outputs": [
    {
     "data": {
      "text/plain": [
       "array([1, 2, 3, 4, 5, 6, 7, 8, 9])"
      ]
     },
     "execution_count": 26,
     "metadata": {},
     "output_type": "execute_result"
    }
   ],
   "source": [
    "x = np.arange(1, 10)\n",
    "x"
   ]
  },
  {
   "cell_type": "markdown",
   "metadata": {},
   "source": [
    "и мы выполняем операцию транспонирования: "
   ]
  },
  {
   "cell_type": "code",
   "execution_count": 27,
   "metadata": {},
   "outputs": [
    {
     "data": {
      "text/plain": [
       "array([1, 2, 3, 4, 5, 6, 7, 8, 9])"
      ]
     },
     "execution_count": 27,
     "metadata": {},
     "output_type": "execute_result"
    }
   ],
   "source": [
    "x.T\n",
    "x"
   ]
  },
  {
   "cell_type": "markdown",
   "metadata": {},
   "source": [
    "В результате ничего не изменилось: вектор как был строкой, так строкой и остался. Почему? Дело в том, что массив x имеет только одну размерность, поэтому здесь нет понятия строк и столбцов. Соответственно, операция транспонирования ни к чему не приводит. Чтобы получить ожидаемый эффект, нужно добавить к массиву еще одну ось, например, так: "
   ]
  },
  {
   "cell_type": "code",
   "execution_count": 28,
   "metadata": {},
   "outputs": [],
   "source": [
    "x.shape = 1, -1"
   ]
  },
  {
   "cell_type": "markdown",
   "metadata": {},
   "source": [
    "И теперь, при транспонировании получим вектор-столбец: "
   ]
  },
  {
   "cell_type": "code",
   "execution_count": 29,
   "metadata": {},
   "outputs": [
    {
     "name": "stdout",
     "output_type": "stream",
     "text": [
      "[[1]\n",
      " [2]\n",
      " [3]\n",
      " [4]\n",
      " [5]\n",
      " [6]\n",
      " [7]\n",
      " [8]\n",
      " [9]]\n",
      "[[1 2 3 4 5 6 7 8 9]]\n"
     ]
    }
   ],
   "source": [
    "print(x.T)\n",
    "print(x)"
   ]
  },
  {
   "cell_type": "markdown",
   "metadata": {},
   "source": [
    "# Операции с индексами"
   ]
  },
  {
   "cell_type": "markdown",
   "metadata": {},
   "source": [
    "Оперативная память компьютера линейна, и поэтому даже многомерные массивы, на самом деле являются некоторыми линейными структурами, над которыми существуют система индексов, говорящих как именно читать этот линейный блок. Проведение операций над индексами в большистве случаев эффективно и поэтому операции смены размерности массива или транспонирования выполняются быстро"
   ]
  },
  {
   "cell_type": "code",
   "execution_count": 30,
   "metadata": {},
   "outputs": [
    {
     "name": "stdout",
     "output_type": "stream",
     "text": [
      "[[1 3]\n",
      " [2 4]]\n"
     ]
    }
   ],
   "source": [
    "import numpy as np\n",
    "\n",
    "a = np.asarray([[1,2], [3,4]])\n",
    "b = a.T # Транспонированый массив\n",
    "print(b)"
   ]
  },
  {
   "cell_type": "code",
   "execution_count": 31,
   "metadata": {},
   "outputs": [
    {
     "name": "stdout",
     "output_type": "stream",
     "text": [
      "[[10  3]\n",
      " [ 2  4]]\n"
     ]
    }
   ],
   "source": [
    "b[0,0] = 10\n",
    "print(b)"
   ]
  },
  {
   "cell_type": "code",
   "execution_count": 32,
   "metadata": {},
   "outputs": [
    {
     "name": "stdout",
     "output_type": "stream",
     "text": [
      "[[10  2]\n",
      " [ 3  4]]\n"
     ]
    }
   ],
   "source": [
    "print(a)"
   ]
  },
  {
   "cell_type": "code",
   "execution_count": 33,
   "metadata": {},
   "outputs": [
    {
     "data": {
      "text/plain": [
       "array([[11,  3],\n",
       "       [ 2,  4]])"
      ]
     },
     "execution_count": 33,
     "metadata": {},
     "output_type": "execute_result"
    }
   ],
   "source": [
    "b[0][0] = 11\n",
    "b"
   ]
  },
  {
   "cell_type": "markdown",
   "metadata": {},
   "source": [
    "Как мы видим при изменени переменной b изменилась переменная a. Это произошло потому, что обе эти переменные использубют один и тот же кусок памяти, но по разному."
   ]
  },
  {
   "cell_type": "markdown",
   "metadata": {},
   "source": [
    "# Добавление и удаление осей"
   ]
  },
  {
   "cell_type": "markdown",
   "metadata": {},
   "source": [
    "Часто при работе с массивами NumPy требуется добавлять новые оси измерений и удалять существующие. Есть множество способов выполнять эти операции, но мы рассмотрим два наиболее распространенных с помощью функций:\n",
    "\n",
    "    np.expand_dims(a, axis) – добавление новой оси;\n",
    "    np.squeeze(a[, axis]) – удаление оси (без удаления элементов). \n",
    "\n",
    "Давайте предположим, что у нас имеется некий многомерный массив: "
   ]
  },
  {
   "cell_type": "code",
   "execution_count": 34,
   "metadata": {},
   "outputs": [],
   "source": [
    "x_test = np.arange(32).reshape(8, 2, 2) # массив 8x2x2"
   ]
  },
  {
   "cell_type": "markdown",
   "metadata": {},
   "source": [
    "И нам потребовалось добавить еще одно измерение (ось), причем, в самое начало, то есть, ось axis0. Сейчас на этой оси 8 элементов – матриц 2x2, но мы хотим сделать четырехмерный массив, сохранив остальные три оси и их данные без изменений. Как раз это достаточно просто сделать с помощью функции expand_dims, следующим образом: "
   ]
  },
  {
   "cell_type": "code",
   "execution_count": 35,
   "metadata": {},
   "outputs": [],
   "source": [
    "x_test4 = np.expand_dims(x_test, axis=0)"
   ]
  },
  {
   "cell_type": "markdown",
   "metadata": {},
   "source": [
    "Обращаясь к свойству shape: "
   ]
  },
  {
   "cell_type": "markdown",
   "metadata": {},
   "source": [
    "x_test4.shape"
   ]
  },
  {
   "cell_type": "markdown",
   "metadata": {},
   "source": [
    "Видим, что массив стал четырехмерным и первая добавленная ось axis0 содержит один элемент – трехмерный массив 8x2x2. При необходимости, мы всегда можем добавить новый элемент на эту ось: "
   ]
  },
  {
   "cell_type": "code",
   "execution_count": 36,
   "metadata": {},
   "outputs": [
    {
     "data": {
      "text/plain": [
       "array([[[[ 0,  1],\n",
       "         [ 2,  3]],\n",
       "\n",
       "        [[ 4,  5],\n",
       "         [ 6,  7]],\n",
       "\n",
       "        [[ 8,  9],\n",
       "         [10, 11]],\n",
       "\n",
       "        [[12, 13],\n",
       "         [14, 15]],\n",
       "\n",
       "        [[16, 17],\n",
       "         [18, 19]],\n",
       "\n",
       "        [[20, 21],\n",
       "         [22, 23]],\n",
       "\n",
       "        [[24, 25],\n",
       "         [26, 27]],\n",
       "\n",
       "        [[28, 29],\n",
       "         [30, 31]]],\n",
       "\n",
       "\n",
       "       [[[ 0,  1],\n",
       "         [ 2,  3]],\n",
       "\n",
       "        [[ 4,  5],\n",
       "         [ 6,  7]],\n",
       "\n",
       "        [[ 8,  9],\n",
       "         [10, 11]],\n",
       "\n",
       "        [[12, 13],\n",
       "         [14, 15]],\n",
       "\n",
       "        [[16, 17],\n",
       "         [18, 19]],\n",
       "\n",
       "        [[20, 21],\n",
       "         [22, 23]],\n",
       "\n",
       "        [[24, 25],\n",
       "         [26, 27]],\n",
       "\n",
       "        [[28, 29],\n",
       "         [30, 31]]]])"
      ]
     },
     "execution_count": 36,
     "metadata": {},
     "output_type": "execute_result"
    }
   ],
   "source": [
    "a = np.append(x_test4, x_test4, axis=0) # размерность (2, 8, 2, 2)\n",
    "a"
   ]
  },
  {
   "cell_type": "markdown",
   "metadata": {},
   "source": [
    "или удалить ненужные элементы: "
   ]
  },
  {
   "cell_type": "code",
   "execution_count": 37,
   "metadata": {},
   "outputs": [
    {
     "data": {
      "text/plain": [
       "array([[[[ 0,  1],\n",
       "         [ 2,  3]],\n",
       "\n",
       "        [[ 4,  5],\n",
       "         [ 6,  7]],\n",
       "\n",
       "        [[ 8,  9],\n",
       "         [10, 11]],\n",
       "\n",
       "        [[12, 13],\n",
       "         [14, 15]],\n",
       "\n",
       "        [[16, 17],\n",
       "         [18, 19]],\n",
       "\n",
       "        [[20, 21],\n",
       "         [22, 23]],\n",
       "\n",
       "        [[24, 25],\n",
       "         [26, 27]],\n",
       "\n",
       "        [[28, 29],\n",
       "         [30, 31]]]])"
      ]
     },
     "execution_count": 37,
     "metadata": {},
     "output_type": "execute_result"
    }
   ],
   "source": [
    "b = np.delete(a, 0, axis=0) # размерность (1, 8, 2, 2)\n",
    "b"
   ]
  },
  {
   "cell_type": "markdown",
   "metadata": {},
   "source": [
    "Здесь второй параметр 0 – индекс удаляемого элемента на оси axis0.\n",
    "\n",
    "Если нам нужно добавить последнюю ось в массиве, то для этого можно записать такую команду: "
   ]
  },
  {
   "cell_type": "code",
   "execution_count": 38,
   "metadata": {},
   "outputs": [],
   "source": [
    "b = np.expand_dims(x_test4, axis=-1) # размерность (1, 8, 2, 2, 1)"
   ]
  },
  {
   "cell_type": "markdown",
   "metadata": {},
   "source": [
    "Отрицательный индекс -1 – это следующая с конца ось. Если указать индекс -2, то добавится предпоследняя ось и так далее. Отрицательные индексы очень удобно использовать при работе с массивами произвольных размерностей.\n",
    "\n",
    "Следующая функция squeeze позволяет удалить все оси с одним элементом. Например, строчка: "
   ]
  },
  {
   "cell_type": "code",
   "execution_count": 39,
   "metadata": {},
   "outputs": [
    {
     "data": {
      "text/plain": [
       "array([[[ 0,  1],\n",
       "        [ 2,  3]],\n",
       "\n",
       "       [[ 4,  5],\n",
       "        [ 6,  7]],\n",
       "\n",
       "       [[ 8,  9],\n",
       "        [10, 11]],\n",
       "\n",
       "       [[12, 13],\n",
       "        [14, 15]],\n",
       "\n",
       "       [[16, 17],\n",
       "        [18, 19]],\n",
       "\n",
       "       [[20, 21],\n",
       "        [22, 23]],\n",
       "\n",
       "       [[24, 25],\n",
       "        [26, 27]],\n",
       "\n",
       "       [[28, 29],\n",
       "        [30, 31]]])"
      ]
     },
     "execution_count": 39,
     "metadata": {},
     "output_type": "execute_result"
    }
   ],
   "source": [
    "c = np.squeeze(b) # размерность (8, 2, 2)\n",
    "c"
   ]
  },
  {
   "cell_type": "markdown",
   "metadata": {},
   "source": [
    "превращает массив размерностью (1, 8, 2, 2) в массив размерностью (8, 2, 2). При необходимости, дополнительно мы можем самостоятельно указать оси, которые следует удалять, например, так: "
   ]
  },
  {
   "cell_type": "code",
   "execution_count": 40,
   "metadata": {},
   "outputs": [],
   "source": [
    "c = np.squeeze(b, axis=0) # удалит только ось axis0, не затронув другие"
   ]
  },
  {
   "cell_type": "markdown",
   "metadata": {},
   "source": [
    "Но, если указать ось с числом элементов больше 1, то возникнет ошибка: "
   ]
  },
  {
   "cell_type": "code",
   "execution_count": 41,
   "metadata": {},
   "outputs": [
    {
     "ename": "ValueError",
     "evalue": "cannot select an axis to squeeze out which has size not equal to one",
     "output_type": "error",
     "traceback": [
      "\u001b[0;31m---------------------------------------------------------------------------\u001b[0m",
      "\u001b[0;31mValueError\u001b[0m                                Traceback (most recent call last)",
      "\u001b[0;32m/tmp/ipykernel_4875/129786531.py\u001b[0m in \u001b[0;36m<module>\u001b[0;34m\u001b[0m\n\u001b[0;32m----> 1\u001b[0;31m \u001b[0mc\u001b[0m \u001b[0;34m=\u001b[0m \u001b[0mnp\u001b[0m\u001b[0;34m.\u001b[0m\u001b[0msqueeze\u001b[0m\u001b[0;34m(\u001b[0m\u001b[0mb\u001b[0m\u001b[0;34m,\u001b[0m \u001b[0maxis\u001b[0m\u001b[0;34m=\u001b[0m\u001b[0;36m1\u001b[0m\u001b[0;34m)\u001b[0m \u001b[0;31m# ошибка, на оси axis1 8 элементов\u001b[0m\u001b[0;34m\u001b[0m\u001b[0;34m\u001b[0m\u001b[0m\n\u001b[0m",
      "\u001b[0;32m<__array_function__ internals>\u001b[0m in \u001b[0;36msqueeze\u001b[0;34m(*args, **kwargs)\u001b[0m\n",
      "\u001b[0;32m/opt/rh/rh-python38/root/usr/local/lib64/python3.8/site-packages/numpy/core/fromnumeric.py\u001b[0m in \u001b[0;36msqueeze\u001b[0;34m(a, axis)\u001b[0m\n\u001b[1;32m   1506\u001b[0m         \u001b[0;32mreturn\u001b[0m \u001b[0msqueeze\u001b[0m\u001b[0;34m(\u001b[0m\u001b[0;34m)\u001b[0m\u001b[0;34m\u001b[0m\u001b[0;34m\u001b[0m\u001b[0m\n\u001b[1;32m   1507\u001b[0m     \u001b[0;32melse\u001b[0m\u001b[0;34m:\u001b[0m\u001b[0;34m\u001b[0m\u001b[0;34m\u001b[0m\u001b[0m\n\u001b[0;32m-> 1508\u001b[0;31m         \u001b[0;32mreturn\u001b[0m \u001b[0msqueeze\u001b[0m\u001b[0;34m(\u001b[0m\u001b[0maxis\u001b[0m\u001b[0;34m=\u001b[0m\u001b[0maxis\u001b[0m\u001b[0;34m)\u001b[0m\u001b[0;34m\u001b[0m\u001b[0;34m\u001b[0m\u001b[0m\n\u001b[0m\u001b[1;32m   1509\u001b[0m \u001b[0;34m\u001b[0m\u001b[0m\n\u001b[1;32m   1510\u001b[0m \u001b[0;34m\u001b[0m\u001b[0m\n",
      "\u001b[0;31mValueError\u001b[0m: cannot select an axis to squeeze out which has size not equal to one"
     ]
    }
   ],
   "source": [
    "c = np.squeeze(b, axis=1) # ошибка, на оси axis1 8 элементов"
   ]
  },
  {
   "cell_type": "markdown",
   "metadata": {},
   "source": [
    "В NumPy добавлять новые оси иногда удобнее с помощью специального объекта np.newaxis. Например, пусть у нас есть одномерный массив: "
   ]
  },
  {
   "cell_type": "code",
   "execution_count": 42,
   "metadata": {},
   "outputs": [
    {
     "data": {
      "text/plain": [
       "array([1, 2, 3, 4, 5, 6, 7, 8, 9])"
      ]
     },
     "execution_count": 42,
     "metadata": {},
     "output_type": "execute_result"
    }
   ],
   "source": [
    "a = np.arange(1, 10)\n",
    "a"
   ]
  },
  {
   "cell_type": "markdown",
   "metadata": {},
   "source": [
    "У него одна ось – одно измерение. Добавим еще одну ось, допустим, в начало. С помощью объекта np.newaxis это можно сделать так: "
   ]
  },
  {
   "cell_type": "code",
   "execution_count": 43,
   "metadata": {},
   "outputs": [
    {
     "name": "stdout",
     "output_type": "stream",
     "text": [
      "[[1 2 3 4 5 6 7 8 9]]\n"
     ]
    },
    {
     "data": {
      "text/plain": [
       "(1, 9)"
      ]
     },
     "execution_count": 43,
     "metadata": {},
     "output_type": "execute_result"
    }
   ],
   "source": [
    "b = a[np.newaxis, :] # добавление оси axis0\n",
    "print(b)\n",
    "b.shape # (1, 9)"
   ]
  },
  {
   "cell_type": "markdown",
   "metadata": {},
   "source": [
    "Или, можно прописать сразу две оси: "
   ]
  },
  {
   "cell_type": "code",
   "execution_count": 44,
   "metadata": {},
   "outputs": [
    {
     "name": "stdout",
     "output_type": "stream",
     "text": [
      "[[[1]\n",
      "  [2]\n",
      "  [3]\n",
      "  [4]\n",
      "  [5]\n",
      "  [6]\n",
      "  [7]\n",
      "  [8]\n",
      "  [9]]]\n"
     ]
    },
    {
     "data": {
      "text/plain": [
       "(1, 9, 1)"
      ]
     },
     "execution_count": 44,
     "metadata": {},
     "output_type": "execute_result"
    }
   ],
   "source": [
    "c = a[np.newaxis, :, np.newaxis]\n",
    "print(c)\n",
    "c.shape # (1, 9, 1)"
   ]
  },
  {
   "cell_type": "markdown",
   "metadata": {},
   "source": [
    "# Базовые математические операции над массивами"
   ]
  },
  {
   "cell_type": "markdown",
   "metadata": {},
   "source": [
    "Предположим, имеется обычный список и массив, созданный на его основе:"
   ]
  },
  {
   "cell_type": "code",
   "execution_count": 45,
   "metadata": {},
   "outputs": [],
   "source": [
    "lst = [1, 2, 3]\n",
    "a = np.array([1, 2, 3])"
   ]
  },
  {
   "cell_type": "markdown",
   "metadata": {},
   "source": [
    "Сейчас вы увидите принципиальную разницу между двумя этими объектами. Умножим их на число 2: "
   ]
  },
  {
   "cell_type": "code",
   "execution_count": 46,
   "metadata": {},
   "outputs": [
    {
     "data": {
      "text/plain": [
       "array([2, 4, 6])"
      ]
     },
     "execution_count": 46,
     "metadata": {},
     "output_type": "execute_result"
    }
   ],
   "source": [
    "lst*2\n",
    "a*2"
   ]
  },
  {
   "cell_type": "markdown",
   "metadata": {},
   "source": [
    "Видите, при умножении списка языка Python, он дублируется дважды, а при умножении на NumPy массив – каждый его элемент умножается математически на число 2. Если бы мы захотели то же самое реализовать непосредственно на Python, оперируя списками, то пришлось бы делать что-то вроде:"
   ]
  },
  {
   "cell_type": "code",
   "execution_count": 47,
   "metadata": {},
   "outputs": [
    {
     "data": {
      "text/plain": [
       "[2, 4, 6]"
      ]
     },
     "execution_count": 47,
     "metadata": {},
     "output_type": "execute_result"
    }
   ],
   "source": [
    "[x*2 for x in lst]"
   ]
  },
  {
   "cell_type": "markdown",
   "metadata": {},
   "source": [
    "Но выполнялась бы такая конструкция дольше, чем в случае с массивом NumPy. Именно благодаря удобству и скорости библиотека NumPy и приобрела свою популярность."
   ]
  },
  {
   "cell_type": "markdown",
   "metadata": {},
   "source": [
    "Пусть у нас задан тот же одномерный массив: "
   ]
  },
  {
   "cell_type": "code",
   "execution_count": 48,
   "metadata": {},
   "outputs": [],
   "source": [
    "a = np.array([1, 2, 3])"
   ]
  },
  {
   "cell_type": "markdown",
   "metadata": {},
   "source": [
    "Все указанные в таблице операции выполняются следующим образом: "
   ]
  },
  {
   "cell_type": "code",
   "execution_count": 49,
   "metadata": {},
   "outputs": [
    {
     "name": "stdout",
     "output_type": "stream",
     "text": [
      "[-1 -2 -3]\n",
      "[3 4 5]\n",
      "[3 4 5]\n",
      "[-2 -1  0]\n",
      "[ 5 10 15]\n",
      "[0.2 0.4 0.6]\n",
      "[0 1 1]\n",
      "[ 1  8 27]\n",
      "[1 0 1]\n"
     ]
    }
   ],
   "source": [
    "print(-a) # унарный минус\n",
    "print(a + 2) # сложение с числом\n",
    "print(2 + a)  # так тоже можно записывать\n",
    "print(a - 3) # вычитание с числом\n",
    "print(a * 5) # умножение на число\n",
    "print(a / 5)  # деление на число\n",
    "print(a // 2)  # целочисленное деление\n",
    "print(a ** 3)  # возведение в степень 3\n",
    "print(a % 2)  # вычисление по модулю 2"
   ]
  },
  {
   "cell_type": "markdown",
   "metadata": {},
   "source": [
    "Приоритеты этих операций такие же, что и при обычных математических вычислениях. А на выходе мы получаем новый массив с соответствующими значениями.\n",
    "\n",
    "Давайте теперь добавим еще один массив: "
   ]
  },
  {
   "cell_type": "code",
   "execution_count": 50,
   "metadata": {},
   "outputs": [],
   "source": [
    "b = np.array([3, 4, 5])"
   ]
  },
  {
   "cell_type": "markdown",
   "metadata": {},
   "source": [
    "и посмотрим на эти же операции, но с участием двух массивов:"
   ]
  },
  {
   "cell_type": "code",
   "execution_count": 51,
   "metadata": {},
   "outputs": [
    {
     "name": "stdout",
     "output_type": "stream",
     "text": [
      "[-2 -2 -2]\n",
      "[4 6 8]\n",
      "[ 3  8 15]\n",
      "[3.         2.         1.66666667]\n",
      "[3 2 1]\n",
      "[  3  16 125]\n",
      "[0 0 2]\n"
     ]
    }
   ],
   "source": [
    "print(a - b)\n",
    "print(b + a)\n",
    "print(a * b)\n",
    "print(b / a)\n",
    "print(b // a)\n",
    "print(b ** a)\n",
    "print(b % a)"
   ]
  },
  {
   "cell_type": "markdown",
   "metadata": {},
   "source": [
    "Везде мы видим поэлементные операции. Соответственно, чтобы они выполнялись, массивы должны быть согласованы по длине. Например, если взять массив: "
   ]
  },
  {
   "cell_type": "code",
   "execution_count": 52,
   "metadata": {},
   "outputs": [],
   "source": [
    "b = np.array([3, 4, 5, 6])"
   ]
  },
  {
   "cell_type": "markdown",
   "metadata": {},
   "source": [
    "и выполнить операцию: "
   ]
  },
  {
   "cell_type": "code",
   "execution_count": 53,
   "metadata": {},
   "outputs": [
    {
     "ename": "ValueError",
     "evalue": "operands could not be broadcast together with shapes (3,) (4,) ",
     "output_type": "error",
     "traceback": [
      "\u001b[0;31m---------------------------------------------------------------------------\u001b[0m",
      "\u001b[0;31mValueError\u001b[0m                                Traceback (most recent call last)",
      "\u001b[0;32m/tmp/ipykernel_4875/557321716.py\u001b[0m in \u001b[0;36m<module>\u001b[0;34m\u001b[0m\n\u001b[0;32m----> 1\u001b[0;31m \u001b[0ma\u001b[0m \u001b[0;34m+\u001b[0m \u001b[0mb\u001b[0m  \u001b[0;31m# ошибка: длины массивов не совпадают\u001b[0m\u001b[0;34m\u001b[0m\u001b[0;34m\u001b[0m\u001b[0m\n\u001b[0m",
      "\u001b[0;31mValueError\u001b[0m: operands could not be broadcast together with shapes (3,) (4,) "
     ]
    }
   ],
   "source": [
    "a + b  # ошибка: длины массивов не совпадают"
   ]
  },
  {
   "cell_type": "markdown",
   "metadata": {},
   "source": [
    "то возникнет ошибка из-за несовпадения длин массивов. Но вот такая операция с двумерным массивом b сработает: "
   ]
  },
  {
   "cell_type": "code",
   "execution_count": 54,
   "metadata": {},
   "outputs": [
    {
     "data": {
      "text/plain": [
       "array([[2, 4, 6],\n",
       "       [5, 7, 9]])"
      ]
     },
     "execution_count": 54,
     "metadata": {},
     "output_type": "execute_result"
    }
   ],
   "source": [
    "b = np.arange(1, 7)\n",
    "b.resize(2, 3)\n",
    "a + b"
   ]
  },
  {
   "cell_type": "markdown",
   "metadata": {},
   "source": [
    "В этом случае массив a будет применен к каждой строке массива b. Такое поведение получило название транслирование массивов."
   ]
  },
  {
   "cell_type": "markdown",
   "metadata": {},
   "source": [
    "Все рассмотренные операции можно распространить и на многомерные массивы, главное, чтобы они были согласованы по размерам. Я приведу два небольших примера, так как думаю, общий принцип здесь понятен. Пусть у нас трехмерный и двумерный массивы: "
   ]
  },
  {
   "cell_type": "code",
   "execution_count": 55,
   "metadata": {},
   "outputs": [],
   "source": [
    "a = np.arange(1, 19)\n",
    "a.resize(3, 3, 2)\n",
    "b = np.ones((3, 2))"
   ]
  },
  {
   "cell_type": "markdown",
   "metadata": {},
   "source": [
    "С ними можно выполнять такие операции:"
   ]
  },
  {
   "cell_type": "code",
   "execution_count": 56,
   "metadata": {},
   "outputs": [
    {
     "name": "stdout",
     "output_type": "stream",
     "text": [
      "[[[ 0.  1.]\n",
      "  [ 2.  3.]\n",
      "  [ 4.  5.]]\n",
      "\n",
      " [[ 6.  7.]\n",
      "  [ 8.  9.]\n",
      "  [10. 11.]]\n",
      "\n",
      " [[12. 13.]\n",
      "  [14. 15.]\n",
      "  [16. 17.]]]\n",
      "[[[ 10  20]\n",
      "  [ 30  40]\n",
      "  [ 50  60]]\n",
      "\n",
      " [[ 70  80]\n",
      "  [ 90 100]\n",
      "  [110 120]]\n",
      "\n",
      " [[130 140]\n",
      "  [150 160]\n",
      "  [170 180]]]\n",
      "[[[ 1.  2.]\n",
      "  [ 3.  4.]\n",
      "  [ 5.  6.]]\n",
      "\n",
      " [[ 7.  8.]\n",
      "  [ 9. 10.]\n",
      "  [11. 12.]]\n",
      "\n",
      " [[13. 14.]\n",
      "  [15. 16.]\n",
      "  [17. 18.]]]\n"
     ]
    }
   ],
   "source": [
    "print(a - b)\n",
    "print(a * 10)\n",
    "print(a // b)"
   ]
  },
  {
   "cell_type": "markdown",
   "metadata": {},
   "source": [
    "Если нам нужно произвести какие-либо математические операции с массивом и изменения сохранить в нем же, то удобно использовать сокращенные записи."
   ]
  },
  {
   "cell_type": "code",
   "execution_count": 57,
   "metadata": {},
   "outputs": [],
   "source": [
    "a = np.array([1, 2, 6, 8])\n",
    "a += 5\n",
    "b = np.ones(4)\n",
    "b *= a"
   ]
  },
  {
   "cell_type": "markdown",
   "metadata": {},
   "source": [
    "# Элементы линейной алгебры"
   ]
  },
  {
   "cell_type": "markdown",
   "metadata": {},
   "source": [
    "**Упражнение 1**\n",
    "\n",
    "Создайте два вектора.\n",
    "\n",
    "Найдите в документации numpy функции **dot** и **inner** вычислите скалярное произведение векторов."
   ]
  },
  {
   "cell_type": "code",
   "execution_count": 78,
   "metadata": {},
   "outputs": [
    {
     "data": {
      "text/plain": [
       "32"
      ]
     },
     "execution_count": 78,
     "metadata": {},
     "output_type": "execute_result"
    }
   ],
   "source": [
    "x = np.array([1, 2, 3])\n",
    "y = np.array([4, 5, 6])\n",
    "np.dot (x, y)"
   ]
  },
  {
   "cell_type": "markdown",
   "metadata": {},
   "source": [
    "**Упражнение 2**\n",
    "\n",
    "Создайте две матрицы (двумерных массива).\n",
    "\n",
    "Найдите в документации numpy функции **dot** и **matmul** и с помощью этих функций вычислите произведение двух матриц.\n",
    "\n",
    "Создайте диагональную единичную матрицу и выполните умножение одной из предыдущих матриц на единичную матрицу."
   ]
  },
  {
   "cell_type": "code",
   "execution_count": 79,
   "metadata": {},
   "outputs": [
    {
     "data": {
      "text/plain": [
       "array([[1., 1., 1.],\n",
       "       [2., 2., 2.],\n",
       "       [3., 3., 3.]])"
      ]
     },
     "execution_count": 79,
     "metadata": {},
     "output_type": "execute_result"
    }
   ],
   "source": [
    "p = np.array([[1, 1, 1], [2, 2, 2], [3, 3, 3]])\n",
    "q = np.array([[8, 7, 6], [5, 5, 5], [4, 4, 4]])\n",
    "e = np.eye(3, 3)\n",
    "w = np.matmul(p, q)\n",
    "w2 = np.matmul(p, e)\n",
    "w2"
   ]
  },
  {
   "cell_type": "markdown",
   "metadata": {},
   "source": [
    "Вычисление нормы вектора:"
   ]
  },
  {
   "cell_type": "code",
   "execution_count": 80,
   "metadata": {},
   "outputs": [
    {
     "data": {
      "text/plain": [
       "10.14889156509222"
      ]
     },
     "execution_count": 80,
     "metadata": {},
     "output_type": "execute_result"
    }
   ],
   "source": [
    "b = np.array([0, 2, 3, 4, 5, 7])\n",
    "d = np.linalg.norm(b)\n",
    "d"
   ]
  },
  {
   "cell_type": "markdown",
   "metadata": {},
   "source": [
    "**Упражнение 3**\n",
    "\n",
    "Вычислите норму матрицы с помощью функции **np.linalg.norm**."
   ]
  },
  {
   "cell_type": "code",
   "execution_count": 81,
   "metadata": {},
   "outputs": [
    {
     "data": {
      "text/plain": [
       "6.48074069840786"
      ]
     },
     "execution_count": 81,
     "metadata": {},
     "output_type": "execute_result"
    }
   ],
   "source": [
    "np.linalg.norm(p)"
   ]
  },
  {
   "cell_type": "markdown",
   "metadata": {},
   "source": [
    "**Упражнение 4**\n",
    "\n",
    "Вычислите косинус угла между векторами: $\\normalsize cos\\alpha = \\frac{a*b}{\\|a\\|*\\|b\\|}$"
   ]
  },
  {
   "cell_type": "code",
   "execution_count": 82,
   "metadata": {},
   "outputs": [
    {
     "data": {
      "text/plain": [
       "0.9746318461970762"
      ]
     },
     "execution_count": 82,
     "metadata": {},
     "output_type": "execute_result"
    }
   ],
   "source": [
    "np.dot(x, y)/(np.linalg.norm(x))/(np.linalg.norm(y))"
   ]
  },
  {
   "cell_type": "markdown",
   "metadata": {},
   "source": [
    "____________________________________________________________________________________________________________________\n",
    "Вычисление определителя матрицы:"
   ]
  },
  {
   "cell_type": "code",
   "execution_count": 83,
   "metadata": {},
   "outputs": [
    {
     "name": "stdout",
     "output_type": "stream",
     "text": [
      "[[-4 -1  2]\n",
      " [10  4 -1]\n",
      " [ 8  3  1]]\n",
      "-14.000000000000009\n"
     ]
    }
   ],
   "source": [
    "A = np.matrix('-4 -1 2; 10 4 -1; 8 3 1') # еще один способ для создания матрицы\n",
    "print(A)\n",
    "d = np.linalg.det(A)\n",
    "print(d)"
   ]
  },
  {
   "cell_type": "markdown",
   "metadata": {},
   "source": [
    "**Упражнение 5**\n",
    "\n",
    "Транспонируйте матрицу, вычислите определитель. Отличается ли определитель транспонированной матрицы от определителя исходной матрицы?\n",
    "\n",
    "Замените одну из строк матрицы на строку из нулей, вычислите определитель матрицы.\n",
    "\n",
    "Создайте матрицу, у которой две строки переставлены местами по сравнению с исходной матрицей, вычислите определитель новой матрицы.\n",
    "\n",
    "Создайте матрицу с двумя одинаковыми строками, вычислите ее определитель.\n",
    "\n",
    "Умножьте одну из строк исходной матрицы на число, вычислите определитель.\n",
    "\n",
    "Прибавьте к элементам одной строки прибавить элементы другой строки, умноженные на одно и тоже число, вычтслите определитель."
   ]
  },
  {
   "cell_type": "code",
   "execution_count": 122,
   "metadata": {},
   "outputs": [
    {
     "name": "stdout",
     "output_type": "stream",
     "text": [
      "-2.0000000000000004 -2.0\n",
      "0.0\n",
      "0.0\n",
      "0.0\n",
      "-10.000000000000002\n",
      "-9.999999999999993\n"
     ]
    }
   ],
   "source": [
    "matrix = np.array([[1, 2], [3, 4]]) #транспонирование\n",
    "m = matrix.T\n",
    "d1 = np.linalg.det(matrix)\n",
    "d2 = np.linalg.det(m)\n",
    "print(d1, d2)\n",
    "m[0] = [0, 0] #замена строки на нулевую\n",
    "print(np.linalg.det(m))\n",
    "n = [i for i in m[1]] #строки меняем местами\n",
    "m[1] = m[0]\n",
    "m[0] = n\n",
    "print(np.linalg.det(m))\n",
    "m3 = np.array([[3, 4], [3, 4]]) #матрица с одинаковыми строками\n",
    "print(np.linalg.det(m3))\n",
    "matrix = np.array([[5, 10], [3, 4]]) #строка умножена на число\n",
    "print(np.linalg.det(matrix))\n",
    "matrix = np.array([[11, 18], [3, 4]]) #строка + вторая строка, умноженная на число\n",
    "print(np.linalg.det(matrix))"
   ]
  },
  {
   "cell_type": "markdown",
   "metadata": {},
   "source": [
    "# Построение графиков в matplotlib"
   ]
  },
  {
   "cell_type": "markdown",
   "metadata": {},
   "source": [
    "Построение графика по точкам:"
   ]
  },
  {
   "cell_type": "code",
   "execution_count": 101,
   "metadata": {},
   "outputs": [
    {
     "data": {
      "image/png": "[encoded data removed]",
      "text/plain": [
       "<Figure size 432x288 with 1 Axes>"
      ]
     },
     "metadata": {
      "needs_background": "light"
     },
     "output_type": "display_data"
    }
   ],
   "source": [
    "import matplotlib.pyplot as plt\n",
    "plt.plot([1, 2, 3, 4, 5], [1, 2, 3, 4, 5])\n",
    "plt.show()"
   ]
  },
  {
   "cell_type": "markdown",
   "metadata": {},
   "source": [
    "Для начала построим линейную зависимость, дадим нашему графику название, подпишем оси и отобразим сетку:"
   ]
  },
  {
   "cell_type": "code",
   "execution_count": 102,
   "metadata": {},
   "outputs": [
    {
     "data": {
      "text/plain": [
       "[<matplotlib.lines.Line2D at 0x7f0be03a3fa0>]"
      ]
     },
     "execution_count": 102,
     "metadata": {},
     "output_type": "execute_result"
    },
    {
     "data": {
      "image/png": "[encoded data removed]",
      "text/plain": [
       "<Figure size 432x288 with 1 Axes>"
      ]
     },
     "metadata": {
      "needs_background": "light"
     },
     "output_type": "display_data"
    }
   ],
   "source": [
    "import numpy as np\n",
    "# Независимая (x) и зависимая (y) переменные\n",
    "x = np.linspace(0, 10, 50)\n",
    "y = x\n",
    "\n",
    "# Построение графика\n",
    "plt.title(\"Линейная зависимость y = x\") # заголовок\n",
    "plt.xlabel(\"x\") # ось абсцисс\n",
    "plt.ylabel(\"y\") # ось ординат\n",
    "plt.grid()      # включение отображение сетки\n",
    "plt.plot(x, y)  # построение графика"
   ]
  },
  {
   "cell_type": "markdown",
   "metadata": {},
   "source": [
    "Изменим тип линии и ее цвет, для этого в функцию plot(), в качестве третьего параметра передадим строку, сформированную определенным образом, в нашем случае это “r–”, где “r” означает красный цвет, а “–” – тип линии – пунктирная линия."
   ]
  },
  {
   "cell_type": "code",
   "execution_count": 103,
   "metadata": {},
   "outputs": [
    {
     "data": {
      "text/plain": [
       "[<matplotlib.lines.Line2D at 0x7f0be0394e80>]"
      ]
     },
     "execution_count": 103,
     "metadata": {},
     "output_type": "execute_result"
    },
    {
     "data": {
      "image/png": "[encoded data removed]",
      "text/plain": [
       "<Figure size 432x288 with 1 Axes>"
      ]
     },
     "metadata": {
      "needs_background": "light"
     },
     "output_type": "display_data"
    }
   ],
   "source": [
    "# Построение графика\n",
    "plt.title(\"Линейная зависимость y = x\") # заголовок\n",
    "plt.xlabel(\"x\") # ось абсцисс\n",
    "plt.ylabel(\"y\") # ось ординат\n",
    "plt.grid()      # включение отображение сетки\n",
    "plt.plot(x, y, \"r--\")  # построение графика"
   ]
  },
  {
   "cell_type": "markdown",
   "metadata": {},
   "source": [
    "**Несколько графиков на одном поле**\n",
    "\n",
    "Построим несколько графиков на одном поле, для этого добавим квадратичную зависимость:"
   ]
  },
  {
   "cell_type": "code",
   "execution_count": 104,
   "metadata": {},
   "outputs": [
    {
     "data": {
      "text/plain": [
       "[<matplotlib.lines.Line2D at 0x7f0be02ffd00>,\n",
       " <matplotlib.lines.Line2D at 0x7f0be02ffd30>]"
      ]
     },
     "execution_count": 104,
     "metadata": {},
     "output_type": "execute_result"
    },
    {
     "data": {
      "image/png": "[encoded data removed]",
      "text/plain": [
       "<Figure size 432x288 with 1 Axes>"
      ]
     },
     "metadata": {
      "needs_background": "light"
     },
     "output_type": "display_data"
    }
   ],
   "source": [
    "# Линейная зависимость\n",
    "x = np.linspace(0, 10, 50)\n",
    "y1 = x\n",
    "# Квадратичная зависимость\n",
    "y2 = [i**2 for i in x]\n",
    "# Построение графика\n",
    "plt.title(\"Зависимости: y1 = x, y2 = x^2\") # заголовок\n",
    "plt.xlabel(\"x\")         # ось абсцисс\n",
    "plt.ylabel(\"y1, y2\")    # ось ординат\n",
    "plt.grid()              # включение отображение сетки\n",
    "plt.plot(x, y1, x, y2)  # построение графика"
   ]
  },
  {
   "cell_type": "markdown",
   "metadata": {},
   "source": [
    "В приведенном примере в функцию plot() последовательно передаются два массива для построения первого графика и два массива для построения второго, при этом, как вы можете заметить, для обоих графиков массив значений независимой переменной x один и то же."
   ]
  },
  {
   "cell_type": "markdown",
   "metadata": {},
   "source": [
    "**Несколько разделенных полей с графиками**\n",
    "\n",
    "Третья, довольно часто встречающаяся задача – это отобразить два или более различных поля, на которых будет отображено по одному или более графику.\n",
    "\n",
    "Построим уже известные нам две зависимость на разных полях."
   ]
  },
  {
   "cell_type": "code",
   "execution_count": 105,
   "metadata": {},
   "outputs": [
    {
     "data": {
      "image/png": "[encoded data removed]",
      "text/plain": [
       "<Figure size 648x648 with 2 Axes>"
      ]
     },
     "metadata": {
      "needs_background": "light"
     },
     "output_type": "display_data"
    }
   ],
   "source": [
    "# Линейная зависимость\n",
    "x = np.linspace(0, 10, 50)\n",
    "y1 = x\n",
    "# Квадратичная зависимость\n",
    "y2 = [i**2 for i in x]\n",
    "# Построение графиков\n",
    "plt.figure(figsize=(9, 9))\n",
    "plt.subplot(2, 1, 1)\n",
    "plt.plot(x, y1)               # построение графика\n",
    "plt.title(\"Зависимости: y1 = x, y2 = x^2\") # заголовок\n",
    "plt.ylabel(\"y1\", fontsize=14) # ось ординат\n",
    "plt.grid(True)                # включение отображение сетки\n",
    "plt.subplot(2, 1, 2)\n",
    "plt.plot(x, y2)               # построение графика\n",
    "plt.xlabel(\"x\", fontsize=14)  # ось абсцисс\n",
    "plt.ylabel(\"y2\", fontsize=14) # ось ординат\n",
    "plt.grid(True)                # включение отображение сетки"
   ]
  },
  {
   "cell_type": "markdown",
   "metadata": {},
   "source": [
    "Здесь мы воспользовались новыми функциями: \n",
    "\n",
    "figure() – функция для задания глобальных параметров отображения графиков. В нее, в качестве аргумента, мы передаем кортеж, определяющий размер общего поля. \n",
    "\n",
    "subplot() – функция для задания местоположения поля с графиком. Существует несколько способов задания областей для вывода через функцию subplot() мы воспользовались следующим: первый аргумент – количество строк, второй – столбцов в формируемом поле, третий – индекс (номер поля, считаем сверху вниз, слева направо).\n",
    "\n",
    "Дополнительно мы использовали параметр fontsize для функций xlabel() и ylabel(), для задания размера шрифта."
   ]
  },
  {
   "cell_type": "markdown",
   "metadata": {},
   "source": [
    "**Точечная диаграмма (scatter plot)**"
   ]
  },
  {
   "cell_type": "code",
   "execution_count": 106,
   "metadata": {},
   "outputs": [
    {
     "name": "stdout",
     "output_type": "stream",
     "text": [
      "x [0.87593148 0.86987788 0.39450989 0.37295243 0.84100822 0.06866119\n",
      " 0.43829078 0.6164703  0.94796416 0.20009428 0.39027043 0.53478342\n",
      " 0.83753955 0.71709798 0.44850095 0.82186672 0.01725102 0.65476577\n",
      " 0.57778598 0.67168046 0.38616158 0.77464718 0.62604003 0.25646847\n",
      " 0.23922816 0.32320337 0.60278761 0.52118256 0.0307638  0.4041814\n",
      " 0.73264741 0.53992673 0.04598524 0.60405963 0.76494871 0.19298914\n",
      " 0.24317514 0.75841636 0.84939448 0.5887785  0.83878376 0.95520883\n",
      " 0.6182687  0.52232784 0.96115051 0.6458812  0.2029184  0.3867655\n",
      " 0.05233291 0.72527202]\n",
      "y [0.1003646  0.0087824  0.98382184 0.98653453 0.46969711 0.37801114\n",
      " 0.94559271 0.5828015  0.36587573 0.69349732 0.68223317 0.5203867\n",
      " 0.66311188 0.22003615 0.95610233 0.471383   0.3525562  0.16629068\n",
      " 0.26928158 0.72186819 0.84224511 0.2668181  0.66274135 0.16975363\n",
      " 0.92680424 0.09266041 0.60036418 0.22792429 0.41964613 0.7517245\n",
      " 0.85648597 0.22869964 0.37728576 0.98044803 0.65827282 0.78006133\n",
      " 0.7660204  0.23432718 0.79354472 0.28155621 0.60679402 0.30504482\n",
      " 0.27213162 0.36768691 0.18213315 0.31930635 0.55981473 0.17293823\n",
      " 0.64495283 0.19118805]\n"
     ]
    },
    {
     "data": {
      "image/png": "[encoded data removed]",
      "text/plain": [
       "<Figure size 432x288 with 1 Axes>"
      ]
     },
     "metadata": {
      "needs_background": "light"
     },
     "output_type": "display_data"
    }
   ],
   "source": [
    "import numpy as np\n",
    "import matplotlib.pyplot as plt\n",
    "\n",
    "\n",
    "N = 50\n",
    "x = np.random.rand(N) # случайный вектор из 50 элементов\n",
    "print(\"x\", x)\n",
    "y = np.random.rand(N) # случайный вектор из 50 элементов\n",
    "print(\"y\", y)\n",
    "colors = np.random.rand(N) # случайный вектор из 50 элементов, чтобы задавать цвета каждой из точек\n",
    "area = (30 * np.random.rand(N))**2 # случайные площади каждой из точек\n",
    "\n",
    "plt.scatter(x, y, s=area, c=colors, alpha=0.5) # нанесение точек на диаграмму, x и y - координаты\n",
    "                                               # area - площади точек, colors - цвета точек\n",
    "                                               # alpha - значение прозрачности точек\n",
    "plt.show()"
   ]
  },
  {
   "cell_type": "markdown",
   "metadata": {},
   "source": [
    "**Пример с вычислением числа $\\pi$ с помощью метода Монте Карло и визуализация результатов**"
   ]
  },
  {
   "cell_type": "markdown",
   "metadata": {},
   "source": [
    "Переключим режим отображения графиков в notebook:"
   ]
  },
  {
   "cell_type": "code",
   "execution_count": 107,
   "metadata": {},
   "outputs": [],
   "source": [
    "%matplotlib notebook"
   ]
  },
  {
   "cell_type": "code",
   "execution_count": 108,
   "metadata": {},
   "outputs": [],
   "source": [
    "import matplotlib.pyplot as plt\n",
    "import numpy as np\n",
    "from matplotlib.axes import Axes\n",
    "from scipy.stats import norm\n",
    "\n",
    "class PiAnimation:\n",
    "    def __init__(self, ax: Axes, ax_pi: Axes, ax_gaus: Axes):\n",
    "        self.inner = 0\n",
    "        self.out = 0\n",
    "\n",
    "        self.xi, self.yi = [], []\n",
    "        self.xo, self.yo = [], []\n",
    "\n",
    "        ax.set_xlim(-1.0, 1.5)\n",
    "        ax.set_ylim(-1.0, 1.5)\n",
    "        ax.axis(\"off\")\n",
    "        ax.add_artist(plt.Circle((0.0, 0.0), 1, fill=False))\n",
    "        ax.add_artist(plt.Rectangle((-1, -1), 2, 2, fill=False))\n",
    "\n",
    "        self.line_i = ax.plot(self.xi, self.yi, \"ro\")[0]\n",
    "        self.line_o = ax.plot(self.xo, self.yo, \"bo\")[0]\n",
    "        self.text = ax.text(0.3, 1.1, \"\", fontdict={\"fontsize\": 32})\n",
    "        self.text_n = ax.text(-0.9, 1.1, \"\", fontdict={\"fontsize\": 32})\n",
    "\n",
    "        self.ax_pi = ax_pi\n",
    "        self.pi = []\n",
    "        self.pi_line = ax_pi.plot([], self.pi,\"-\")[0]\n",
    "        ax_pi.set_ylim(0, 2*np.pi)\n",
    "\n",
    "        self.ax_gaus = ax_gaus\n",
    "        self.gauss_point = np.linspace(0.5*np.pi, 1.5 * np.pi, 200)\n",
    "        self.gauss = ax_gaus.plot(self.gauss_point, np.zeros(200), \"\")[0]\n",
    "\n",
    "    def __call__(self, n):\n",
    "        x, y = 2*(np.random.random_sample(2) - 0.5)\n",
    "        if x ** 2 + y ** 2 <= 1:\n",
    "            self.inner += 1\n",
    "            self.xi.append(x)\n",
    "            self.yi.append(y)\n",
    "            self.line_i.set_data(self.xi, self.yi)\n",
    "        else:\n",
    "            self.out +=1\n",
    "            self.xo.append(x)\n",
    "            self.yo.append(y)\n",
    "            self.line_o.set_data(self.xo, self.yo)\n",
    "        N = self.inner + self.out\n",
    "        prob = self.inner/N\n",
    "        pi = 4*prob\n",
    "        self.pi.append(pi)\n",
    "        self.text.set_text(r\"$\\pi = {:.5}$\".format(pi))\n",
    "        self.text_n.set_text(\"N = {:5d}   \".format(N))\n",
    "\n",
    "        self.pi_line.set_data(range(N), self.pi)\n",
    "        self.ax_pi.relim()\n",
    "        self.ax_pi.autoscale()\n",
    "\n",
    "        mean, var = np.mean(self.pi), np.var(self.pi)\n",
    "\n",
    "        if N > 3:\n",
    "            self.gauss.set_data(self.gauss_point, norm.pdf(self.gauss_point, loc = mean, scale = var))\n",
    "            self.ax_gaus.relim()\n",
    "            self.ax_gaus.autoscale()\n",
    "        return self.line_i, self.line_o, self.text, self.text_n, self.pi_line, self.gauss"
   ]
  },
  {
   "cell_type": "code",
   "execution_count": 109,
   "metadata": {},
   "outputs": [
    {
     "data": {
      "application/javascript": [
       "/* Put everything inside the global mpl namespace */\n",
       "/* global mpl */\n",
       "window.mpl = {};\n",
       "\n",
       "mpl.get_websocket_type = function () {\n",
       "    if (typeof WebSocket !== 'undefined') {\n",
       "        return WebSocket;\n",
       "    } else if (typeof MozWebSocket !== 'undefined') {\n",
       "        return MozWebSocket;\n",
       "    } else {\n",
       "        alert(\n",
       "            'Your browser does not have WebSocket support. ' +\n",
       "                'Please try Chrome, Safari or Firefox ≥ 6. ' +\n",
       "                'Firefox 4 and 5 are also supported but you ' +\n",
       "                'have to enable WebSockets in about:config.'\n",
       "        );\n",
       "    }\n",
       "};\n",
       "\n",
       "mpl.figure = function (figure_id, websocket, ondownload, parent_element) {\n",
       "    this.id = figure_id;\n",
       "\n",
       "    this.ws = websocket;\n",
       "\n",
       "    this.supports_binary = this.ws.binaryType !== undefined;\n",
       "\n",
       "    if (!this.supports_binary) {\n",
       "        var warnings = document.getElementById('mpl-warnings');\n",
       "        if (warnings) {\n",
       "            warnings.style.display = 'block';\n",
       "            warnings.textContent =\n",
       "                'This browser does not support binary websocket messages. ' +\n",
       "                'Performance may be slow.';\n",
       "        }\n",
       "    }\n",
       "\n",
       "    this.imageObj = new Image();\n",
       "\n",
       "    this.context = undefined;\n",
       "    this.message = undefined;\n",
       "    this.canvas = undefined;\n",
       "    this.rubberband_canvas = undefined;\n",
       "    this.rubberband_context = undefined;\n",
       "    this.format_dropdown = undefined;\n",
       "\n",
       "    this.image_mode = 'full';\n",
       "\n",
       "    this.root = document.createElement('div');\n",
       "    this.root.setAttribute('style', 'display: inline-block');\n",
       "    this._root_extra_style(this.root);\n",
       "\n",
       "    parent_element.appendChild(this.root);\n",
       "\n",
       "    this._init_header(this);\n",
       "    this._init_canvas(this);\n",
       "    this._init_toolbar(this);\n",
       "\n",
       "    var fig = this;\n",
       "\n",
       "    this.waiting = false;\n",
       "\n",
       "    this.ws.onopen = function () {\n",
       "        fig.send_message('supports_binary', { value: fig.supports_binary });\n",
       "        fig.send_message('send_image_mode', {});\n",
       "        if (fig.ratio !== 1) {\n",
       "            fig.send_message('set_dpi_ratio', { dpi_ratio: fig.ratio });\n",
       "        }\n",
       "        fig.send_message('refresh', {});\n",
       "    };\n",
       "\n",
       "    this.imageObj.onload = function () {\n",
       "        if (fig.image_mode === 'full') {\n",
       "            // Full images could contain transparency (where diff images\n",
       "            // almost always do), so we need to clear the canvas so that\n",
       "            // there is no ghosting.\n",
       "            fig.context.clearRect(0, 0, fig.canvas.width, fig.canvas.height);\n",
       "        }\n",
       "        fig.context.drawImage(fig.imageObj, 0, 0);\n",
       "    };\n",
       "\n",
       "    this.imageObj.onunload = function () {\n",
       "        fig.ws.close();\n",
       "    };\n",
       "\n",
       "    this.ws.onmessage = this._make_on_message_function(this);\n",
       "\n",
       "    this.ondownload = ondownload;\n",
       "};\n",
       "\n",
       "mpl.figure.prototype._init_header = function () {\n",
       "    var titlebar = document.createElement('div');\n",
       "    titlebar.classList =\n",
       "        'ui-dialog-titlebar ui-widget-header ui-corner-all ui-helper-clearfix';\n",
       "    var titletext = document.createElement('div');\n",
       "    titletext.classList = 'ui-dialog-title';\n",
       "    titletext.setAttribute(\n",
       "        'style',\n",
       "        'width: 100%; text-align: center; padding: 3px;'\n",
       "    );\n",
       "    titlebar.appendChild(titletext);\n",
       "    this.root.appendChild(titlebar);\n",
       "    this.header = titletext;\n",
       "};\n",
       "\n",
       "mpl.figure.prototype._canvas_extra_style = function (_canvas_div) {};\n",
       "\n",
       "mpl.figure.prototype._root_extra_style = function (_canvas_div) {};\n",
       "\n",
       "mpl.figure.prototype._init_canvas = function () {\n",
       "    var fig = this;\n",
       "\n",
       "    var canvas_div = (this.canvas_div = document.createElement('div'));\n",
       "    canvas_div.setAttribute(\n",
       "        'style',\n",
       "        'border: 1px solid #ddd;' +\n",
       "            'box-sizing: content-box;' +\n",
       "            'clear: both;' +\n",
       "            'min-height: 1px;' +\n",
       "            'min-width: 1px;' +\n",
       "            'outline: 0;' +\n",
       "            'overflow: hidden;' +\n",
       "            'position: relative;' +\n",
       "            'resize: both;'\n",
       "    );\n",
       "\n",
       "    function on_keyboard_event_closure(name) {\n",
       "        return function (event) {\n",
       "            return fig.key_event(event, name);\n",
       "        };\n",
       "    }\n",
       "\n",
       "    canvas_div.addEventListener(\n",
       "        'keydown',\n",
       "        on_keyboard_event_closure('key_press')\n",
       "    );\n",
       "    canvas_div.addEventListener(\n",
       "        'keyup',\n",
       "        on_keyboard_event_closure('key_release')\n",
       "    );\n",
       "\n",
       "    this._canvas_extra_style(canvas_div);\n",
       "    this.root.appendChild(canvas_div);\n",
       "\n",
       "    var canvas = (this.canvas = document.createElement('canvas'));\n",
       "    canvas.classList.add('mpl-canvas');\n",
       "    canvas.setAttribute('style', 'box-sizing: content-box;');\n",
       "\n",
       "    this.context = canvas.getContext('2d');\n",
       "\n",
       "    var backingStore =\n",
       "        this.context.backingStorePixelRatio ||\n",
       "        this.context.webkitBackingStorePixelRatio ||\n",
       "        this.context.mozBackingStorePixelRatio ||\n",
       "        this.context.msBackingStorePixelRatio ||\n",
       "        this.context.oBackingStorePixelRatio ||\n",
       "        this.context.backingStorePixelRatio ||\n",
       "        1;\n",
       "\n",
       "    this.ratio = (window.devicePixelRatio || 1) / backingStore;\n",
       "\n",
       "    var rubberband_canvas = (this.rubberband_canvas = document.createElement(\n",
       "        'canvas'\n",
       "    ));\n",
       "    rubberband_canvas.setAttribute(\n",
       "        'style',\n",
       "        'box-sizing: content-box; position: absolute; left: 0; top: 0; z-index: 1;'\n",
       "    );\n",
       "\n",
       "    // Apply a ponyfill if ResizeObserver is not implemented by browser.\n",
       "    if (this.ResizeObserver === undefined) {\n",
       "        if (window.ResizeObserver !== undefined) {\n",
       "            this.ResizeObserver = window.ResizeObserver;\n",
       "        } else {\n",
       "            var obs = _JSXTOOLS_RESIZE_OBSERVER({});\n",
       "            this.ResizeObserver = obs.ResizeObserver;\n",
       "        }\n",
       "    }\n",
       "\n",
       "    this.resizeObserverInstance = new this.ResizeObserver(function (entries) {\n",
       "        var nentries = entries.length;\n",
       "        for (var i = 0; i < nentries; i++) {\n",
       "            var entry = entries[i];\n",
       "            var width, height;\n",
       "            if (entry.contentBoxSize) {\n",
       "                if (entry.contentBoxSize instanceof Array) {\n",
       "                    // Chrome 84 implements new version of spec.\n",
       "                    width = entry.contentBoxSize[0].inlineSize;\n",
       "                    height = entry.contentBoxSize[0].blockSize;\n",
       "                } else {\n",
       "                    // Firefox implements old version of spec.\n",
       "                    width = entry.contentBoxSize.inlineSize;\n",
       "                    height = entry.contentBoxSize.blockSize;\n",
       "                }\n",
       "            } else {\n",
       "                // Chrome <84 implements even older version of spec.\n",
       "                width = entry.contentRect.width;\n",
       "                height = entry.contentRect.height;\n",
       "            }\n",
       "\n",
       "            // Keep the size of the canvas and rubber band canvas in sync with\n",
       "            // the canvas container.\n",
       "            if (entry.devicePixelContentBoxSize) {\n",
       "                // Chrome 84 implements new version of spec.\n",
       "                canvas.setAttribute(\n",
       "                    'width',\n",
       "                    entry.devicePixelContentBoxSize[0].inlineSize\n",
       "                );\n",
       "                canvas.setAttribute(\n",
       "                    'height',\n",
       "                    entry.devicePixelContentBoxSize[0].blockSize\n",
       "                );\n",
       "            } else {\n",
       "                canvas.setAttribute('width', width * fig.ratio);\n",
       "                canvas.setAttribute('height', height * fig.ratio);\n",
       "            }\n",
       "            canvas.setAttribute(\n",
       "                'style',\n",
       "                'width: ' + width + 'px; height: ' + height + 'px;'\n",
       "            );\n",
       "\n",
       "            rubberband_canvas.setAttribute('width', width);\n",
       "            rubberband_canvas.setAttribute('height', height);\n",
       "\n",
       "            // And update the size in Python. We ignore the initial 0/0 size\n",
       "            // that occurs as the element is placed into the DOM, which should\n",
       "            // otherwise not happen due to the minimum size styling.\n",
       "            if (fig.ws.readyState == 1 && width != 0 && height != 0) {\n",
       "                fig.request_resize(width, height);\n",
       "            }\n",
       "        }\n",
       "    });\n",
       "    this.resizeObserverInstance.observe(canvas_div);\n",
       "\n",
       "    function on_mouse_event_closure(name) {\n",
       "        return function (event) {\n",
       "            return fig.mouse_event(event, name);\n",
       "        };\n",
       "    }\n",
       "\n",
       "    rubberband_canvas.addEventListener(\n",
       "        'mousedown',\n",
       "        on_mouse_event_closure('button_press')\n",
       "    );\n",
       "    rubberband_canvas.addEventListener(\n",
       "        'mouseup',\n",
       "        on_mouse_event_closure('button_release')\n",
       "    );\n",
       "    rubberband_canvas.addEventListener(\n",
       "        'dblclick',\n",
       "        on_mouse_event_closure('dblclick')\n",
       "    );\n",
       "    // Throttle sequential mouse events to 1 every 20ms.\n",
       "    rubberband_canvas.addEventListener(\n",
       "        'mousemove',\n",
       "        on_mouse_event_closure('motion_notify')\n",
       "    );\n",
       "\n",
       "    rubberband_canvas.addEventListener(\n",
       "        'mouseenter',\n",
       "        on_mouse_event_closure('figure_enter')\n",
       "    );\n",
       "    rubberband_canvas.addEventListener(\n",
       "        'mouseleave',\n",
       "        on_mouse_event_closure('figure_leave')\n",
       "    );\n",
       "\n",
       "    canvas_div.addEventListener('wheel', function (event) {\n",
       "        if (event.deltaY < 0) {\n",
       "            event.step = 1;\n",
       "        } else {\n",
       "            event.step = -1;\n",
       "        }\n",
       "        on_mouse_event_closure('scroll')(event);\n",
       "    });\n",
       "\n",
       "    canvas_div.appendChild(canvas);\n",
       "    canvas_div.appendChild(rubberband_canvas);\n",
       "\n",
       "    this.rubberband_context = rubberband_canvas.getContext('2d');\n",
       "    this.rubberband_context.strokeStyle = '#000000';\n",
       "\n",
       "    this._resize_canvas = function (width, height, forward) {\n",
       "        if (forward) {\n",
       "            canvas_div.style.width = width + 'px';\n",
       "            canvas_div.style.height = height + 'px';\n",
       "        }\n",
       "    };\n",
       "\n",
       "    // Disable right mouse context menu.\n",
       "    this.rubberband_canvas.addEventListener('contextmenu', function (_e) {\n",
       "        event.preventDefault();\n",
       "        return false;\n",
       "    });\n",
       "\n",
       "    function set_focus() {\n",
       "        canvas.focus();\n",
       "        canvas_div.focus();\n",
       "    }\n",
       "\n",
       "    window.setTimeout(set_focus, 100);\n",
       "};\n",
       "\n",
       "mpl.figure.prototype._init_toolbar = function () {\n",
       "    var fig = this;\n",
       "\n",
       "    var toolbar = document.createElement('div');\n",
       "    toolbar.classList = 'mpl-toolbar';\n",
       "    this.root.appendChild(toolbar);\n",
       "\n",
       "    function on_click_closure(name) {\n",
       "        return function (_event) {\n",
       "            return fig.toolbar_button_onclick(name);\n",
       "        };\n",
       "    }\n",
       "\n",
       "    function on_mouseover_closure(tooltip) {\n",
       "        return function (event) {\n",
       "            if (!event.currentTarget.disabled) {\n",
       "                return fig.toolbar_button_onmouseover(tooltip);\n",
       "            }\n",
       "        };\n",
       "    }\n",
       "\n",
       "    fig.buttons = {};\n",
       "    var buttonGroup = document.createElement('div');\n",
       "    buttonGroup.classList = 'mpl-button-group';\n",
       "    for (var toolbar_ind in mpl.toolbar_items) {\n",
       "        var name = mpl.toolbar_items[toolbar_ind][0];\n",
       "        var tooltip = mpl.toolbar_items[toolbar_ind][1];\n",
       "        var image = mpl.toolbar_items[toolbar_ind][2];\n",
       "        var method_name = mpl.toolbar_items[toolbar_ind][3];\n",
       "\n",
       "        if (!name) {\n",
       "            /* Instead of a spacer, we start a new button group. */\n",
       "            if (buttonGroup.hasChildNodes()) {\n",
       "                toolbar.appendChild(buttonGroup);\n",
       "            }\n",
       "            buttonGroup = document.createElement('div');\n",
       "            buttonGroup.classList = 'mpl-button-group';\n",
       "            continue;\n",
       "        }\n",
       "\n",
       "        var button = (fig.buttons[name] = document.createElement('button'));\n",
       "        button.classList = 'mpl-widget';\n",
       "        button.setAttribute('role', 'button');\n",
       "        button.setAttribute('aria-disabled', 'false');\n",
       "        button.addEventListener('click', on_click_closure(method_name));\n",
       "        button.addEventListener('mouseover', on_mouseover_closure(tooltip));\n",
       "\n",
       "        var icon_img = document.createElement('img');\n",
       "        icon_img.src = '_images/' + image + '.png';\n",
       "        icon_img.srcset = '_images/' + image + '_large.png 2x';\n",
       "        icon_img.alt = tooltip;\n",
       "        button.appendChild(icon_img);\n",
       "\n",
       "        buttonGroup.appendChild(button);\n",
       "    }\n",
       "\n",
       "    if (buttonGroup.hasChildNodes()) {\n",
       "        toolbar.appendChild(buttonGroup);\n",
       "    }\n",
       "\n",
       "    var fmt_picker = document.createElement('select');\n",
       "    fmt_picker.classList = 'mpl-widget';\n",
       "    toolbar.appendChild(fmt_picker);\n",
       "    this.format_dropdown = fmt_picker;\n",
       "\n",
       "    for (var ind in mpl.extensions) {\n",
       "        var fmt = mpl.extensions[ind];\n",
       "        var option = document.createElement('option');\n",
       "        option.selected = fmt === mpl.default_extension;\n",
       "        option.innerHTML = fmt;\n",
       "        fmt_picker.appendChild(option);\n",
       "    }\n",
       "\n",
       "    var status_bar = document.createElement('span');\n",
       "    status_bar.classList = 'mpl-message';\n",
       "    toolbar.appendChild(status_bar);\n",
       "    this.message = status_bar;\n",
       "};\n",
       "\n",
       "mpl.figure.prototype.request_resize = function (x_pixels, y_pixels) {\n",
       "    // Request matplotlib to resize the figure. Matplotlib will then trigger a resize in the client,\n",
       "    // which will in turn request a refresh of the image.\n",
       "    this.send_message('resize', { width: x_pixels, height: y_pixels });\n",
       "};\n",
       "\n",
       "mpl.figure.prototype.send_message = function (type, properties) {\n",
       "    properties['type'] = type;\n",
       "    properties['figure_id'] = this.id;\n",
       "    this.ws.send(JSON.stringify(properties));\n",
       "};\n",
       "\n",
       "mpl.figure.prototype.send_draw_message = function () {\n",
       "    if (!this.waiting) {\n",
       "        this.waiting = true;\n",
       "        this.ws.send(JSON.stringify({ type: 'draw', figure_id: this.id }));\n",
       "    }\n",
       "};\n",
       "\n",
       "mpl.figure.prototype.handle_save = function (fig, _msg) {\n",
       "    var format_dropdown = fig.format_dropdown;\n",
       "    var format = format_dropdown.options[format_dropdown.selectedIndex].value;\n",
       "    fig.ondownload(fig, format);\n",
       "};\n",
       "\n",
       "mpl.figure.prototype.handle_resize = function (fig, msg) {\n",
       "    var size = msg['size'];\n",
       "    if (size[0] !== fig.canvas.width || size[1] !== fig.canvas.height) {\n",
       "        fig._resize_canvas(size[0], size[1], msg['forward']);\n",
       "        fig.send_message('refresh', {});\n",
       "    }\n",
       "};\n",
       "\n",
       "mpl.figure.prototype.handle_rubberband = function (fig, msg) {\n",
       "    var x0 = msg['x0'] / fig.ratio;\n",
       "    var y0 = (fig.canvas.height - msg['y0']) / fig.ratio;\n",
       "    var x1 = msg['x1'] / fig.ratio;\n",
       "    var y1 = (fig.canvas.height - msg['y1']) / fig.ratio;\n",
       "    x0 = Math.floor(x0) + 0.5;\n",
       "    y0 = Math.floor(y0) + 0.5;\n",
       "    x1 = Math.floor(x1) + 0.5;\n",
       "    y1 = Math.floor(y1) + 0.5;\n",
       "    var min_x = Math.min(x0, x1);\n",
       "    var min_y = Math.min(y0, y1);\n",
       "    var width = Math.abs(x1 - x0);\n",
       "    var height = Math.abs(y1 - y0);\n",
       "\n",
       "    fig.rubberband_context.clearRect(\n",
       "        0,\n",
       "        0,\n",
       "        fig.canvas.width / fig.ratio,\n",
       "        fig.canvas.height / fig.ratio\n",
       "    );\n",
       "\n",
       "    fig.rubberband_context.strokeRect(min_x, min_y, width, height);\n",
       "};\n",
       "\n",
       "mpl.figure.prototype.handle_figure_label = function (fig, msg) {\n",
       "    // Updates the figure title.\n",
       "    fig.header.textContent = msg['label'];\n",
       "};\n",
       "\n",
       "mpl.figure.prototype.handle_cursor = function (fig, msg) {\n",
       "    var cursor = msg['cursor'];\n",
       "    switch (cursor) {\n",
       "        case 0:\n",
       "            cursor = 'pointer';\n",
       "            break;\n",
       "        case 1:\n",
       "            cursor = 'default';\n",
       "            break;\n",
       "        case 2:\n",
       "            cursor = 'crosshair';\n",
       "            break;\n",
       "        case 3:\n",
       "            cursor = 'move';\n",
       "            break;\n",
       "    }\n",
       "    fig.rubberband_canvas.style.cursor = cursor;\n",
       "};\n",
       "\n",
       "mpl.figure.prototype.handle_message = function (fig, msg) {\n",
       "    fig.message.textContent = msg['message'];\n",
       "};\n",
       "\n",
       "mpl.figure.prototype.handle_draw = function (fig, _msg) {\n",
       "    // Request the server to send over a new figure.\n",
       "    fig.send_draw_message();\n",
       "};\n",
       "\n",
       "mpl.figure.prototype.handle_image_mode = function (fig, msg) {\n",
       "    fig.image_mode = msg['mode'];\n",
       "};\n",
       "\n",
       "mpl.figure.prototype.handle_history_buttons = function (fig, msg) {\n",
       "    for (var key in msg) {\n",
       "        if (!(key in fig.buttons)) {\n",
       "            continue;\n",
       "        }\n",
       "        fig.buttons[key].disabled = !msg[key];\n",
       "        fig.buttons[key].setAttribute('aria-disabled', !msg[key]);\n",
       "    }\n",
       "};\n",
       "\n",
       "mpl.figure.prototype.handle_navigate_mode = function (fig, msg) {\n",
       "    if (msg['mode'] === 'PAN') {\n",
       "        fig.buttons['Pan'].classList.add('active');\n",
       "        fig.buttons['Zoom'].classList.remove('active');\n",
       "    } else if (msg['mode'] === 'ZOOM') {\n",
       "        fig.buttons['Pan'].classList.remove('active');\n",
       "        fig.buttons['Zoom'].classList.add('active');\n",
       "    } else {\n",
       "        fig.buttons['Pan'].classList.remove('active');\n",
       "        fig.buttons['Zoom'].classList.remove('active');\n",
       "    }\n",
       "};\n",
       "\n",
       "mpl.figure.prototype.updated_canvas_event = function () {\n",
       "    // Called whenever the canvas gets updated.\n",
       "    this.send_message('ack', {});\n",
       "};\n",
       "\n",
       "// A function to construct a web socket function for onmessage handling.\n",
       "// Called in the figure constructor.\n",
       "mpl.figure.prototype._make_on_message_function = function (fig) {\n",
       "    return function socket_on_message(evt) {\n",
       "        if (evt.data instanceof Blob) {\n",
       "            var img = evt.data;\n",
       "            if (img.type !== 'image/png') {\n",
       "                /* FIXME: We get \"Resource interpreted as Image but\n",
       "                 * transferred with MIME type text/plain:\" errors on\n",
       "                 * Chrome.  But how to set the MIME type?  It doesn't seem\n",
       "                 * to be part of the websocket stream */\n",
       "                img.type = 'image/png';\n",
       "            }\n",
       "\n",
       "            /* Free the memory for the previous frames */\n",
       "            if (fig.imageObj.src) {\n",
       "                (window.URL || window.webkitURL).revokeObjectURL(\n",
       "                    fig.imageObj.src\n",
       "                );\n",
       "            }\n",
       "\n",
       "            fig.imageObj.src = (window.URL || window.webkitURL).createObjectURL(\n",
       "                img\n",
       "            );\n",
       "            fig.updated_canvas_event();\n",
       "            fig.waiting = false;\n",
       "            return;\n",
       "        } else if (\n",
       "            typeof evt.data === 'string' &&\n",
       "            evt.data.slice(0, 21) === 'data:image/png;base64'\n",
       "        ) {\n",
       "            fig.imageObj.src = evt.data;\n",
       "            fig.updated_canvas_event();\n",
       "            fig.waiting = false;\n",
       "            return;\n",
       "        }\n",
       "\n",
       "        var msg = JSON.parse(evt.data);\n",
       "        var msg_type = msg['type'];\n",
       "\n",
       "        // Call the  \"handle_{type}\" callback, which takes\n",
       "        // the figure and JSON message as its only arguments.\n",
       "        try {\n",
       "            var callback = fig['handle_' + msg_type];\n",
       "        } catch (e) {\n",
       "            console.log(\n",
       "                \"No handler for the '\" + msg_type + \"' message type: \",\n",
       "                msg\n",
       "            );\n",
       "            return;\n",
       "        }\n",
       "\n",
       "        if (callback) {\n",
       "            try {\n",
       "                // console.log(\"Handling '\" + msg_type + \"' message: \", msg);\n",
       "                callback(fig, msg);\n",
       "            } catch (e) {\n",
       "                console.log(\n",
       "                    \"Exception inside the 'handler_\" + msg_type + \"' callback:\",\n",
       "                    e,\n",
       "                    e.stack,\n",
       "                    msg\n",
       "                );\n",
       "            }\n",
       "        }\n",
       "    };\n",
       "};\n",
       "\n",
       "// from http://stackoverflow.com/questions/1114465/getting-mouse-location-in-canvas\n",
       "mpl.findpos = function (e) {\n",
       "    //this section is from http://www.quirksmode.org/js/events_properties.html\n",
       "    var targ;\n",
       "    if (!e) {\n",
       "        e = window.event;\n",
       "    }\n",
       "    if (e.target) {\n",
       "        targ = e.target;\n",
       "    } else if (e.srcElement) {\n",
       "        targ = e.srcElement;\n",
       "    }\n",
       "    if (targ.nodeType === 3) {\n",
       "        // defeat Safari bug\n",
       "        targ = targ.parentNode;\n",
       "    }\n",
       "\n",
       "    // pageX,Y are the mouse positions relative to the document\n",
       "    var boundingRect = targ.getBoundingClientRect();\n",
       "    var x = e.pageX - (boundingRect.left + document.body.scrollLeft);\n",
       "    var y = e.pageY - (boundingRect.top + document.body.scrollTop);\n",
       "\n",
       "    return { x: x, y: y };\n",
       "};\n",
       "\n",
       "/*\n",
       " * return a copy of an object with only non-object keys\n",
       " * we need this to avoid circular references\n",
       " * http://stackoverflow.com/a/24161582/3208463\n",
       " */\n",
       "function simpleKeys(original) {\n",
       "    return Object.keys(original).reduce(function (obj, key) {\n",
       "        if (typeof original[key] !== 'object') {\n",
       "            obj[key] = original[key];\n",
       "        }\n",
       "        return obj;\n",
       "    }, {});\n",
       "}\n",
       "\n",
       "mpl.figure.prototype.mouse_event = function (event, name) {\n",
       "    var canvas_pos = mpl.findpos(event);\n",
       "\n",
       "    if (name === 'button_press') {\n",
       "        this.canvas.focus();\n",
       "        this.canvas_div.focus();\n",
       "    }\n",
       "\n",
       "    var x = canvas_pos.x * this.ratio;\n",
       "    var y = canvas_pos.y * this.ratio;\n",
       "\n",
       "    this.send_message(name, {\n",
       "        x: x,\n",
       "        y: y,\n",
       "        button: event.button,\n",
       "        step: event.step,\n",
       "        guiEvent: simpleKeys(event),\n",
       "    });\n",
       "\n",
       "    /* This prevents the web browser from automatically changing to\n",
       "     * the text insertion cursor when the button is pressed.  We want\n",
       "     * to control all of the cursor setting manually through the\n",
       "     * 'cursor' event from matplotlib */\n",
       "    event.preventDefault();\n",
       "    return false;\n",
       "};\n",
       "\n",
       "mpl.figure.prototype._key_event_extra = function (_event, _name) {\n",
       "    // Handle any extra behaviour associated with a key event\n",
       "};\n",
       "\n",
       "mpl.figure.prototype.key_event = function (event, name) {\n",
       "    // Prevent repeat events\n",
       "    if (name === 'key_press') {\n",
       "        if (event.key === this._key) {\n",
       "            return;\n",
       "        } else {\n",
       "            this._key = event.key;\n",
       "        }\n",
       "    }\n",
       "    if (name === 'key_release') {\n",
       "        this._key = null;\n",
       "    }\n",
       "\n",
       "    var value = '';\n",
       "    if (event.ctrlKey && event.key !== 'Control') {\n",
       "        value += 'ctrl+';\n",
       "    }\n",
       "    else if (event.altKey && event.key !== 'Alt') {\n",
       "        value += 'alt+';\n",
       "    }\n",
       "    else if (event.shiftKey && event.key !== 'Shift') {\n",
       "        value += 'shift+';\n",
       "    }\n",
       "\n",
       "    value += 'k' + event.key;\n",
       "\n",
       "    this._key_event_extra(event, name);\n",
       "\n",
       "    this.send_message(name, { key: value, guiEvent: simpleKeys(event) });\n",
       "    return false;\n",
       "};\n",
       "\n",
       "mpl.figure.prototype.toolbar_button_onclick = function (name) {\n",
       "    if (name === 'download') {\n",
       "        this.handle_save(this, null);\n",
       "    } else {\n",
       "        this.send_message('toolbar_button', { name: name });\n",
       "    }\n",
       "};\n",
       "\n",
       "mpl.figure.prototype.toolbar_button_onmouseover = function (tooltip) {\n",
       "    this.message.textContent = tooltip;\n",
       "};\n",
       "\n",
       "///////////////// REMAINING CONTENT GENERATED BY embed_js.py /////////////////\n",
       "// prettier-ignore\n",
       "var _JSXTOOLS_RESIZE_OBSERVER=function(A){var t,i=new WeakMap,n=new WeakMap,a=new WeakMap,r=new WeakMap,o=new Set;function s(e){if(!(this instanceof s))throw new TypeError(\"Constructor requires 'new' operator\");i.set(this,e)}function h(){throw new TypeError(\"Function is not a constructor\")}function c(e,t,i,n){e=0 in arguments?Number(arguments[0]):0,t=1 in arguments?Number(arguments[1]):0,i=2 in arguments?Number(arguments[2]):0,n=3 in arguments?Number(arguments[3]):0,this.right=(this.x=this.left=e)+(this.width=i),this.bottom=(this.y=this.top=t)+(this.height=n),Object.freeze(this)}function d(){t=requestAnimationFrame(d);var s=new WeakMap,p=new Set;o.forEach((function(t){r.get(t).forEach((function(i){var r=t instanceof window.SVGElement,o=a.get(t),d=r?0:parseFloat(o.paddingTop),f=r?0:parseFloat(o.paddingRight),l=r?0:parseFloat(o.paddingBottom),u=r?0:parseFloat(o.paddingLeft),g=r?0:parseFloat(o.borderTopWidth),m=r?0:parseFloat(o.borderRightWidth),w=r?0:parseFloat(o.borderBottomWidth),b=u+f,F=d+l,v=(r?0:parseFloat(o.borderLeftWidth))+m,W=g+w,y=r?0:t.offsetHeight-W-t.clientHeight,E=r?0:t.offsetWidth-v-t.clientWidth,R=b+v,z=F+W,M=r?t.width:parseFloat(o.width)-R-E,O=r?t.height:parseFloat(o.height)-z-y;if(n.has(t)){var k=n.get(t);if(k[0]===M&&k[1]===O)return}n.set(t,[M,O]);var S=Object.create(h.prototype);S.target=t,S.contentRect=new c(u,d,M,O),s.has(i)||(s.set(i,[]),p.add(i)),s.get(i).push(S)}))})),p.forEach((function(e){i.get(e).call(e,s.get(e),e)}))}return s.prototype.observe=function(i){if(i instanceof window.Element){r.has(i)||(r.set(i,new Set),o.add(i),a.set(i,window.getComputedStyle(i)));var n=r.get(i);n.has(this)||n.add(this),cancelAnimationFrame(t),t=requestAnimationFrame(d)}},s.prototype.unobserve=function(i){if(i instanceof window.Element&&r.has(i)){var n=r.get(i);n.has(this)&&(n.delete(this),n.size||(r.delete(i),o.delete(i))),n.size||r.delete(i),o.size||cancelAnimationFrame(t)}},A.DOMRectReadOnly=c,A.ResizeObserver=s,A.ResizeObserverEntry=h,A}; // eslint-disable-line\n",
       "mpl.toolbar_items = [[\"Home\", \"Reset original view\", \"fa fa-home icon-home\", \"home\"], [\"Back\", \"Back to previous view\", \"fa fa-arrow-left icon-arrow-left\", \"back\"], [\"Forward\", \"Forward to next view\", \"fa fa-arrow-right icon-arrow-right\", \"forward\"], [\"\", \"\", \"\", \"\"], [\"Pan\", \"Left button pans, Right button zooms\\nx/y fixes axis, CTRL fixes aspect\", \"fa fa-arrows icon-move\", \"pan\"], [\"Zoom\", \"Zoom to rectangle\\nx/y fixes axis, CTRL fixes aspect\", \"fa fa-square-o icon-check-empty\", \"zoom\"], [\"\", \"\", \"\", \"\"], [\"Download\", \"Download plot\", \"fa fa-floppy-o icon-save\", \"download\"]];\n",
       "\n",
       "mpl.extensions = [\"eps\", \"jpeg\", \"pgf\", \"pdf\", \"png\", \"ps\", \"raw\", \"svg\", \"tif\"];\n",
       "\n",
       "mpl.default_extension = \"png\";/* global mpl */\n",
       "\n",
       "var comm_websocket_adapter = function (comm) {\n",
       "    // Create a \"websocket\"-like object which calls the given IPython comm\n",
       "    // object with the appropriate methods. Currently this is a non binary\n",
       "    // socket, so there is still some room for performance tuning.\n",
       "    var ws = {};\n",
       "\n",
       "    ws.binaryType = comm.kernel.ws.binaryType;\n",
       "    ws.readyState = comm.kernel.ws.readyState;\n",
       "    function updateReadyState(_event) {\n",
       "        if (comm.kernel.ws) {\n",
       "            ws.readyState = comm.kernel.ws.readyState;\n",
       "        } else {\n",
       "            ws.readyState = 3; // Closed state.\n",
       "        }\n",
       "    }\n",
       "    comm.kernel.ws.addEventListener('open', updateReadyState);\n",
       "    comm.kernel.ws.addEventListener('close', updateReadyState);\n",
       "    comm.kernel.ws.addEventListener('error', updateReadyState);\n",
       "\n",
       "    ws.close = function () {\n",
       "        comm.close();\n",
       "    };\n",
       "    ws.send = function (m) {\n",
       "        //console.log('sending', m);\n",
       "        comm.send(m);\n",
       "    };\n",
       "    // Register the callback with on_msg.\n",
       "    comm.on_msg(function (msg) {\n",
       "        //console.log('receiving', msg['content']['data'], msg);\n",
       "        var data = msg['content']['data'];\n",
       "        if (data['blob'] !== undefined) {\n",
       "            data = {\n",
       "                data: new Blob(msg['buffers'], { type: data['blob'] }),\n",
       "            };\n",
       "        }\n",
       "        // Pass the mpl event to the overridden (by mpl) onmessage function.\n",
       "        ws.onmessage(data);\n",
       "    });\n",
       "    return ws;\n",
       "};\n",
       "\n",
       "mpl.mpl_figure_comm = function (comm, msg) {\n",
       "    // This is the function which gets called when the mpl process\n",
       "    // starts-up an IPython Comm through the \"matplotlib\" channel.\n",
       "\n",
       "    var id = msg.content.data.id;\n",
       "    // Get hold of the div created by the display call when the Comm\n",
       "    // socket was opened in Python.\n",
       "    var element = document.getElementById(id);\n",
       "    var ws_proxy = comm_websocket_adapter(comm);\n",
       "\n",
       "    function ondownload(figure, _format) {\n",
       "        window.open(figure.canvas.toDataURL());\n",
       "    }\n",
       "\n",
       "    var fig = new mpl.figure(id, ws_proxy, ondownload, element);\n",
       "\n",
       "    // Call onopen now - mpl needs it, as it is assuming we've passed it a real\n",
       "    // web socket which is closed, not our websocket->open comm proxy.\n",
       "    ws_proxy.onopen();\n",
       "\n",
       "    fig.parent_element = element;\n",
       "    fig.cell_info = mpl.find_output_cell(\"<div id='\" + id + \"'></div>\");\n",
       "    if (!fig.cell_info) {\n",
       "        console.error('Failed to find cell for figure', id, fig);\n",
       "        return;\n",
       "    }\n",
       "    fig.cell_info[0].output_area.element.on(\n",
       "        'cleared',\n",
       "        { fig: fig },\n",
       "        fig._remove_fig_handler\n",
       "    );\n",
       "};\n",
       "\n",
       "mpl.figure.prototype.handle_close = function (fig, msg) {\n",
       "    var width = fig.canvas.width / fig.ratio;\n",
       "    fig.cell_info[0].output_area.element.off(\n",
       "        'cleared',\n",
       "        fig._remove_fig_handler\n",
       "    );\n",
       "    fig.resizeObserverInstance.unobserve(fig.canvas_div);\n",
       "\n",
       "    // Update the output cell to use the data from the current canvas.\n",
       "    fig.push_to_output();\n",
       "    var dataURL = fig.canvas.toDataURL();\n",
       "    // Re-enable the keyboard manager in IPython - without this line, in FF,\n",
       "    // the notebook keyboard shortcuts fail.\n",
       "    IPython.keyboard_manager.enable();\n",
       "    fig.parent_element.innerHTML =\n",
       "        '<img src=\"' + dataURL + '\" width=\"' + width + '\">';\n",
       "    fig.close_ws(fig, msg);\n",
       "};\n",
       "\n",
       "mpl.figure.prototype.close_ws = function (fig, msg) {\n",
       "    fig.send_message('closing', msg);\n",
       "    // fig.ws.close()\n",
       "};\n",
       "\n",
       "mpl.figure.prototype.push_to_output = function (_remove_interactive) {\n",
       "    // Turn the data on the canvas into data in the output cell.\n",
       "    var width = this.canvas.width / this.ratio;\n",
       "    var dataURL = this.canvas.toDataURL();\n",
       "    this.cell_info[1]['text/html'] =\n",
       "        '<img src=\"' + dataURL + '\" width=\"' + width + '\">';\n",
       "};\n",
       "\n",
       "mpl.figure.prototype.updated_canvas_event = function () {\n",
       "    // Tell IPython that the notebook contents must change.\n",
       "    IPython.notebook.set_dirty(true);\n",
       "    this.send_message('ack', {});\n",
       "    var fig = this;\n",
       "    // Wait a second, then push the new image to the DOM so\n",
       "    // that it is saved nicely (might be nice to debounce this).\n",
       "    setTimeout(function () {\n",
       "        fig.push_to_output();\n",
       "    }, 1000);\n",
       "};\n",
       "\n",
       "mpl.figure.prototype._init_toolbar = function () {\n",
       "    var fig = this;\n",
       "\n",
       "    var toolbar = document.createElement('div');\n",
       "    toolbar.classList = 'btn-toolbar';\n",
       "    this.root.appendChild(toolbar);\n",
       "\n",
       "    function on_click_closure(name) {\n",
       "        return function (_event) {\n",
       "            return fig.toolbar_button_onclick(name);\n",
       "        };\n",
       "    }\n",
       "\n",
       "    function on_mouseover_closure(tooltip) {\n",
       "        return function (event) {\n",
       "            if (!event.currentTarget.disabled) {\n",
       "                return fig.toolbar_button_onmouseover(tooltip);\n",
       "            }\n",
       "        };\n",
       "    }\n",
       "\n",
       "    fig.buttons = {};\n",
       "    var buttonGroup = document.createElement('div');\n",
       "    buttonGroup.classList = 'btn-group';\n",
       "    var button;\n",
       "    for (var toolbar_ind in mpl.toolbar_items) {\n",
       "        var name = mpl.toolbar_items[toolbar_ind][0];\n",
       "        var tooltip = mpl.toolbar_items[toolbar_ind][1];\n",
       "        var image = mpl.toolbar_items[toolbar_ind][2];\n",
       "        var method_name = mpl.toolbar_items[toolbar_ind][3];\n",
       "\n",
       "        if (!name) {\n",
       "            /* Instead of a spacer, we start a new button group. */\n",
       "            if (buttonGroup.hasChildNodes()) {\n",
       "                toolbar.appendChild(buttonGroup);\n",
       "            }\n",
       "            buttonGroup = document.createElement('div');\n",
       "            buttonGroup.classList = 'btn-group';\n",
       "            continue;\n",
       "        }\n",
       "\n",
       "        button = fig.buttons[name] = document.createElement('button');\n",
       "        button.classList = 'btn btn-default';\n",
       "        button.href = '#';\n",
       "        button.title = name;\n",
       "        button.innerHTML = '<i class=\"fa ' + image + ' fa-lg\"></i>';\n",
       "        button.addEventListener('click', on_click_closure(method_name));\n",
       "        button.addEventListener('mouseover', on_mouseover_closure(tooltip));\n",
       "        buttonGroup.appendChild(button);\n",
       "    }\n",
       "\n",
       "    if (buttonGroup.hasChildNodes()) {\n",
       "        toolbar.appendChild(buttonGroup);\n",
       "    }\n",
       "\n",
       "    // Add the status bar.\n",
       "    var status_bar = document.createElement('span');\n",
       "    status_bar.classList = 'mpl-message pull-right';\n",
       "    toolbar.appendChild(status_bar);\n",
       "    this.message = status_bar;\n",
       "\n",
       "    // Add the close button to the window.\n",
       "    var buttongrp = document.createElement('div');\n",
       "    buttongrp.classList = 'btn-group inline pull-right';\n",
       "    button = document.createElement('button');\n",
       "    button.classList = 'btn btn-mini btn-primary';\n",
       "    button.href = '#';\n",
       "    button.title = 'Stop Interaction';\n",
       "    button.innerHTML = '<i class=\"fa fa-power-off icon-remove icon-large\"></i>';\n",
       "    button.addEventListener('click', function (_evt) {\n",
       "        fig.handle_close(fig, {});\n",
       "    });\n",
       "    button.addEventListener(\n",
       "        'mouseover',\n",
       "        on_mouseover_closure('Stop Interaction')\n",
       "    );\n",
       "    buttongrp.appendChild(button);\n",
       "    var titlebar = this.root.querySelector('.ui-dialog-titlebar');\n",
       "    titlebar.insertBefore(buttongrp, titlebar.firstChild);\n",
       "};\n",
       "\n",
       "mpl.figure.prototype._remove_fig_handler = function (event) {\n",
       "    var fig = event.data.fig;\n",
       "    if (event.target !== this) {\n",
       "        // Ignore bubbled events from children.\n",
       "        return;\n",
       "    }\n",
       "    fig.close_ws(fig, {});\n",
       "};\n",
       "\n",
       "mpl.figure.prototype._root_extra_style = function (el) {\n",
       "    el.style.boxSizing = 'content-box'; // override notebook setting of border-box.\n",
       "};\n",
       "\n",
       "mpl.figure.prototype._canvas_extra_style = function (el) {\n",
       "    // this is important to make the div 'focusable\n",
       "    el.setAttribute('tabindex', 0);\n",
       "    // reach out to IPython and tell the keyboard manager to turn it's self\n",
       "    // off when our div gets focus\n",
       "\n",
       "    // location in version 3\n",
       "    if (IPython.notebook.keyboard_manager) {\n",
       "        IPython.notebook.keyboard_manager.register_events(el);\n",
       "    } else {\n",
       "        // location in version 2\n",
       "        IPython.keyboard_manager.register_events(el);\n",
       "    }\n",
       "};\n",
       "\n",
       "mpl.figure.prototype._key_event_extra = function (event, _name) {\n",
       "    var manager = IPython.notebook.keyboard_manager;\n",
       "    if (!manager) {\n",
       "        manager = IPython.keyboard_manager;\n",
       "    }\n",
       "\n",
       "    // Check for shift+enter\n",
       "    if (event.shiftKey && event.which === 13) {\n",
       "        this.canvas_div.blur();\n",
       "        // select the cell after this one\n",
       "        var index = IPython.notebook.find_cell_index(this.cell_info[0]);\n",
       "        IPython.notebook.select(index + 1);\n",
       "    }\n",
       "};\n",
       "\n",
       "mpl.figure.prototype.handle_save = function (fig, _msg) {\n",
       "    fig.ondownload(fig, null);\n",
       "};\n",
       "\n",
       "mpl.find_output_cell = function (html_output) {\n",
       "    // Return the cell and output element which can be found *uniquely* in the notebook.\n",
       "    // Note - this is a bit hacky, but it is done because the \"notebook_saving.Notebook\"\n",
       "    // IPython event is triggered only after the cells have been serialised, which for\n",
       "    // our purposes (turning an active figure into a static one), is too late.\n",
       "    var cells = IPython.notebook.get_cells();\n",
       "    var ncells = cells.length;\n",
       "    for (var i = 0; i < ncells; i++) {\n",
       "        var cell = cells[i];\n",
       "        if (cell.cell_type === 'code') {\n",
       "            for (var j = 0; j < cell.output_area.outputs.length; j++) {\n",
       "                var data = cell.output_area.outputs[j];\n",
       "                if (data.data) {\n",
       "                    // IPython >= 3 moved mimebundle to data attribute of output\n",
       "                    data = data.data;\n",
       "                }\n",
       "                if (data['text/html'] === html_output) {\n",
       "                    return [cell, data, j];\n",
       "                }\n",
       "            }\n",
       "        }\n",
       "    }\n",
       "};\n",
       "\n",
       "// Register the function which deals with the matplotlib target/channel.\n",
       "// The kernel may be null if the page has been refreshed.\n",
       "if (IPython.notebook.kernel !== null) {\n",
       "    IPython.notebook.kernel.comm_manager.register_target(\n",
       "        'matplotlib',\n",
       "        mpl.mpl_figure_comm\n",
       "    );\n",
       "}\n"
      ],
      "text/plain": [
       "<IPython.core.display.Javascript object>"
      ]
     },
     "metadata": {},
     "output_type": "display_data"
    },
    {
     "data": {
      "text/html": [
       "<img src=\"data:image/png;base64,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\" width=\"1400\">"
      ],
      "text/plain": [
       "<IPython.core.display.HTML object>"
      ]
     },
     "metadata": {},
     "output_type": "display_data"
    }
   ],
   "source": [
    "from matplotlib.animation import FuncAnimation\n",
    "\n",
    "\n",
    "fig = plt.figure(figsize=(14,7))\n",
    "ax1 = plt.subplot(121)\n",
    "ax2 = plt.subplot(222)\n",
    "ax3 = plt.subplot(224)\n",
    "pi_ani = PiAnimation(ax1, ax2, ax3)\n",
    "anim = FuncAnimation(fig, pi_ani, frames=10_000, interval=50, blit=True)\n",
    "plt.show()"
   ]
  },
  {
   "cell_type": "code",
   "execution_count": null,
   "metadata": {},
   "outputs": [],
   "source": []
  }
 ],
 "metadata": {
  "kernelspec": {
   "display_name": "Python 3 (ipykernel)",
   "language": "python",
   "name": "python3"
  },
  "language_info": {
   "codemirror_mode": {
    "name": "ipython",
    "version": 3
   },
   "file_extension": ".py",
   "mimetype": "text/x-python",
   "name": "python",
   "nbconvert_exporter": "python",
   "pygments_lexer": "ipython3",
   "version": "3.8.11"
  }
 },
 "nbformat": 4,
 "nbformat_minor": 4
}
