{
 "cells": [
  {
   "cell_type": "markdown",
   "metadata": {},
   "source": [
    "# Библиотека numpy"
   ]
  },
  {
   "cell_type": "markdown",
   "metadata": {},
   "source": [
    "**NumPy** — это библиотека языка Python, добавляющая поддержку больших многомерных массивов и матриц, вместе с большой библиотекой высокоуровневых (и очень быстрых) математических функций для операций с этими массивами."
   ]
  },
  {
   "cell_type": "markdown",
   "metadata": {},
   "source": [
    "Основным объектом NumPy является однородный многомерный массив (в numpy называется numpy.ndarray). Это многомерный массив элементов (обычно чисел), одного типа.\n",
    "\n",
    "Наиболее важные атрибуты объектов ndarray:\n",
    "\n",
    "**ndarray.ndim** - число измерений (чаще их называют \"оси\") массива.\n",
    "\n",
    "**ndarray.shape** - размеры массива, его форма. Это кортеж натуральных чисел, показывающий длину массива по каждой оси. Для матрицы из n строк и m столбов, shape будет (n,m). Число элементов кортежа shape равно ndim.\n",
    "\n",
    "**ndarray.size** - количество элементов массива. Очевидно, равно произведению всех элементов атрибута shape.\n",
    "\n",
    "**ndarray.dtype** - объект, описывающий тип элементов массива. Можно определить dtype, используя стандартные типы данных Python. NumPy здесь предоставляет целый букет возможностей, как встроенных, например: bool_, character, int8, int16, int32, int64, float8, float16, float32, float64, complex64, object_, так и возможность определить собственные типы данных, в том числе и составные.\n",
    "\n",
    "**ndarray.itemsize** - размер каждого элемента массива в байтах."
   ]
  },
  {
   "cell_type": "markdown",
   "metadata": {},
   "source": [
    "# Создание массивов"
   ]
  },
  {
   "cell_type": "markdown",
   "metadata": {},
   "source": [
    "В NumPy существует много способов создать массив. Один из наиболее простых - создать массив из обычных списков или кортежей Python, используя функцию numpy.array() (запомните: array - функция, создающая объект типа ndarray):"
   ]
  },
  {
   "cell_type": "code",
   "execution_count": 1,
   "metadata": {},
   "outputs": [
    {
     "data": {
      "text/plain": [
       "array([1, 2, 3])"
      ]
     },
     "execution_count": 1,
     "metadata": {},
     "output_type": "execute_result"
    }
   ],
   "source": [
    "import numpy as np\n",
    "\n",
    "a = np.array([1, 2, 3])\n",
    "a"
   ]
  },
  {
   "cell_type": "code",
   "execution_count": 2,
   "metadata": {},
   "outputs": [
    {
     "data": {
      "text/plain": [
       "numpy.ndarray"
      ]
     },
     "execution_count": 2,
     "metadata": {},
     "output_type": "execute_result"
    }
   ],
   "source": [
    "type(a)"
   ]
  },
  {
   "cell_type": "markdown",
   "metadata": {},
   "source": [
    "Функция array() трансформирует вложенные последовательности в многомерные массивы. Тип элементов массива зависит от типа элементов исходной последовательности (но можно и переопределить его в момент создания)."
   ]
  },
  {
   "cell_type": "code",
   "execution_count": 3,
   "metadata": {},
   "outputs": [
    {
     "data": {
      "text/plain": [
       "array([[1.5, 2. , 3. ],\n",
       "       [4. , 5. , 6. ]])"
      ]
     },
     "execution_count": 3,
     "metadata": {},
     "output_type": "execute_result"
    }
   ],
   "source": [
    "b = np.array([[1.5, 2, 3], [4, 5, 6]])\n",
    "b"
   ]
  },
  {
   "cell_type": "markdown",
   "metadata": {},
   "source": [
    "Можно также переопределить тип в момент создания:"
   ]
  },
  {
   "cell_type": "code",
   "execution_count": 4,
   "metadata": {},
   "outputs": [
    {
     "name": "stderr",
     "output_type": "stream",
     "text": [
      "/tmp/ipykernel_4875/2311286893.py:1: DeprecationWarning: `np.complex` is a deprecated alias for the builtin `complex`. To silence this warning, use `complex` by itself. Doing this will not modify any behavior and is safe. If you specifically wanted the numpy scalar type, use `np.complex128` here.\n",
      "Deprecated in NumPy 1.20; for more details and guidance: https://numpy.org/devdocs/release/1.20.0-notes.html#deprecations\n",
      "  b = np.array([[1.5, 2, 3], [4, 5, 6]], dtype=np.complex)\n"
     ]
    },
    {
     "data": {
      "text/plain": [
       "array([[1.5+0.j, 2. +0.j, 3. +0.j],\n",
       "       [4. +0.j, 5. +0.j, 6. +0.j]])"
      ]
     },
     "execution_count": 4,
     "metadata": {},
     "output_type": "execute_result"
    }
   ],
   "source": [
    "b = np.array([[1.5, 2, 3], [4, 5, 6]], dtype=np.complex)\n",
    "b"
   ]
  },
  {
   "cell_type": "markdown",
   "metadata": {},
   "source": [
    "Функция array() не единственная функция для создания массивов. Обычно элементы массива вначале неизвестны, а массив, в котором они будут храниться, уже нужен. Поэтому имеется несколько функций для того, чтобы создавать массивы с каким-то исходным содержимым (по умолчанию тип создаваемого массива — float64).\n",
    "\n",
    "Функция zeros() создает массив из нулей, а функция ones() — массив из единиц. Обе функции принимают кортеж с размерами, и аргумент dtype:"
   ]
  },
  {
   "cell_type": "code",
   "execution_count": 5,
   "metadata": {},
   "outputs": [
    {
     "data": {
      "text/plain": [
       "array([[0., 0., 0., 0., 0.],\n",
       "       [0., 0., 0., 0., 0.],\n",
       "       [0., 0., 0., 0., 0.]])"
      ]
     },
     "execution_count": 5,
     "metadata": {},
     "output_type": "execute_result"
    }
   ],
   "source": [
    "a = np.zeros((3, 5))\n",
    "a"
   ]
  },
  {
   "cell_type": "code",
   "execution_count": 6,
   "metadata": {},
   "outputs": [
    {
     "data": {
      "text/plain": [
       "array([[[1., 1.],\n",
       "        [1., 1.]],\n",
       "\n",
       "       [[1., 1.],\n",
       "        [1., 1.]]])"
      ]
     },
     "execution_count": 6,
     "metadata": {},
     "output_type": "execute_result"
    }
   ],
   "source": [
    "a = np.ones((2, 2, 2))\n",
    "a"
   ]
  },
  {
   "cell_type": "markdown",
   "metadata": {},
   "source": [
    "Функция eye() создаёт единичную матрицу (двумерный массив)"
   ]
  },
  {
   "cell_type": "code",
   "execution_count": 7,
   "metadata": {},
   "outputs": [
    {
     "data": {
      "text/plain": [
       "array([[1., 0., 0., 0., 0.],\n",
       "       [0., 1., 0., 0., 0.],\n",
       "       [0., 0., 1., 0., 0.],\n",
       "       [0., 0., 0., 1., 0.],\n",
       "       [0., 0., 0., 0., 1.]])"
      ]
     },
     "execution_count": 7,
     "metadata": {},
     "output_type": "execute_result"
    }
   ],
   "source": [
    "a = np.eye(5)\n",
    "a"
   ]
  },
  {
   "cell_type": "markdown",
   "metadata": {},
   "source": [
    "Функция empty() создает массив без его заполнения. Исходное содержимое случайно и зависит от состояния памяти на момент создания массива (то есть от того мусора, что в ней хранится):"
   ]
  },
  {
   "cell_type": "code",
   "execution_count": 8,
   "metadata": {},
   "outputs": [
    {
     "data": {
      "text/plain": [
       "array([[6.9016133e-310, 2.4828870e-316, 0.0000000e+000],\n",
       "       [0.0000000e+000, 0.0000000e+000, 0.0000000e+000],\n",
       "       [0.0000000e+000, 0.0000000e+000, 0.0000000e+000]])"
      ]
     },
     "execution_count": 8,
     "metadata": {},
     "output_type": "execute_result"
    }
   ],
   "source": [
    "a = np.empty((3, 3))\n",
    "a"
   ]
  },
  {
   "cell_type": "markdown",
   "metadata": {},
   "source": [
    "Для создания последовательностей чисел, в NumPy имеется функция arange(), аналогичная встроенной в Python range(), только вместо списков она возвращает массивы, и принимает не только целые значения:"
   ]
  },
  {
   "cell_type": "code",
   "execution_count": 9,
   "metadata": {},
   "outputs": [
    {
     "data": {
      "text/plain": [
       "array([10, 15, 20, 25])"
      ]
     },
     "execution_count": 9,
     "metadata": {},
     "output_type": "execute_result"
    }
   ],
   "source": [
    "a = np.arange(10, 30, 5)\n",
    "a"
   ]
  },
  {
   "cell_type": "code",
   "execution_count": 10,
   "metadata": {},
   "outputs": [
    {
     "data": {
      "text/plain": [
       "array([0. , 0.1, 0.2, 0.3, 0.4, 0.5, 0.6, 0.7, 0.8, 0.9])"
      ]
     },
     "execution_count": 10,
     "metadata": {},
     "output_type": "execute_result"
    }
   ],
   "source": [
    "a = np.arange(0, 1, 0.1)\n",
    "a"
   ]
  },
  {
   "cell_type": "markdown",
   "metadata": {},
   "source": [
    "Вообще, при использовании arange() с аргументами типа float, сложно быть уверенным в том, сколько элементов будет получено (из-за ограничения точности чисел с плавающей запятой). Поэтому, в таких случаях обычно лучше использовать функцию linspace(), которая вместо шага в качестве одного из аргументов принимает число, равное количеству нужных элементов:"
   ]
  },
  {
   "cell_type": "code",
   "execution_count": 11,
   "metadata": {},
   "outputs": [
    {
     "data": {
      "text/plain": [
       "array([0.  , 0.25, 0.5 , 0.75, 1.  , 1.25, 1.5 , 1.75, 2.  ])"
      ]
     },
     "execution_count": 11,
     "metadata": {},
     "output_type": "execute_result"
    }
   ],
   "source": [
    "a = np.linspace(0, 2, 9)  # 9 чисел от 0 до 2 включительно\n",
    "a"
   ]
  },
  {
   "cell_type": "markdown",
   "metadata": {},
   "source": [
    "# Изменение формы массивов"
   ]
  },
  {
   "cell_type": "markdown",
   "metadata": {},
   "source": [
    "Предположим, у нас имеется массив, состоящий из десяти чисел: "
   ]
  },
  {
   "cell_type": "code",
   "execution_count": 12,
   "metadata": {},
   "outputs": [
    {
     "data": {
      "text/plain": [
       "array([0, 1, 2, 3, 4, 5, 6, 7, 8, 9])"
      ]
     },
     "execution_count": 12,
     "metadata": {},
     "output_type": "execute_result"
    }
   ],
   "source": [
    "a = np.arange(10)\n",
    "a"
   ]
  },
  {
   "cell_type": "markdown",
   "metadata": {},
   "source": [
    "Для изменения формы этого массива, достаточно указать свойству shape кортеж с новыми размерами, например, так: "
   ]
  },
  {
   "cell_type": "code",
   "execution_count": 13,
   "metadata": {},
   "outputs": [
    {
     "data": {
      "text/plain": [
       "array([[0, 1, 2, 3, 4],\n",
       "       [5, 6, 7, 8, 9]])"
      ]
     },
     "execution_count": 13,
     "metadata": {},
     "output_type": "execute_result"
    }
   ],
   "source": [
    "a.shape = 2, 5\n",
    "a"
   ]
  },
  {
   "cell_type": "markdown",
   "metadata": {},
   "source": [
    "В результате изменится представление массива, на которое ссылается переменная a. Если же требуется создать новое представление массива, сохранив прежнее, то следует воспользоваться методом reshape(): "
   ]
  },
  {
   "cell_type": "markdown",
   "metadata": {},
   "source": [
    "b = a.reshape(10)\n",
    "b"
   ]
  },
  {
   "cell_type": "markdown",
   "metadata": {},
   "source": [
    "Cсылки b и a будут использовать одни и те же данные, то есть, изменение массива через b: "
   ]
  },
  {
   "cell_type": "code",
   "execution_count": 14,
   "metadata": {},
   "outputs": [],
   "source": [
    "b[0] = -1 # приведет к изменению соответствующего элемента массива a: "
   ]
  },
  {
   "cell_type": "markdown",
   "metadata": {},
   "source": [
    "У свойства shape и метода reshape() размерность должна охватывать все элементы массива. Например, вот такая команда: "
   ]
  },
  {
   "cell_type": "code",
   "execution_count": 15,
   "metadata": {},
   "outputs": [
    {
     "ename": "ValueError",
     "evalue": "cannot reshape array of size 10 into shape (3,3)",
     "output_type": "error",
     "traceback": [
      "\u001b[0;31m---------------------------------------------------------------------------\u001b[0m",
      "\u001b[0;31mValueError\u001b[0m                                Traceback (most recent call last)",
      "\u001b[0;32m/tmp/ipykernel_4875/2444272619.py\u001b[0m in \u001b[0;36m<module>\u001b[0;34m\u001b[0m\n\u001b[0;32m----> 1\u001b[0;31m \u001b[0ma\u001b[0m\u001b[0;34m.\u001b[0m\u001b[0mshape\u001b[0m \u001b[0;34m=\u001b[0m \u001b[0;36m3\u001b[0m\u001b[0;34m,\u001b[0m \u001b[0;36m3\u001b[0m\u001b[0;34m\u001b[0m\u001b[0;34m\u001b[0m\u001b[0m\n\u001b[0m",
      "\u001b[0;31mValueError\u001b[0m: cannot reshape array of size 10 into shape (3,3)"
     ]
    }
   ],
   "source": [
    "a.shape = 3, 3"
   ]
  },
  {
   "cell_type": "markdown",
   "metadata": {},
   "source": [
    "приведет к ошибке, т.к. размерность 3x3 = 9 элементов, а в массиве 10 элементов. Здесь всегда должно выполняться равенство:\n",
    "\n",
    "n1 x n2 x … x nN = число элементов массива "
   ]
  },
  {
   "cell_type": "markdown",
   "metadata": {},
   "source": [
    "Но допускается делать так: "
   ]
  },
  {
   "cell_type": "code",
   "execution_count": 16,
   "metadata": {},
   "outputs": [
    {
     "data": {
      "text/plain": [
       "array([[0, 1],\n",
       "       [2, 3],\n",
       "       [4, 5],\n",
       "       [6, 7],\n",
       "       [8, 9]])"
      ]
     },
     "execution_count": 16,
     "metadata": {},
     "output_type": "execute_result"
    }
   ],
   "source": [
    "a.shape = -1, 2\n",
    "a"
   ]
  },
  {
   "cell_type": "markdown",
   "metadata": {},
   "source": [
    "Отрицательное значение -1 означает автоматическое вычисление размерности по первой оси. По второй берется значение 2. В этом случае получим размерность 5x2.\n",
    "\n",
    "То же самое можно делать и в методе reshape(): "
   ]
  },
  {
   "cell_type": "code",
   "execution_count": 17,
   "metadata": {},
   "outputs": [
    {
     "name": "stdout",
     "output_type": "stream",
     "text": [
      "[[-1.+0.j -1.+0.j -1.+0.j]\n",
      " [ 4.+0.j  5.+0.j  6.+0.j]]\n",
      "[[-1.+0.j -1.+0.j -1.+0.j]\n",
      " [ 4.+0.j  5.+0.j  6.+0.j]]\n"
     ]
    }
   ],
   "source": [
    "b.reshape(-1, 1)\n",
    "print(b)\n",
    "b.reshape(1, -1)\n",
    "print(b)"
   ]
  },
  {
   "cell_type": "markdown",
   "metadata": {},
   "source": [
    "Используя отрицательный индекс, можно делать и такие преобразования: "
   ]
  },
  {
   "cell_type": "code",
   "execution_count": 18,
   "metadata": {},
   "outputs": [
    {
     "name": "stdout",
     "output_type": "stream",
     "text": [
      "[[-1.+0.j -1.+0.j -1.+0.j]\n",
      " [ 4.+0.j  5.+0.j  6.+0.j]]\n",
      "[[-1.+0.j -1.+0.j -1.+0.j]\n",
      " [ 4.+0.j  5.+0.j  6.+0.j]]\n"
     ]
    }
   ],
   "source": [
    "b.reshape(2, -1)\n",
    "print(b)\n",
    "b.reshape(-1, 2)\n",
    "print(b)"
   ]
  },
  {
   "cell_type": "markdown",
   "metadata": {},
   "source": [
    "Если нам требуется многомерный массив преобразовать в обычный одномерный, то можно воспользоваться методом ravel(), который возвращает новое представление, не меняя текущего: "
   ]
  },
  {
   "cell_type": "code",
   "execution_count": 19,
   "metadata": {},
   "outputs": [
    {
     "data": {
      "text/plain": [
       "array([-1.+0.j, -1.+0.j, -1.+0.j,  4.+0.j,  5.+0.j,  6.+0.j])"
      ]
     },
     "execution_count": 19,
     "metadata": {},
     "output_type": "execute_result"
    }
   ],
   "source": [
    "c = b.ravel() # с ссылается на одномерное представление массива\n",
    "c"
   ]
  },
  {
   "cell_type": "markdown",
   "metadata": {},
   "source": [
    "Если же нам нужно текущий массив преобразовать в одномерный, то это можно сделать так: "
   ]
  },
  {
   "cell_type": "code",
   "execution_count": 20,
   "metadata": {},
   "outputs": [],
   "source": [
    "b.shape = -1"
   ]
  },
  {
   "cell_type": "markdown",
   "metadata": {},
   "source": [
    "Помимо свойства shape можно использовать метод resize, который выполняет подобную операцию с текущим массивом. Например: "
   ]
  },
  {
   "cell_type": "code",
   "execution_count": 21,
   "metadata": {},
   "outputs": [],
   "source": [
    "a.resize(2, 5) # массив 2x5"
   ]
  },
  {
   "cell_type": "markdown",
   "metadata": {},
   "source": [
    "Но, как мы уже говорили, вот такая строчка приведет к ошибке: "
   ]
  },
  {
   "cell_type": "code",
   "execution_count": 22,
   "metadata": {},
   "outputs": [
    {
     "ename": "ValueError",
     "evalue": "cannot resize an array that references or is referenced\nby another array in this way.\nUse the np.resize function or refcheck=False",
     "output_type": "error",
     "traceback": [
      "\u001b[0;31m---------------------------------------------------------------------------\u001b[0m",
      "\u001b[0;31mValueError\u001b[0m                                Traceback (most recent call last)",
      "\u001b[0;32m/tmp/ipykernel_4875/4058682236.py\u001b[0m in \u001b[0;36m<module>\u001b[0;34m\u001b[0m\n\u001b[0;32m----> 1\u001b[0;31m \u001b[0ma\u001b[0m\u001b[0;34m.\u001b[0m\u001b[0mresize\u001b[0m\u001b[0;34m(\u001b[0m\u001b[0;36m3\u001b[0m\u001b[0;34m,\u001b[0m \u001b[0;36m3\u001b[0m\u001b[0;34m)\u001b[0m  \u001b[0;31m# ошибка: 3x3 != 10\u001b[0m\u001b[0;34m\u001b[0m\u001b[0;34m\u001b[0m\u001b[0m\n\u001b[0m",
      "\u001b[0;31mValueError\u001b[0m: cannot resize an array that references or is referenced\nby another array in this way.\nUse the np.resize function or refcheck=False"
     ]
    }
   ],
   "source": [
    "a.resize(3, 3)  # ошибка: 3x3 != 10"
   ]
  },
  {
   "cell_type": "markdown",
   "metadata": {},
   "source": [
    "# Транспонирование матриц и векторов"
   ]
  },
  {
   "cell_type": "markdown",
   "metadata": {},
   "source": [
    "Очень часто в математических операциях требуется выполнять транспонирование матриц и векторов, то есть, заменять строки на столбцы. Например, если имеется матрица (двумерный массив): "
   ]
  },
  {
   "cell_type": "code",
   "execution_count": 23,
   "metadata": {},
   "outputs": [
    {
     "data": {
      "text/plain": [
       "array([[ 1,  2,  3],\n",
       "       [ 1,  4,  9],\n",
       "       [ 1,  8, 27]])"
      ]
     },
     "execution_count": 23,
     "metadata": {},
     "output_type": "execute_result"
    }
   ],
   "source": [
    "a = np.array([(1, 2, 3), (1, 4, 9), (1, 8, 27)])\n",
    "a"
   ]
  },
  {
   "cell_type": "markdown",
   "metadata": {},
   "source": [
    "то операция транспонирования может быть реализована так: "
   ]
  },
  {
   "cell_type": "code",
   "execution_count": 24,
   "metadata": {},
   "outputs": [
    {
     "data": {
      "text/plain": [
       "array([[ 1,  1,  1],\n",
       "       [ 2,  4,  8],\n",
       "       [ 3,  9, 27]])"
      ]
     },
     "execution_count": 24,
     "metadata": {},
     "output_type": "execute_result"
    }
   ],
   "source": [
    "b = a.T\n",
    "b"
   ]
  },
  {
   "cell_type": "markdown",
   "metadata": {},
   "source": [
    "Обратите внимание, мы здесь создаем лишь новое представление тех же самых данных массива a. И изменение элементов в массиве b: "
   ]
  },
  {
   "cell_type": "code",
   "execution_count": 25,
   "metadata": {},
   "outputs": [],
   "source": [
    "b[0, 1] = 10"
   ]
  },
  {
   "cell_type": "markdown",
   "metadata": {},
   "source": [
    "приведет к соответствующему изменению значения элемента и массива a. Это следует помнить, используя операцию транспонирования.\n",
    "\n",
    "Транспонирование векторов работает несколько иначе. Предположим, имеется одномерный массив: "
   ]
  },
  {
   "cell_type": "code",
   "execution_count": 26,
   "metadata": {},
   "outputs": [
    {
     "data": {
      "text/plain": [
       "array([1, 2, 3, 4, 5, 6, 7, 8, 9])"
      ]
     },
     "execution_count": 26,
     "metadata": {},
     "output_type": "execute_result"
    }
   ],
   "source": [
    "x = np.arange(1, 10)\n",
    "x"
   ]
  },
  {
   "cell_type": "markdown",
   "metadata": {},
   "source": [
    "и мы выполняем операцию транспонирования: "
   ]
  },
  {
   "cell_type": "code",
   "execution_count": 27,
   "metadata": {},
   "outputs": [
    {
     "data": {
      "text/plain": [
       "array([1, 2, 3, 4, 5, 6, 7, 8, 9])"
      ]
     },
     "execution_count": 27,
     "metadata": {},
     "output_type": "execute_result"
    }
   ],
   "source": [
    "x.T\n",
    "x"
   ]
  },
  {
   "cell_type": "markdown",
   "metadata": {},
   "source": [
    "В результате ничего не изменилось: вектор как был строкой, так строкой и остался. Почему? Дело в том, что массив x имеет только одну размерность, поэтому здесь нет понятия строк и столбцов. Соответственно, операция транспонирования ни к чему не приводит. Чтобы получить ожидаемый эффект, нужно добавить к массиву еще одну ось, например, так: "
   ]
  },
  {
   "cell_type": "code",
   "execution_count": 28,
   "metadata": {},
   "outputs": [],
   "source": [
    "x.shape = 1, -1"
   ]
  },
  {
   "cell_type": "markdown",
   "metadata": {},
   "source": [
    "И теперь, при транспонировании получим вектор-столбец: "
   ]
  },
  {
   "cell_type": "code",
   "execution_count": 29,
   "metadata": {},
   "outputs": [
    {
     "name": "stdout",
     "output_type": "stream",
     "text": [
      "[[1]\n",
      " [2]\n",
      " [3]\n",
      " [4]\n",
      " [5]\n",
      " [6]\n",
      " [7]\n",
      " [8]\n",
      " [9]]\n",
      "[[1 2 3 4 5 6 7 8 9]]\n"
     ]
    }
   ],
   "source": [
    "print(x.T)\n",
    "print(x)"
   ]
  },
  {
   "cell_type": "markdown",
   "metadata": {},
   "source": [
    "# Операции с индексами"
   ]
  },
  {
   "cell_type": "markdown",
   "metadata": {},
   "source": [
    "Оперативная память компьютера линейна, и поэтому даже многомерные массивы, на самом деле являются некоторыми линейными структурами, над которыми существуют система индексов, говорящих как именно читать этот линейный блок. Проведение операций над индексами в большистве случаев эффективно и поэтому операции смены размерности массива или транспонирования выполняются быстро"
   ]
  },
  {
   "cell_type": "code",
   "execution_count": 30,
   "metadata": {},
   "outputs": [
    {
     "name": "stdout",
     "output_type": "stream",
     "text": [
      "[[1 3]\n",
      " [2 4]]\n"
     ]
    }
   ],
   "source": [
    "import numpy as np\n",
    "\n",
    "a = np.asarray([[1,2], [3,4]])\n",
    "b = a.T # Транспонированый массив\n",
    "print(b)"
   ]
  },
  {
   "cell_type": "code",
   "execution_count": 31,
   "metadata": {},
   "outputs": [
    {
     "name": "stdout",
     "output_type": "stream",
     "text": [
      "[[10  3]\n",
      " [ 2  4]]\n"
     ]
    }
   ],
   "source": [
    "b[0,0] = 10\n",
    "print(b)"
   ]
  },
  {
   "cell_type": "code",
   "execution_count": 32,
   "metadata": {},
   "outputs": [
    {
     "name": "stdout",
     "output_type": "stream",
     "text": [
      "[[10  2]\n",
      " [ 3  4]]\n"
     ]
    }
   ],
   "source": [
    "print(a)"
   ]
  },
  {
   "cell_type": "code",
   "execution_count": 33,
   "metadata": {},
   "outputs": [
    {
     "data": {
      "text/plain": [
       "array([[11,  3],\n",
       "       [ 2,  4]])"
      ]
     },
     "execution_count": 33,
     "metadata": {},
     "output_type": "execute_result"
    }
   ],
   "source": [
    "b[0][0] = 11\n",
    "b"
   ]
  },
  {
   "cell_type": "markdown",
   "metadata": {},
   "source": [
    "Как мы видим при изменени переменной b изменилась переменная a. Это произошло потому, что обе эти переменные использубют один и тот же кусок памяти, но по разному."
   ]
  },
  {
   "cell_type": "markdown",
   "metadata": {},
   "source": [
    "# Добавление и удаление осей"
   ]
  },
  {
   "cell_type": "markdown",
   "metadata": {},
   "source": [
    "Часто при работе с массивами NumPy требуется добавлять новые оси измерений и удалять существующие. Есть множество способов выполнять эти операции, но мы рассмотрим два наиболее распространенных с помощью функций:\n",
    "\n",
    "    np.expand_dims(a, axis) – добавление новой оси;\n",
    "    np.squeeze(a[, axis]) – удаление оси (без удаления элементов). \n",
    "\n",
    "Давайте предположим, что у нас имеется некий многомерный массив: "
   ]
  },
  {
   "cell_type": "code",
   "execution_count": 1,
   "metadata": {},
   "outputs": [
    {
     "ename": "NameError",
     "evalue": "name 'np' is not defined",
     "output_type": "error",
     "traceback": [
      "\u001b[0;31m---------------------------------------------------------------------------\u001b[0m",
      "\u001b[0;31mNameError\u001b[0m                                 Traceback (most recent call last)",
      "\u001b[0;32m/tmp/ipykernel_7583/3351636604.py\u001b[0m in \u001b[0;36m<module>\u001b[0;34m\u001b[0m\n\u001b[0;32m----> 1\u001b[0;31m \u001b[0mx_test\u001b[0m \u001b[0;34m=\u001b[0m \u001b[0mnp\u001b[0m\u001b[0;34m.\u001b[0m\u001b[0marange\u001b[0m\u001b[0;34m(\u001b[0m\u001b[0;36m32\u001b[0m\u001b[0;34m)\u001b[0m\u001b[0;34m.\u001b[0m\u001b[0mreshape\u001b[0m\u001b[0;34m(\u001b[0m\u001b[0;36m8\u001b[0m\u001b[0;34m,\u001b[0m \u001b[0;36m2\u001b[0m\u001b[0;34m,\u001b[0m \u001b[0;36m2\u001b[0m\u001b[0;34m)\u001b[0m \u001b[0;31m# массив 8x2x2\u001b[0m\u001b[0;34m\u001b[0m\u001b[0;34m\u001b[0m\u001b[0m\n\u001b[0m",
      "\u001b[0;31mNameError\u001b[0m: name 'np' is not defined"
     ]
    }
   ],
   "source": [
    "x_test = np.arange(32).reshape(8, 2, 2) # массив 8x2x2"
   ]
  },
  {
   "cell_type": "markdown",
   "metadata": {},
   "source": [
    "И нам потребовалось добавить еще одно измерение (ось), причем, в самое начало, то есть, ось axis0. Сейчас на этой оси 8 элементов – матриц 2x2, но мы хотим сделать четырехмерный массив, сохранив остальные три оси и их данные без изменений. Как раз это достаточно просто сделать с помощью функции expand_dims, следующим образом: "
   ]
  },
  {
   "cell_type": "code",
   "execution_count": 35,
   "metadata": {},
   "outputs": [],
   "source": [
    "x_test4 = np.expand_dims(x_test, axis=0)"
   ]
  },
  {
   "cell_type": "markdown",
   "metadata": {},
   "source": [
    "Обращаясь к свойству shape: "
   ]
  },
  {
   "cell_type": "markdown",
   "metadata": {},
   "source": [
    "x_test4.shape"
   ]
  },
  {
   "cell_type": "markdown",
   "metadata": {},
   "source": [
    "Видим, что массив стал четырехмерным и первая добавленная ось axis0 содержит один элемент – трехмерный массив 8x2x2. При необходимости, мы всегда можем добавить новый элемент на эту ось: "
   ]
  },
  {
   "cell_type": "code",
   "execution_count": 36,
   "metadata": {},
   "outputs": [
    {
     "data": {
      "text/plain": [
       "array([[[[ 0,  1],\n",
       "         [ 2,  3]],\n",
       "\n",
       "        [[ 4,  5],\n",
       "         [ 6,  7]],\n",
       "\n",
       "        [[ 8,  9],\n",
       "         [10, 11]],\n",
       "\n",
       "        [[12, 13],\n",
       "         [14, 15]],\n",
       "\n",
       "        [[16, 17],\n",
       "         [18, 19]],\n",
       "\n",
       "        [[20, 21],\n",
       "         [22, 23]],\n",
       "\n",
       "        [[24, 25],\n",
       "         [26, 27]],\n",
       "\n",
       "        [[28, 29],\n",
       "         [30, 31]]],\n",
       "\n",
       "\n",
       "       [[[ 0,  1],\n",
       "         [ 2,  3]],\n",
       "\n",
       "        [[ 4,  5],\n",
       "         [ 6,  7]],\n",
       "\n",
       "        [[ 8,  9],\n",
       "         [10, 11]],\n",
       "\n",
       "        [[12, 13],\n",
       "         [14, 15]],\n",
       "\n",
       "        [[16, 17],\n",
       "         [18, 19]],\n",
       "\n",
       "        [[20, 21],\n",
       "         [22, 23]],\n",
       "\n",
       "        [[24, 25],\n",
       "         [26, 27]],\n",
       "\n",
       "        [[28, 29],\n",
       "         [30, 31]]]])"
      ]
     },
     "execution_count": 36,
     "metadata": {},
     "output_type": "execute_result"
    }
   ],
   "source": [
    "a = np.append(x_test4, x_test4, axis=0) # размерность (2, 8, 2, 2)\n",
    "a"
   ]
  },
  {
   "cell_type": "markdown",
   "metadata": {},
   "source": [
    "или удалить ненужные элементы: "
   ]
  },
  {
   "cell_type": "code",
   "execution_count": 37,
   "metadata": {},
   "outputs": [
    {
     "data": {
      "text/plain": [
       "array([[[[ 0,  1],\n",
       "         [ 2,  3]],\n",
       "\n",
       "        [[ 4,  5],\n",
       "         [ 6,  7]],\n",
       "\n",
       "        [[ 8,  9],\n",
       "         [10, 11]],\n",
       "\n",
       "        [[12, 13],\n",
       "         [14, 15]],\n",
       "\n",
       "        [[16, 17],\n",
       "         [18, 19]],\n",
       "\n",
       "        [[20, 21],\n",
       "         [22, 23]],\n",
       "\n",
       "        [[24, 25],\n",
       "         [26, 27]],\n",
       "\n",
       "        [[28, 29],\n",
       "         [30, 31]]]])"
      ]
     },
     "execution_count": 37,
     "metadata": {},
     "output_type": "execute_result"
    }
   ],
   "source": [
    "b = np.delete(a, 0, axis=0) # размерность (1, 8, 2, 2)\n",
    "b"
   ]
  },
  {
   "cell_type": "markdown",
   "metadata": {},
   "source": [
    "Здесь второй параметр 0 – индекс удаляемого элемента на оси axis0.\n",
    "\n",
    "Если нам нужно добавить последнюю ось в массиве, то для этого можно записать такую команду: "
   ]
  },
  {
   "cell_type": "code",
   "execution_count": 38,
   "metadata": {},
   "outputs": [],
   "source": [
    "b = np.expand_dims(x_test4, axis=-1) # размерность (1, 8, 2, 2, 1)"
   ]
  },
  {
   "cell_type": "markdown",
   "metadata": {},
   "source": [
    "Отрицательный индекс -1 – это следующая с конца ось. Если указать индекс -2, то добавится предпоследняя ось и так далее. Отрицательные индексы очень удобно использовать при работе с массивами произвольных размерностей.\n",
    "\n",
    "Следующая функция squeeze позволяет удалить все оси с одним элементом. Например, строчка: "
   ]
  },
  {
   "cell_type": "code",
   "execution_count": 39,
   "metadata": {},
   "outputs": [
    {
     "data": {
      "text/plain": [
       "array([[[ 0,  1],\n",
       "        [ 2,  3]],\n",
       "\n",
       "       [[ 4,  5],\n",
       "        [ 6,  7]],\n",
       "\n",
       "       [[ 8,  9],\n",
       "        [10, 11]],\n",
       "\n",
       "       [[12, 13],\n",
       "        [14, 15]],\n",
       "\n",
       "       [[16, 17],\n",
       "        [18, 19]],\n",
       "\n",
       "       [[20, 21],\n",
       "        [22, 23]],\n",
       "\n",
       "       [[24, 25],\n",
       "        [26, 27]],\n",
       "\n",
       "       [[28, 29],\n",
       "        [30, 31]]])"
      ]
     },
     "execution_count": 39,
     "metadata": {},
     "output_type": "execute_result"
    }
   ],
   "source": [
    "c = np.squeeze(b) # размерность (8, 2, 2)\n",
    "c"
   ]
  },
  {
   "cell_type": "markdown",
   "metadata": {},
   "source": [
    "превращает массив размерностью (1, 8, 2, 2) в массив размерностью (8, 2, 2). При необходимости, дополнительно мы можем самостоятельно указать оси, которые следует удалять, например, так: "
   ]
  },
  {
   "cell_type": "code",
   "execution_count": 40,
   "metadata": {},
   "outputs": [],
   "source": [
    "c = np.squeeze(b, axis=0) # удалит только ось axis0, не затронув другие"
   ]
  },
  {
   "cell_type": "markdown",
   "metadata": {},
   "source": [
    "Но, если указать ось с числом элементов больше 1, то возникнет ошибка: "
   ]
  },
  {
   "cell_type": "code",
   "execution_count": 41,
   "metadata": {},
   "outputs": [
    {
     "ename": "ValueError",
     "evalue": "cannot select an axis to squeeze out which has size not equal to one",
     "output_type": "error",
     "traceback": [
      "\u001b[0;31m---------------------------------------------------------------------------\u001b[0m",
      "\u001b[0;31mValueError\u001b[0m                                Traceback (most recent call last)",
      "\u001b[0;32m/tmp/ipykernel_4875/129786531.py\u001b[0m in \u001b[0;36m<module>\u001b[0;34m\u001b[0m\n\u001b[0;32m----> 1\u001b[0;31m \u001b[0mc\u001b[0m \u001b[0;34m=\u001b[0m \u001b[0mnp\u001b[0m\u001b[0;34m.\u001b[0m\u001b[0msqueeze\u001b[0m\u001b[0;34m(\u001b[0m\u001b[0mb\u001b[0m\u001b[0;34m,\u001b[0m \u001b[0maxis\u001b[0m\u001b[0;34m=\u001b[0m\u001b[0;36m1\u001b[0m\u001b[0;34m)\u001b[0m \u001b[0;31m# ошибка, на оси axis1 8 элементов\u001b[0m\u001b[0;34m\u001b[0m\u001b[0;34m\u001b[0m\u001b[0m\n\u001b[0m",
      "\u001b[0;32m<__array_function__ internals>\u001b[0m in \u001b[0;36msqueeze\u001b[0;34m(*args, **kwargs)\u001b[0m\n",
      "\u001b[0;32m/opt/rh/rh-python38/root/usr/local/lib64/python3.8/site-packages/numpy/core/fromnumeric.py\u001b[0m in \u001b[0;36msqueeze\u001b[0;34m(a, axis)\u001b[0m\n\u001b[1;32m   1506\u001b[0m         \u001b[0;32mreturn\u001b[0m \u001b[0msqueeze\u001b[0m\u001b[0;34m(\u001b[0m\u001b[0;34m)\u001b[0m\u001b[0;34m\u001b[0m\u001b[0;34m\u001b[0m\u001b[0m\n\u001b[1;32m   1507\u001b[0m     \u001b[0;32melse\u001b[0m\u001b[0;34m:\u001b[0m\u001b[0;34m\u001b[0m\u001b[0;34m\u001b[0m\u001b[0m\n\u001b[0;32m-> 1508\u001b[0;31m         \u001b[0;32mreturn\u001b[0m \u001b[0msqueeze\u001b[0m\u001b[0;34m(\u001b[0m\u001b[0maxis\u001b[0m\u001b[0;34m=\u001b[0m\u001b[0maxis\u001b[0m\u001b[0;34m)\u001b[0m\u001b[0;34m\u001b[0m\u001b[0;34m\u001b[0m\u001b[0m\n\u001b[0m\u001b[1;32m   1509\u001b[0m \u001b[0;34m\u001b[0m\u001b[0m\n\u001b[1;32m   1510\u001b[0m \u001b[0;34m\u001b[0m\u001b[0m\n",
      "\u001b[0;31mValueError\u001b[0m: cannot select an axis to squeeze out which has size not equal to one"
     ]
    }
   ],
   "source": [
    "c = np.squeeze(b, axis=1) # ошибка, на оси axis1 8 элементов"
   ]
  },
  {
   "cell_type": "markdown",
   "metadata": {},
   "source": [
    "В NumPy добавлять новые оси иногда удобнее с помощью специального объекта np.newaxis. Например, пусть у нас есть одномерный массив: "
   ]
  },
  {
   "cell_type": "code",
   "execution_count": 42,
   "metadata": {},
   "outputs": [
    {
     "data": {
      "text/plain": [
       "array([1, 2, 3, 4, 5, 6, 7, 8, 9])"
      ]
     },
     "execution_count": 42,
     "metadata": {},
     "output_type": "execute_result"
    }
   ],
   "source": [
    "a = np.arange(1, 10)\n",
    "a"
   ]
  },
  {
   "cell_type": "markdown",
   "metadata": {},
   "source": [
    "У него одна ось – одно измерение. Добавим еще одну ось, допустим, в начало. С помощью объекта np.newaxis это можно сделать так: "
   ]
  },
  {
   "cell_type": "code",
   "execution_count": 43,
   "metadata": {},
   "outputs": [
    {
     "name": "stdout",
     "output_type": "stream",
     "text": [
      "[[1 2 3 4 5 6 7 8 9]]\n"
     ]
    },
    {
     "data": {
      "text/plain": [
       "(1, 9)"
      ]
     },
     "execution_count": 43,
     "metadata": {},
     "output_type": "execute_result"
    }
   ],
   "source": [
    "b = a[np.newaxis, :] # добавление оси axis0\n",
    "print(b)\n",
    "b.shape # (1, 9)"
   ]
  },
  {
   "cell_type": "markdown",
   "metadata": {},
   "source": [
    "Или, можно прописать сразу две оси: "
   ]
  },
  {
   "cell_type": "code",
   "execution_count": 44,
   "metadata": {},
   "outputs": [
    {
     "name": "stdout",
     "output_type": "stream",
     "text": [
      "[[[1]\n",
      "  [2]\n",
      "  [3]\n",
      "  [4]\n",
      "  [5]\n",
      "  [6]\n",
      "  [7]\n",
      "  [8]\n",
      "  [9]]]\n"
     ]
    },
    {
     "data": {
      "text/plain": [
       "(1, 9, 1)"
      ]
     },
     "execution_count": 44,
     "metadata": {},
     "output_type": "execute_result"
    }
   ],
   "source": [
    "c = a[np.newaxis, :, np.newaxis]\n",
    "print(c)\n",
    "c.shape # (1, 9, 1)"
   ]
  },
  {
   "cell_type": "markdown",
   "metadata": {},
   "source": [
    "# Базовые математические операции над массивами"
   ]
  },
  {
   "cell_type": "markdown",
   "metadata": {},
   "source": [
    "Предположим, имеется обычный список и массив, созданный на его основе:"
   ]
  },
  {
   "cell_type": "code",
   "execution_count": 45,
   "metadata": {},
   "outputs": [],
   "source": [
    "lst = [1, 2, 3]\n",
    "a = np.array([1, 2, 3])"
   ]
  },
  {
   "cell_type": "markdown",
   "metadata": {},
   "source": [
    "Сейчас вы увидите принципиальную разницу между двумя этими объектами. Умножим их на число 2: "
   ]
  },
  {
   "cell_type": "code",
   "execution_count": 46,
   "metadata": {},
   "outputs": [
    {
     "data": {
      "text/plain": [
       "array([2, 4, 6])"
      ]
     },
     "execution_count": 46,
     "metadata": {},
     "output_type": "execute_result"
    }
   ],
   "source": [
    "lst*2\n",
    "a*2"
   ]
  },
  {
   "cell_type": "markdown",
   "metadata": {},
   "source": [
    "Видите, при умножении списка языка Python, он дублируется дважды, а при умножении на NumPy массив – каждый его элемент умножается математически на число 2. Если бы мы захотели то же самое реализовать непосредственно на Python, оперируя списками, то пришлось бы делать что-то вроде:"
   ]
  },
  {
   "cell_type": "code",
   "execution_count": 47,
   "metadata": {},
   "outputs": [
    {
     "data": {
      "text/plain": [
       "[2, 4, 6]"
      ]
     },
     "execution_count": 47,
     "metadata": {},
     "output_type": "execute_result"
    }
   ],
   "source": [
    "[x*2 for x in lst]"
   ]
  },
  {
   "cell_type": "markdown",
   "metadata": {},
   "source": [
    "Но выполнялась бы такая конструкция дольше, чем в случае с массивом NumPy. Именно благодаря удобству и скорости библиотека NumPy и приобрела свою популярность."
   ]
  },
  {
   "cell_type": "markdown",
   "metadata": {},
   "source": [
    "Пусть у нас задан тот же одномерный массив: "
   ]
  },
  {
   "cell_type": "code",
   "execution_count": 48,
   "metadata": {},
   "outputs": [],
   "source": [
    "a = np.array([1, 2, 3])"
   ]
  },
  {
   "cell_type": "markdown",
   "metadata": {},
   "source": [
    "Все указанные в таблице операции выполняются следующим образом: "
   ]
  },
  {
   "cell_type": "code",
   "execution_count": 49,
   "metadata": {},
   "outputs": [
    {
     "name": "stdout",
     "output_type": "stream",
     "text": [
      "[-1 -2 -3]\n",
      "[3 4 5]\n",
      "[3 4 5]\n",
      "[-2 -1  0]\n",
      "[ 5 10 15]\n",
      "[0.2 0.4 0.6]\n",
      "[0 1 1]\n",
      "[ 1  8 27]\n",
      "[1 0 1]\n"
     ]
    }
   ],
   "source": [
    "print(-a) # унарный минус\n",
    "print(a + 2) # сложение с числом\n",
    "print(2 + a)  # так тоже можно записывать\n",
    "print(a - 3) # вычитание с числом\n",
    "print(a * 5) # умножение на число\n",
    "print(a / 5)  # деление на число\n",
    "print(a // 2)  # целочисленное деление\n",
    "print(a ** 3)  # возведение в степень 3\n",
    "print(a % 2)  # вычисление по модулю 2"
   ]
  },
  {
   "cell_type": "markdown",
   "metadata": {},
   "source": [
    "Приоритеты этих операций такие же, что и при обычных математических вычислениях. А на выходе мы получаем новый массив с соответствующими значениями.\n",
    "\n",
    "Давайте теперь добавим еще один массив: "
   ]
  },
  {
   "cell_type": "code",
   "execution_count": 50,
   "metadata": {},
   "outputs": [],
   "source": [
    "b = np.array([3, 4, 5])"
   ]
  },
  {
   "cell_type": "markdown",
   "metadata": {},
   "source": [
    "и посмотрим на эти же операции, но с участием двух массивов:"
   ]
  },
  {
   "cell_type": "code",
   "execution_count": 51,
   "metadata": {},
   "outputs": [
    {
     "name": "stdout",
     "output_type": "stream",
     "text": [
      "[-2 -2 -2]\n",
      "[4 6 8]\n",
      "[ 3  8 15]\n",
      "[3.         2.         1.66666667]\n",
      "[3 2 1]\n",
      "[  3  16 125]\n",
      "[0 0 2]\n"
     ]
    }
   ],
   "source": [
    "print(a - b)\n",
    "print(b + a)\n",
    "print(a * b)\n",
    "print(b / a)\n",
    "print(b // a)\n",
    "print(b ** a)\n",
    "print(b % a)"
   ]
  },
  {
   "cell_type": "markdown",
   "metadata": {},
   "source": [
    "Везде мы видим поэлементные операции. Соответственно, чтобы они выполнялись, массивы должны быть согласованы по длине. Например, если взять массив: "
   ]
  },
  {
   "cell_type": "code",
   "execution_count": 52,
   "metadata": {},
   "outputs": [],
   "source": [
    "b = np.array([3, 4, 5, 6])"
   ]
  },
  {
   "cell_type": "markdown",
   "metadata": {},
   "source": [
    "и выполнить операцию: "
   ]
  },
  {
   "cell_type": "code",
   "execution_count": 53,
   "metadata": {},
   "outputs": [
    {
     "ename": "ValueError",
     "evalue": "operands could not be broadcast together with shapes (3,) (4,) ",
     "output_type": "error",
     "traceback": [
      "\u001b[0;31m---------------------------------------------------------------------------\u001b[0m",
      "\u001b[0;31mValueError\u001b[0m                                Traceback (most recent call last)",
      "\u001b[0;32m/tmp/ipykernel_4875/557321716.py\u001b[0m in \u001b[0;36m<module>\u001b[0;34m\u001b[0m\n\u001b[0;32m----> 1\u001b[0;31m \u001b[0ma\u001b[0m \u001b[0;34m+\u001b[0m \u001b[0mb\u001b[0m  \u001b[0;31m# ошибка: длины массивов не совпадают\u001b[0m\u001b[0;34m\u001b[0m\u001b[0;34m\u001b[0m\u001b[0m\n\u001b[0m",
      "\u001b[0;31mValueError\u001b[0m: operands could not be broadcast together with shapes (3,) (4,) "
     ]
    }
   ],
   "source": [
    "a + b  # ошибка: длины массивов не совпадают"
   ]
  },
  {
   "cell_type": "markdown",
   "metadata": {},
   "source": [
    "то возникнет ошибка из-за несовпадения длин массивов. Но вот такая операция с двумерным массивом b сработает: "
   ]
  },
  {
   "cell_type": "code",
   "execution_count": 54,
   "metadata": {},
   "outputs": [
    {
     "data": {
      "text/plain": [
       "array([[2, 4, 6],\n",
       "       [5, 7, 9]])"
      ]
     },
     "execution_count": 54,
     "metadata": {},
     "output_type": "execute_result"
    }
   ],
   "source": [
    "b = np.arange(1, 7)\n",
    "b.resize(2, 3)\n",
    "a + b"
   ]
  },
  {
   "cell_type": "markdown",
   "metadata": {},
   "source": [
    "В этом случае массив a будет применен к каждой строке массива b. Такое поведение получило название транслирование массивов."
   ]
  },
  {
   "cell_type": "markdown",
   "metadata": {},
   "source": [
    "Все рассмотренные операции можно распространить и на многомерные массивы, главное, чтобы они были согласованы по размерам. Я приведу два небольших примера, так как думаю, общий принцип здесь понятен. Пусть у нас трехмерный и двумерный массивы: "
   ]
  },
  {
   "cell_type": "code",
   "execution_count": 55,
   "metadata": {},
   "outputs": [],
   "source": [
    "a = np.arange(1, 19)\n",
    "a.resize(3, 3, 2)\n",
    "b = np.ones((3, 2))"
   ]
  },
  {
   "cell_type": "markdown",
   "metadata": {},
   "source": [
    "С ними можно выполнять такие операции:"
   ]
  },
  {
   "cell_type": "code",
   "execution_count": 56,
   "metadata": {},
   "outputs": [
    {
     "name": "stdout",
     "output_type": "stream",
     "text": [
      "[[[ 0.  1.]\n",
      "  [ 2.  3.]\n",
      "  [ 4.  5.]]\n",
      "\n",
      " [[ 6.  7.]\n",
      "  [ 8.  9.]\n",
      "  [10. 11.]]\n",
      "\n",
      " [[12. 13.]\n",
      "  [14. 15.]\n",
      "  [16. 17.]]]\n",
      "[[[ 10  20]\n",
      "  [ 30  40]\n",
      "  [ 50  60]]\n",
      "\n",
      " [[ 70  80]\n",
      "  [ 90 100]\n",
      "  [110 120]]\n",
      "\n",
      " [[130 140]\n",
      "  [150 160]\n",
      "  [170 180]]]\n",
      "[[[ 1.  2.]\n",
      "  [ 3.  4.]\n",
      "  [ 5.  6.]]\n",
      "\n",
      " [[ 7.  8.]\n",
      "  [ 9. 10.]\n",
      "  [11. 12.]]\n",
      "\n",
      " [[13. 14.]\n",
      "  [15. 16.]\n",
      "  [17. 18.]]]\n"
     ]
    }
   ],
   "source": [
    "print(a - b)\n",
    "print(a * 10)\n",
    "print(a // b)"
   ]
  },
  {
   "cell_type": "markdown",
   "metadata": {},
   "source": [
    "Если нам нужно произвести какие-либо математические операции с массивом и изменения сохранить в нем же, то удобно использовать сокращенные записи."
   ]
  },
  {
   "cell_type": "code",
   "execution_count": 57,
   "metadata": {},
   "outputs": [],
   "source": [
    "a = np.array([1, 2, 6, 8])\n",
    "a += 5\n",
    "b = np.ones(4)\n",
    "b *= a"
   ]
  },
  {
   "cell_type": "markdown",
   "metadata": {},
   "source": [
    "# Элементы линейной алгебры"
   ]
  },
  {
   "cell_type": "markdown",
   "metadata": {},
   "source": [
    "**Упражнение 1**\n",
    "\n",
    "Создайте два вектора.\n",
    "\n",
    "Найдите в документации numpy функции **dot** и **inner** вычислите скалярное произведение векторов."
   ]
  },
  {
   "cell_type": "code",
   "execution_count": 78,
   "metadata": {},
   "outputs": [
    {
     "data": {
      "text/plain": [
       "32"
      ]
     },
     "execution_count": 78,
     "metadata": {},
     "output_type": "execute_result"
    }
   ],
   "source": [
    "x = np.array([1, 2, 3])\n",
    "y = np.array([4, 5, 6])\n",
    "np.dot (x, y)"
   ]
  },
  {
   "cell_type": "markdown",
   "metadata": {},
   "source": [
    "**Упражнение 2**\n",
    "\n",
    "Создайте две матрицы (двумерных массива).\n",
    "\n",
    "Найдите в документации numpy функции **dot** и **matmul** и с помощью этих функций вычислите произведение двух матриц.\n",
    "\n",
    "Создайте диагональную единичную матрицу и выполните умножение одной из предыдущих матриц на единичную матрицу."
   ]
  },
  {
   "cell_type": "code",
   "execution_count": 79,
   "metadata": {},
   "outputs": [
    {
     "data": {
      "text/plain": [
       "array([[1., 1., 1.],\n",
       "       [2., 2., 2.],\n",
       "       [3., 3., 3.]])"
      ]
     },
     "execution_count": 79,
     "metadata": {},
     "output_type": "execute_result"
    }
   ],
   "source": [
    "p = np.array([[1, 1, 1], [2, 2, 2], [3, 3, 3]])\n",
    "q = np.array([[8, 7, 6], [5, 5, 5], [4, 4, 4]])\n",
    "e = np.eye(3, 3)\n",
    "w = np.matmul(p, q)\n",
    "w2 = np.matmul(p, e)\n",
    "w2"
   ]
  },
  {
   "cell_type": "markdown",
   "metadata": {},
   "source": [
    "Вычисление нормы вектора:"
   ]
  },
  {
   "cell_type": "code",
   "execution_count": 80,
   "metadata": {},
   "outputs": [
    {
     "data": {
      "text/plain": [
       "10.14889156509222"
      ]
     },
     "execution_count": 80,
     "metadata": {},
     "output_type": "execute_result"
    }
   ],
   "source": [
    "b = np.array([0, 2, 3, 4, 5, 7])\n",
    "d = np.linalg.norm(b)\n",
    "d"
   ]
  },
  {
   "cell_type": "markdown",
   "metadata": {},
   "source": [
    "**Упражнение 3**\n",
    "\n",
    "Вычислите норму матрицы с помощью функции **np.linalg.norm**."
   ]
  },
  {
   "cell_type": "code",
   "execution_count": 81,
   "metadata": {},
   "outputs": [
    {
     "data": {
      "text/plain": [
       "6.48074069840786"
      ]
     },
     "execution_count": 81,
     "metadata": {},
     "output_type": "execute_result"
    }
   ],
   "source": [
    "np.linalg.norm(p)"
   ]
  },
  {
   "cell_type": "markdown",
   "metadata": {},
   "source": [
    "**Упражнение 4**\n",
    "\n",
    "Вычислите косинус угла между векторами: $\\normalsize cos\\alpha = \\frac{a*b}{\\|a\\|*\\|b\\|}$"
   ]
  },
  {
   "cell_type": "code",
   "execution_count": 82,
   "metadata": {},
   "outputs": [
    {
     "data": {
      "text/plain": [
       "0.9746318461970762"
      ]
     },
     "execution_count": 82,
     "metadata": {},
     "output_type": "execute_result"
    }
   ],
   "source": [
    "np.dot(x, y)/(np.linalg.norm(x))/(np.linalg.norm(y))"
   ]
  },
  {
   "cell_type": "markdown",
   "metadata": {},
   "source": [
    "____________________________________________________________________________________________________________________\n",
    "Вычисление определителя матрицы:"
   ]
  },
  {
   "cell_type": "code",
   "execution_count": 83,
   "metadata": {},
   "outputs": [
    {
     "name": "stdout",
     "output_type": "stream",
     "text": [
      "[[-4 -1  2]\n",
      " [10  4 -1]\n",
      " [ 8  3  1]]\n",
      "-14.000000000000009\n"
     ]
    }
   ],
   "source": [
    "A = np.matrix('-4 -1 2; 10 4 -1; 8 3 1') # еще один способ для создания матрицы\n",
    "print(A)\n",
    "d = np.linalg.det(A)\n",
    "print(d)"
   ]
  },
  {
   "cell_type": "markdown",
   "metadata": {},
   "source": [
    "**Упражнение 5**\n",
    "\n",
    "Транспонируйте матрицу, вычислите определитель. Отличается ли определитель транспонированной матрицы от определителя исходной матрицы?\n",
    "\n",
    "Замените одну из строк матрицы на строку из нулей, вычислите определитель матрицы.\n",
    "\n",
    "Создайте матрицу, у которой две строки переставлены местами по сравнению с исходной матрицей, вычислите определитель новой матрицы.\n",
    "\n",
    "Создайте матрицу с двумя одинаковыми строками, вычислите ее определитель.\n",
    "\n",
    "Умножьте одну из строк исходной матрицы на число, вычислите определитель.\n",
    "\n",
    "Прибавьте к элементам одной строки прибавить элементы другой строки, умноженные на одно и тоже число, вычтслите определитель."
   ]
  },
  {
   "cell_type": "code",
   "execution_count": 122,
   "metadata": {},
   "outputs": [
    {
     "name": "stdout",
     "output_type": "stream",
     "text": [
      "-2.0000000000000004 -2.0\n",
      "0.0\n",
      "0.0\n",
      "0.0\n",
      "-10.000000000000002\n",
      "-9.999999999999993\n"
     ]
    }
   ],
   "source": [
    "matrix = np.array([[1, 2], [3, 4]]) #транспонирование\n",
    "m = matrix.T\n",
    "d1 = np.linalg.det(matrix)\n",
    "d2 = np.linalg.det(m)\n",
    "print(d1, d2)\n",
    "m[0] = [0, 0] #замена строки на нулевую\n",
    "print(np.linalg.det(m))\n",
    "n = [i for i in m[1]] #строки меняем местами\n",
    "m[1] = m[0]\n",
    "m[0] = n\n",
    "print(np.linalg.det(m))\n",
    "m3 = np.array([[3, 4], [3, 4]]) #матрица с одинаковыми строками\n",
    "print(np.linalg.det(m3))\n",
    "matrix = np.array([[5, 10], [3, 4]]) #строка умножена на число\n",
    "print(np.linalg.det(matrix))\n",
    "matrix = np.array([[11, 18], [3, 4]]) #строка + вторая строка, умноженная на число\n",
    "print(np.linalg.det(matrix))"
   ]
  },
  {
   "cell_type": "markdown",
   "metadata": {},
   "source": [
    "# Построение графиков в matplotlib"
   ]
  },
  {
   "cell_type": "markdown",
   "metadata": {},
   "source": [
    "Построение графика по точкам:"
   ]
  },
  {
   "cell_type": "code",
   "execution_count": 101,
   "metadata": {},
   "outputs": [
    {
     "data": {
      "image/png": "[encoded data removed]",
      "text/plain": [
       "<Figure size 432x288 with 1 Axes>"
      ]
     },
     "metadata": {
      "needs_background": "light"
     },
     "output_type": "display_data"
    }
   ],
   "source": [
    "import matplotlib.pyplot as plt\n",
    "plt.plot([1, 2, 3, 4, 5], [1, 2, 3, 4, 5])\n",
    "plt.show()"
   ]
  },
  {
   "cell_type": "markdown",
   "metadata": {},
   "source": [
    "Для начала построим линейную зависимость, дадим нашему графику название, подпишем оси и отобразим сетку:"
   ]
  },
  {
   "cell_type": "code",
   "execution_count": 102,
   "metadata": {},
   "outputs": [
    {
     "data": {
      "text/plain": [
       "[<matplotlib.lines.Line2D at 0x7f0be03a3fa0>]"
      ]
     },
     "execution_count": 102,
     "metadata": {},
     "output_type": "execute_result"
    },
    {
     "data": {
      "image/png": "[encoded data removed]",
      "text/plain": [
       "<Figure size 432x288 with 1 Axes>"
      ]
     },
     "metadata": {
      "needs_background": "light"
     },
     "output_type": "display_data"
    }
   ],
   "source": [
    "import numpy as np\n",
    "# Независимая (x) и зависимая (y) переменные\n",
    "x = np.linspace(0, 10, 50)\n",
    "y = x\n",
    "\n",
    "# Построение графика\n",
    "plt.title(\"Линейная зависимость y = x\") # заголовок\n",
    "plt.xlabel(\"x\") # ось абсцисс\n",
    "plt.ylabel(\"y\") # ось ординат\n",
    "plt.grid()      # включение отображение сетки\n",
    "plt.plot(x, y)  # построение графика"
   ]
  },
  {
   "cell_type": "markdown",
   "metadata": {},
   "source": [
    "Изменим тип линии и ее цвет, для этого в функцию plot(), в качестве третьего параметра передадим строку, сформированную определенным образом, в нашем случае это “r–”, где “r” означает красный цвет, а “–” – тип линии – пунктирная линия."
   ]
  },
  {
   "cell_type": "code",
   "execution_count": 103,
   "metadata": {},
   "outputs": [
    {
     "data": {
      "text/plain": [
       "[<matplotlib.lines.Line2D at 0x7f0be0394e80>]"
      ]
     },
     "execution_count": 103,
     "metadata": {},
     "output_type": "execute_result"
    },
    {
     "data": {
      "image/png": "[encoded data removed]",
      "text/plain": [
       "<Figure size 432x288 with 1 Axes>"
      ]
     },
     "metadata": {
      "needs_background": "light"
     },
     "output_type": "display_data"
    }
   ],
   "source": [
    "# Построение графика\n",
    "plt.title(\"Линейная зависимость y = x\") # заголовок\n",
    "plt.xlabel(\"x\") # ось абсцисс\n",
    "plt.ylabel(\"y\") # ось ординат\n",
    "plt.grid()      # включение отображение сетки\n",
    "plt.plot(x, y, \"r--\")  # построение графика"
   ]
  },
  {
   "cell_type": "markdown",
   "metadata": {},
   "source": [
    "**Несколько графиков на одном поле**\n",
    "\n",
    "Построим несколько графиков на одном поле, для этого добавим квадратичную зависимость:"
   ]
  },
  {
   "cell_type": "code",
   "execution_count": 104,
   "metadata": {},
   "outputs": [
    {
     "data": {
      "text/plain": [
       "[<matplotlib.lines.Line2D at 0x7f0be02ffd00>,\n",
       " <matplotlib.lines.Line2D at 0x7f0be02ffd30>]"
      ]
     },
     "execution_count": 104,
     "metadata": {},
     "output_type": "execute_result"
    },
    {
     "data": {
      "image/png": "[encoded data removed]",
      "text/plain": [
       "<Figure size 432x288 with 1 Axes>"
      ]
     },
     "metadata": {
      "needs_background": "light"
     },
     "output_type": "display_data"
    }
   ],
   "source": [
    "# Линейная зависимость\n",
    "x = np.linspace(0, 10, 50)\n",
    "y1 = x\n",
    "# Квадратичная зависимость\n",
    "y2 = [i**2 for i in x]\n",
    "# Построение графика\n",
    "plt.title(\"Зависимости: y1 = x, y2 = x^2\") # заголовок\n",
    "plt.xlabel(\"x\")         # ось абсцисс\n",
    "plt.ylabel(\"y1, y2\")    # ось ординат\n",
    "plt.grid()              # включение отображение сетки\n",
    "plt.plot(x, y1, x, y2)  # построение графика"
   ]
  },
  {
   "cell_type": "markdown",
   "metadata": {},
   "source": [
    "В приведенном примере в функцию plot() последовательно передаются два массива для построения первого графика и два массива для построения второго, при этом, как вы можете заметить, для обоих графиков массив значений независимой переменной x один и то же."
   ]
  },
  {
   "cell_type": "markdown",
   "metadata": {},
   "source": [
    "**Несколько разделенных полей с графиками**\n",
    "\n",
    "Третья, довольно часто встречающаяся задача – это отобразить два или более различных поля, на которых будет отображено по одному или более графику.\n",
    "\n",
    "Построим уже известные нам две зависимость на разных полях."
   ]
  },
  {
   "cell_type": "code",
   "execution_count": 105,
   "metadata": {},
   "outputs": [
    {
     "data": {
      "image/png": "[encoded data removed]",
      "text/plain": [
       "<Figure size 648x648 with 2 Axes>"
      ]
     },
     "metadata": {
      "needs_background": "light"
     },
     "output_type": "display_data"
    }
   ],
   "source": [
    "# Линейная зависимость\n",
    "x = np.linspace(0, 10, 50)\n",
    "y1 = x\n",
    "# Квадратичная зависимость\n",
    "y2 = [i**2 for i in x]\n",
    "# Построение графиков\n",
    "plt.figure(figsize=(9, 9))\n",
    "plt.subplot(2, 1, 1)\n",
    "plt.plot(x, y1)               # построение графика\n",
    "plt.title(\"Зависимости: y1 = x, y2 = x^2\") # заголовок\n",
    "plt.ylabel(\"y1\", fontsize=14) # ось ординат\n",
    "plt.grid(True)                # включение отображение сетки\n",
    "plt.subplot(2, 1, 2)\n",
    "plt.plot(x, y2)               # построение графика\n",
    "plt.xlabel(\"x\", fontsize=14)  # ось абсцисс\n",
    "plt.ylabel(\"y2\", fontsize=14) # ось ординат\n",
    "plt.grid(True)                # включение отображение сетки"
   ]
  },
  {
   "cell_type": "markdown",
   "metadata": {},
   "source": [
    "Здесь мы воспользовались новыми функциями: \n",
    "\n",
    "figure() – функция для задания глобальных параметров отображения графиков. В нее, в качестве аргумента, мы передаем кортеж, определяющий размер общего поля. \n",
    "\n",
    "subplot() – функция для задания местоположения поля с графиком. Существует несколько способов задания областей для вывода через функцию subplot() мы воспользовались следующим: первый аргумент – количество строк, второй – столбцов в формируемом поле, третий – индекс (номер поля, считаем сверху вниз, слева направо).\n",
    "\n",
    "Дополнительно мы использовали параметр fontsize для функций xlabel() и ylabel(), для задания размера шрифта."
   ]
  },
  {
   "cell_type": "markdown",
   "metadata": {},
   "source": [
    "**Точечная диаграмма (scatter plot)**"
   ]
  },
  {
   "cell_type": "code",
   "execution_count": 106,
   "metadata": {},
   "outputs": [
    {
     "name": "stdout",
     "output_type": "stream",
     "text": [
      "x [0.87593148 0.86987788 0.39450989 0.37295243 0.84100822 0.06866119\n",
      " 0.43829078 0.6164703  0.94796416 0.20009428 0.39027043 0.53478342\n",
      " 0.83753955 0.71709798 0.44850095 0.82186672 0.01725102 0.65476577\n",
      " 0.57778598 0.67168046 0.38616158 0.77464718 0.62604003 0.25646847\n",
      " 0.23922816 0.32320337 0.60278761 0.52118256 0.0307638  0.4041814\n",
      " 0.73264741 0.53992673 0.04598524 0.60405963 0.76494871 0.19298914\n",
      " 0.24317514 0.75841636 0.84939448 0.5887785  0.83878376 0.95520883\n",
      " 0.6182687  0.52232784 0.96115051 0.6458812  0.2029184  0.3867655\n",
      " 0.05233291 0.72527202]\n",
      "y [0.1003646  0.0087824  0.98382184 0.98653453 0.46969711 0.37801114\n",
      " 0.94559271 0.5828015  0.36587573 0.69349732 0.68223317 0.5203867\n",
      " 0.66311188 0.22003615 0.95610233 0.471383   0.3525562  0.16629068\n",
      " 0.26928158 0.72186819 0.84224511 0.2668181  0.66274135 0.16975363\n",
      " 0.92680424 0.09266041 0.60036418 0.22792429 0.41964613 0.7517245\n",
      " 0.85648597 0.22869964 0.37728576 0.98044803 0.65827282 0.78006133\n",
      " 0.7660204  0.23432718 0.79354472 0.28155621 0.60679402 0.30504482\n",
      " 0.27213162 0.36768691 0.18213315 0.31930635 0.55981473 0.17293823\n",
      " 0.64495283 0.19118805]\n"
     ]
    },
    {
     "data": {
      "image/png": "[encoded data removed]",
      "text/plain": [
       "<Figure size 432x288 with 1 Axes>"
      ]
     },
     "metadata": {
      "needs_background": "light"
     },
     "output_type": "display_data"
    }
   ],
   "source": [
    "import numpy as np\n",
    "import matplotlib.pyplot as plt\n",
    "\n",
    "\n",
    "N = 50\n",
    "x = np.random.rand(N) # случайный вектор из 50 элементов\n",
    "print(\"x\", x)\n",
    "y = np.random.rand(N) # случайный вектор из 50 элементов\n",
    "print(\"y\", y)\n",
    "colors = np.random.rand(N) # случайный вектор из 50 элементов, чтобы задавать цвета каждой из точек\n",
    "area = (30 * np.random.rand(N))**2 # случайные площади каждой из точек\n",
    "\n",
    "plt.scatter(x, y, s=area, c=colors, alpha=0.5) # нанесение точек на диаграмму, x и y - координаты\n",
    "                                               # area - площади точек, colors - цвета точек\n",
    "                                               # alpha - значение прозрачности точек\n",
    "plt.show()"
   ]
  },
  {
   "cell_type": "markdown",
   "metadata": {},
   "source": [
    "**Пример с вычислением числа $\\pi$ с помощью метода Монте Карло и визуализация результатов**"
   ]
  },
  {
   "cell_type": "markdown",
   "metadata": {},
   "source": [
    "Переключим режим отображения графиков в notebook:"
   ]
  },
  {
   "cell_type": "code",
   "execution_count": 107,
   "metadata": {},
   "outputs": [],
   "source": [
    "%matplotlib notebook"
   ]
  },
  {
   "cell_type": "code",
   "execution_count": 108,
   "metadata": {},
   "outputs": [],
   "source": [
    "import matplotlib.pyplot as plt\n",
    "import numpy as np\n",
    "from matplotlib.axes import Axes\n",
    "from scipy.stats import norm\n",
    "\n",
    "class PiAnimation:\n",
    "    def __init__(self, ax: Axes, ax_pi: Axes, ax_gaus: Axes):\n",
    "        self.inner = 0\n",
    "        self.out = 0\n",
    "\n",
    "        self.xi, self.yi = [], []\n",
    "        self.xo, self.yo = [], []\n",
    "\n",
    "        ax.set_xlim(-1.0, 1.5)\n",
    "        ax.set_ylim(-1.0, 1.5)\n",
    "        ax.axis(\"off\")\n",
    "        ax.add_artist(plt.Circle((0.0, 0.0), 1, fill=False))\n",
    "        ax.add_artist(plt.Rectangle((-1, -1), 2, 2, fill=False))\n",
    "\n",
    "        self.line_i = ax.plot(self.xi, self.yi, \"ro\")[0]\n",
    "        self.line_o = ax.plot(self.xo, self.yo, \"bo\")[0]\n",
    "        self.text = ax.text(0.3, 1.1, \"\", fontdict={\"fontsize\": 32})\n",
    "        self.text_n = ax.text(-0.9, 1.1, \"\", fontdict={\"fontsize\": 32})\n",
    "\n",
    "        self.ax_pi = ax_pi\n",
    "        self.pi = []\n",
    "        self.pi_line = ax_pi.plot([], self.pi,\"-\")[0]\n",
    "        ax_pi.set_ylim(0, 2*np.pi)\n",
    "\n",
    "        self.ax_gaus = ax_gaus\n",
    "        self.gauss_point = np.linspace(0.5*np.pi, 1.5 * np.pi, 200)\n",
    "        self.gauss = ax_gaus.plot(self.gauss_point, np.zeros(200), \"\")[0]\n",
    "\n",
    "    def __call__(self, n):\n",
    "        x, y = 2*(np.random.random_sample(2) - 0.5)\n",
    "        if x ** 2 + y ** 2 <= 1:\n",
    "            self.inner += 1\n",
    "            self.xi.append(x)\n",
    "            self.yi.append(y)\n",
    "            self.line_i.set_data(self.xi, self.yi)\n",
    "        else:\n",
    "            self.out +=1\n",
    "            self.xo.append(x)\n",
    "            self.yo.append(y)\n",
    "            self.line_o.set_data(self.xo, self.yo)\n",
    "        N = self.inner + self.out\n",
    "        prob = self.inner/N\n",
    "        pi = 4*prob\n",
    "        self.pi.append(pi)\n",
    "        self.text.set_text(r\"$\\pi = {:.5}$\".format(pi))\n",
    "        self.text_n.set_text(\"N = {:5d}   \".format(N))\n",
    "\n",
    "        self.pi_line.set_data(range(N), self.pi)\n",
    "        self.ax_pi.relim()\n",
    "        self.ax_pi.autoscale()\n",
    "\n",
    "        mean, var = np.mean(self.pi), np.var(self.pi)\n",
    "\n",
    "        if N > 3:\n",
    "            self.gauss.set_data(self.gauss_point, norm.pdf(self.gauss_point, loc = mean, scale = var))\n",
    "            self.ax_gaus.relim()\n",
    "            self.ax_gaus.autoscale()\n",
    "        return self.line_i, self.line_o, self.text, self.text_n, self.pi_line, self.gauss"
   ]
  },
  {
   "cell_type": "code",
   "execution_count": 109,
   "metadata": {},
   "outputs": [
    {
     "data": {
      "application/javascript": [
       "/* Put everything inside the global mpl namespace */\n",
       "/* global mpl */\n",
       "window.mpl = {};\n",
       "\n",
       "mpl.get_websocket_type = function () {\n",
       "    if (typeof WebSocket !== 'undefined') {\n",
       "        return WebSocket;\n",
       "    } else if (typeof MozWebSocket !== 'undefined') {\n",
       "        return MozWebSocket;\n",
       "    } else {\n",
       "        alert(\n",
       "            'Your browser does not have WebSocket support. ' +\n",
       "                'Please try Chrome, Safari or Firefox ≥ 6. ' +\n",
       "                'Firefox 4 and 5 are also supported but you ' +\n",
       "                'have to enable WebSockets in about:config.'\n",
       "        );\n",
       "    }\n",
       "};\n",
       "\n",
       "mpl.figure = function (figure_id, websocket, ondownload, parent_element) {\n",
       "    this.id = figure_id;\n",
       "\n",
       "    this.ws = websocket;\n",
       "\n",
       "    this.supports_binary = this.ws.binaryType !== undefined;\n",
       "\n",
       "    if (!this.supports_binary) {\n",
       "        var warnings = document.getElementById('mpl-warnings');\n",
       "        if (warnings) {\n",
       "            warnings.style.display = 'block';\n",
       "            warnings.textContent =\n",
       "                'This browser does not support binary websocket messages. ' +\n",
       "                'Performance may be slow.';\n",
       "        }\n",
       "    }\n",
       "\n",
       "    this.imageObj = new Image();\n",
       "\n",
       "    this.context = undefined;\n",
       "    this.message = undefined;\n",
       "    this.canvas = undefined;\n",
       "    this.rubberband_canvas = undefined;\n",
       "    this.rubberband_context = undefined;\n",
       "    this.format_dropdown = undefined;\n",
       "\n",
       "    this.image_mode = 'full';\n",
       "\n",
       "    this.root = document.createElement('div');\n",
       "    this.root.setAttribute('style', 'display: inline-block');\n",
       "    this._root_extra_style(this.root);\n",
       "\n",
       "    parent_element.appendChild(this.root);\n",
       "\n",
       "    this._init_header(this);\n",
       "    this._init_canvas(this);\n",
       "    this._init_toolbar(this);\n",
       "\n",
       "    var fig = this;\n",
       "\n",
       "    this.waiting = false;\n",
       "\n",
       "    this.ws.onopen = function () {\n",
       "        fig.send_message('supports_binary', { value: fig.supports_binary });\n",
       "        fig.send_message('send_image_mode', {});\n",
       "        if (fig.ratio !== 1) {\n",
       "            fig.send_message('set_dpi_ratio', { dpi_ratio: fig.ratio });\n",
       "        }\n",
       "        fig.send_message('refresh', {});\n",
       "    };\n",
       "\n",
       "    this.imageObj.onload = function () {\n",
       "        if (fig.image_mode === 'full') {\n",
       "            // Full images could contain transparency (where diff images\n",
       "            // almost always do), so we need to clear the canvas so that\n",
       "            // there is no ghosting.\n",
       "            fig.context.clearRect(0, 0, fig.canvas.width, fig.canvas.height);\n",
       "        }\n",
       "        fig.context.drawImage(fig.imageObj, 0, 0);\n",
       "    };\n",
       "\n",
       "    this.imageObj.onunload = function () {\n",
       "        fig.ws.close();\n",
       "    };\n",
       "\n",
       "    this.ws.onmessage = this._make_on_message_function(this);\n",
       "\n",
       "    this.ondownload = ondownload;\n",
       "};\n",
       "\n",
       "mpl.figure.prototype._init_header = function () {\n",
       "    var titlebar = document.createElement('div');\n",
       "    titlebar.classList =\n",
       "        'ui-dialog-titlebar ui-widget-header ui-corner-all ui-helper-clearfix';\n",
       "    var titletext = document.createElement('div');\n",
       "    titletext.classList = 'ui-dialog-title';\n",
       "    titletext.setAttribute(\n",
       "        'style',\n",
       "        'width: 100%; text-align: center; padding: 3px;'\n",
       "    );\n",
       "    titlebar.appendChild(titletext);\n",
       "    this.root.appendChild(titlebar);\n",
       "    this.header = titletext;\n",
       "};\n",
       "\n",
       "mpl.figure.prototype._canvas_extra_style = function (_canvas_div) {};\n",
       "\n",
       "mpl.figure.prototype._root_extra_style = function (_canvas_div) {};\n",
       "\n",
       "mpl.figure.prototype._init_canvas = function () {\n",
       "    var fig = this;\n",
       "\n",
       "    var canvas_div = (this.canvas_div = document.createElement('div'));\n",
       "    canvas_div.setAttribute(\n",
       "        'style',\n",
       "        'border: 1px solid #ddd;' +\n",
       "            'box-sizing: content-box;' +\n",
       "            'clear: both;' +\n",
       "            'min-height: 1px;' +\n",
       "            'min-width: 1px;' +\n",
       "            'outline: 0;' +\n",
       "            'overflow: hidden;' +\n",
       "            'position: relative;' +\n",
       "            'resize: both;'\n",
       "    );\n",
       "\n",
       "    function on_keyboard_event_closure(name) {\n",
       "        return function (event) {\n",
       "            return fig.key_event(event, name);\n",
       "        };\n",
       "    }\n",
       "\n",
       "    canvas_div.addEventListener(\n",
       "        'keydown',\n",
       "        on_keyboard_event_closure('key_press')\n",
       "    );\n",
       "    canvas_div.addEventListener(\n",
       "        'keyup',\n",
       "        on_keyboard_event_closure('key_release')\n",
       "    );\n",
       "\n",
       "    this._canvas_extra_style(canvas_div);\n",
       "    this.root.appendChild(canvas_div);\n",
       "\n",
       "    var canvas = (this.canvas = document.createElement('canvas'));\n",
       "    canvas.classList.add('mpl-canvas');\n",
       "    canvas.setAttribute('style', 'box-sizing: content-box;');\n",
       "\n",
       "    this.context = canvas.getContext('2d');\n",
       "\n",
       "    var backingStore =\n",
       "        this.context.backingStorePixelRatio ||\n",
       "        this.context.webkitBackingStorePixelRatio ||\n",
       "        this.context.mozBackingStorePixelRatio ||\n",
       "        this.context.msBackingStorePixelRatio ||\n",
       "        this.context.oBackingStorePixelRatio ||\n",
       "        this.context.backingStorePixelRatio ||\n",
       "        1;\n",
       "\n",
       "    this.ratio = (window.devicePixelRatio || 1) / backingStore;\n",
       "\n",
       "    var rubberband_canvas = (this.rubberband_canvas = document.createElement(\n",
       "        'canvas'\n",
       "    ));\n",
       "    rubberband_canvas.setAttribute(\n",
       "        'style',\n",
       "        'box-sizing: content-box; position: absolute; left: 0; top: 0; z-index: 1;'\n",
       "    );\n",
       "\n",
       "    // Apply a ponyfill if ResizeObserver is not implemented by browser.\n",
       "    if (this.ResizeObserver === undefined) {\n",
       "        if (window.ResizeObserver !== undefined) {\n",
       "            this.ResizeObserver = window.ResizeObserver;\n",
       "        } else {\n",
       "            var obs = _JSXTOOLS_RESIZE_OBSERVER({});\n",
       "            this.ResizeObserver = obs.ResizeObserver;\n",
       "        }\n",
       "    }\n",
       "\n",
       "    this.resizeObserverInstance = new this.ResizeObserver(function (entries) {\n",
       "        var nentries = entries.length;\n",
       "        for (var i = 0; i < nentries; i++) {\n",
       "            var entry = entries[i];\n",
       "            var width, height;\n",
       "            if (entry.contentBoxSize) {\n",
       "                if (entry.contentBoxSize instanceof Array) {\n",
       "                    // Chrome 84 implements new version of spec.\n",
       "                    width = entry.contentBoxSize[0].inlineSize;\n",
       "                    height = entry.contentBoxSize[0].blockSize;\n",
       "                } else {\n",
       "                    // Firefox implements old version of spec.\n",
       "                    width = entry.contentBoxSize.inlineSize;\n",
       "                    height = entry.contentBoxSize.blockSize;\n",
       "                }\n",
       "            } else {\n",
       "                // Chrome <84 implements even older version of spec.\n",
       "                width = entry.contentRect.width;\n",
       "                height = entry.contentRect.height;\n",
       "            }\n",
       "\n",
       "            // Keep the size of the canvas and rubber band canvas in sync with\n",
       "            // the canvas container.\n",
       "            if (entry.devicePixelContentBoxSize) {\n",
       "                // Chrome 84 implements new version of spec.\n",
       "                canvas.setAttribute(\n",
       "                    'width',\n",
       "                    entry.devicePixelContentBoxSize[0].inlineSize\n",
       "                );\n",
       "                canvas.setAttribute(\n",
       "                    'height',\n",
       "                    entry.devicePixelContentBoxSize[0].blockSize\n",
       "                );\n",
       "            } else {\n",
       "                canvas.setAttribute('width', width * fig.ratio);\n",
       "                canvas.setAttribute('height', height * fig.ratio);\n",
       "            }\n",
       "            canvas.setAttribute(\n",
       "                'style',\n",
       "                'width: ' + width + 'px; height: ' + height + 'px;'\n",
       "            );\n",
       "\n",
       "            rubberband_canvas.setAttribute('width', width);\n",
       "            rubberband_canvas.setAttribute('height', height);\n",
       "\n",
       "            // And update the size in Python. We ignore the initial 0/0 size\n",
       "            // that occurs as the element is placed into the DOM, which should\n",
       "            // otherwise not happen due to the minimum size styling.\n",
       "            if (fig.ws.readyState == 1 && width != 0 && height != 0) {\n",
       "                fig.request_resize(width, height);\n",
       "            }\n",
       "        }\n",
       "    });\n",
       "    this.resizeObserverInstance.observe(canvas_div);\n",
       "\n",
       "    function on_mouse_event_closure(name) {\n",
       "        return function (event) {\n",
       "            return fig.mouse_event(event, name);\n",
       "        };\n",
       "    }\n",
       "\n",
       "    rubberband_canvas.addEventListener(\n",
       "        'mousedown',\n",
       "        on_mouse_event_closure('button_press')\n",
       "    );\n",
       "    rubberband_canvas.addEventListener(\n",
       "        'mouseup',\n",
       "        on_mouse_event_closure('button_release')\n",
       "    );\n",
       "    rubberband_canvas.addEventListener(\n",
       "        'dblclick',\n",
       "        on_mouse_event_closure('dblclick')\n",
       "    );\n",
       "    // Throttle sequential mouse events to 1 every 20ms.\n",
       "    rubberband_canvas.addEventListener(\n",
       "        'mousemove',\n",
       "        on_mouse_event_closure('motion_notify')\n",
       "    );\n",
       "\n",
       "    rubberband_canvas.addEventListener(\n",
       "        'mouseenter',\n",
       "        on_mouse_event_closure('figure_enter')\n",
       "    );\n",
       "    rubberband_canvas.addEventListener(\n",
       "        'mouseleave',\n",
       "        on_mouse_event_closure('figure_leave')\n",
       "    );\n",
       "\n",
       "    canvas_div.addEventListener('wheel', function (event) {\n",
       "        if (event.deltaY < 0) {\n",
       "            event.step = 1;\n",
       "        } else {\n",
       "            event.step = -1;\n",
       "        }\n",
       "        on_mouse_event_closure('scroll')(event);\n",
       "    });\n",
       "\n",
       "    canvas_div.appendChild(canvas);\n",
       "    canvas_div.appendChild(rubberband_canvas);\n",
       "\n",
       "    this.rubberband_context = rubberband_canvas.getContext('2d');\n",
       "    this.rubberband_context.strokeStyle = '#000000';\n",
       "\n",
       "    this._resize_canvas = function (width, height, forward) {\n",
       "        if (forward) {\n",
       "            canvas_div.style.width = width + 'px';\n",
       "            canvas_div.style.height = height + 'px';\n",
       "        }\n",
       "    };\n",
       "\n",
       "    // Disable right mouse context menu.\n",
       "    this.rubberband_canvas.addEventListener('contextmenu', function (_e) {\n",
       "        event.preventDefault();\n",
       "        return false;\n",
       "    });\n",
       "\n",
       "    function set_focus() {\n",
       "        canvas.focus();\n",
       "        canvas_div.focus();\n",
       "    }\n",
       "\n",
       "    window.setTimeout(set_focus, 100);\n",
       "};\n",
       "\n",
       "mpl.figure.prototype._init_toolbar = function () {\n",
       "    var fig = this;\n",
       "\n",
       "    var toolbar = document.createElement('div');\n",
       "    toolbar.classList = 'mpl-toolbar';\n",
       "    this.root.appendChild(toolbar);\n",
       "\n",
       "    function on_click_closure(name) {\n",
       "        return function (_event) {\n",
       "            return fig.toolbar_button_onclick(name);\n",
       "        };\n",
       "    }\n",
       "\n",
       "    function on_mouseover_closure(tooltip) {\n",
       "        return function (event) {\n",
       "            if (!event.currentTarget.disabled) {\n",
       "                return fig.toolbar_button_onmouseover(tooltip);\n",
       "            }\n",
       "        };\n",
       "    }\n",
       "\n",
       "    fig.buttons = {};\n",
       "    var buttonGroup = document.createElement('div');\n",
       "    buttonGroup.classList = 'mpl-button-group';\n",
       "    for (var toolbar_ind in mpl.toolbar_items) {\n",
       "        var name = mpl.toolbar_items[toolbar_ind][0];\n",
       "        var tooltip = mpl.toolbar_items[toolbar_ind][1];\n",
       "        var image = mpl.toolbar_items[toolbar_ind][2];\n",
       "        var method_name = mpl.toolbar_items[toolbar_ind][3];\n",
       "\n",
       "        if (!name) {\n",
       "            /* Instead of a spacer, we start a new button group. */\n",
       "            if (buttonGroup.hasChildNodes()) {\n",
       "                toolbar.appendChild(buttonGroup);\n",
       "            }\n",
       "            buttonGroup = document.createElement('div');\n",
       "            buttonGroup.classList = 'mpl-button-group';\n",
       "            continue;\n",
       "        }\n",
       "\n",
       "        var button = (fig.buttons[name] = document.createElement('button'));\n",
       "        button.classList = 'mpl-widget';\n",
       "        button.setAttribute('role', 'button');\n",
       "        button.setAttribute('aria-disabled', 'false');\n",
       "        button.addEventListener('click', on_click_closure(method_name));\n",
       "        button.addEventListener('mouseover', on_mouseover_closure(tooltip));\n",
       "\n",
       "        var icon_img = document.createElement('img');\n",
       "        icon_img.src = '_images/' + image + '.png';\n",
       "        icon_img.srcset = '_images/' + image + '_large.png 2x';\n",
       "        icon_img.alt = tooltip;\n",
       "        button.appendChild(icon_img);\n",
       "\n",
       "        buttonGroup.appendChild(button);\n",
       "    }\n",
       "\n",
       "    if (buttonGroup.hasChildNodes()) {\n",
       "        toolbar.appendChild(buttonGroup);\n",
       "    }\n",
       "\n",
       "    var fmt_picker = document.createElement('select');\n",
       "    fmt_picker.classList = 'mpl-widget';\n",
       "    toolbar.appendChild(fmt_picker);\n",
       "    this.format_dropdown = fmt_picker;\n",
       "\n",
       "    for (var ind in mpl.extensions) {\n",
       "        var fmt = mpl.extensions[ind];\n",
       "        var option = document.createElement('option');\n",
       "        option.selected = fmt === mpl.default_extension;\n",
       "        option.innerHTML = fmt;\n",
       "        fmt_picker.appendChild(option);\n",
       "    }\n",
       "\n",
       "    var status_bar = document.createElement('span');\n",
       "    status_bar.classList = 'mpl-message';\n",
       "    toolbar.appendChild(status_bar);\n",
       "    this.message = status_bar;\n",
       "};\n",
       "\n",
       "mpl.figure.prototype.request_resize = function (x_pixels, y_pixels) {\n",
       "    // Request matplotlib to resize the figure. Matplotlib will then trigger a resize in the client,\n",
       "    // which will in turn request a refresh of the image.\n",
       "    this.send_message('resize', { width: x_pixels, height: y_pixels });\n",
       "};\n",
       "\n",
       "mpl.figure.prototype.send_message = function (type, properties) {\n",
       "    properties['type'] = type;\n",
       "    properties['figure_id'] = this.id;\n",
       "    this.ws.send(JSON.stringify(properties));\n",
       "};\n",
       "\n",
       "mpl.figure.prototype.send_draw_message = function () {\n",
       "    if (!this.waiting) {\n",
       "        this.waiting = true;\n",
       "        this.ws.send(JSON.stringify({ type: 'draw', figure_id: this.id }));\n",
       "    }\n",
       "};\n",
       "\n",
       "mpl.figure.prototype.handle_save = function (fig, _msg) {\n",
       "    var format_dropdown = fig.format_dropdown;\n",
       "    var format = format_dropdown.options[format_dropdown.selectedIndex].value;\n",
       "    fig.ondownload(fig, format);\n",
       "};\n",
       "\n",
       "mpl.figure.prototype.handle_resize = function (fig, msg) {\n",
       "    var size = msg['size'];\n",
       "    if (size[0] !== fig.canvas.width || size[1] !== fig.canvas.height) {\n",
       "        fig._resize_canvas(size[0], size[1], msg['forward']);\n",
       "        fig.send_message('refresh', {});\n",
       "    }\n",
       "};\n",
       "\n",
       "mpl.figure.prototype.handle_rubberband = function (fig, msg) {\n",
       "    var x0 = msg['x0'] / fig.ratio;\n",
       "    var y0 = (fig.canvas.height - msg['y0']) / fig.ratio;\n",
       "    var x1 = msg['x1'] / fig.ratio;\n",
       "    var y1 = (fig.canvas.height - msg['y1']) / fig.ratio;\n",
       "    x0 = Math.floor(x0) + 0.5;\n",
       "    y0 = Math.floor(y0) + 0.5;\n",
       "    x1 = Math.floor(x1) + 0.5;\n",
       "    y1 = Math.floor(y1) + 0.5;\n",
       "    var min_x = Math.min(x0, x1);\n",
       "    var min_y = Math.min(y0, y1);\n",
       "    var width = Math.abs(x1 - x0);\n",
       "    var height = Math.abs(y1 - y0);\n",
       "\n",
       "    fig.rubberband_context.clearRect(\n",
       "        0,\n",
       "        0,\n",
       "        fig.canvas.width / fig.ratio,\n",
       "        fig.canvas.height / fig.ratio\n",
       "    );\n",
       "\n",
       "    fig.rubberband_context.strokeRect(min_x, min_y, width, height);\n",
       "};\n",
       "\n",
       "mpl.figure.prototype.handle_figure_label = function (fig, msg) {\n",
       "    // Updates the figure title.\n",
       "    fig.header.textContent = msg['label'];\n",
       "};\n",
       "\n",
       "mpl.figure.prototype.handle_cursor = function (fig, msg) {\n",
       "    var cursor = msg['cursor'];\n",
       "    switch (cursor) {\n",
       "        case 0:\n",
       "            cursor = 'pointer';\n",
       "            break;\n",
       "        case 1:\n",
       "            cursor = 'default';\n",
       "            break;\n",
       "        case 2:\n",
       "            cursor = 'crosshair';\n",
       "            break;\n",
       "        case 3:\n",
       "            cursor = 'move';\n",
       "            break;\n",
       "    }\n",
       "    fig.rubberband_canvas.style.cursor = cursor;\n",
       "};\n",
       "\n",
       "mpl.figure.prototype.handle_message = function (fig, msg) {\n",
       "    fig.message.textContent = msg['message'];\n",
       "};\n",
       "\n",
       "mpl.figure.prototype.handle_draw = function (fig, _msg) {\n",
       "    // Request the server to send over a new figure.\n",
       "    fig.send_draw_message();\n",
       "};\n",
       "\n",
       "mpl.figure.prototype.handle_image_mode = function (fig, msg) {\n",
       "    fig.image_mode = msg['mode'];\n",
       "};\n",
       "\n",
       "mpl.figure.prototype.handle_history_buttons = function (fig, msg) {\n",
       "    for (var key in msg) {\n",
       "        if (!(key in fig.buttons)) {\n",
       "            continue;\n",
       "        }\n",
       "        fig.buttons[key].disabled = !msg[key];\n",
       "        fig.buttons[key].setAttribute('aria-disabled', !msg[key]);\n",
       "    }\n",
       "};\n",
       "\n",
       "mpl.figure.prototype.handle_navigate_mode = function (fig, msg) {\n",
       "    if (msg['mode'] === 'PAN') {\n",
       "        fig.buttons['Pan'].classList.add('active');\n",
       "        fig.buttons['Zoom'].classList.remove('active');\n",
       "    } else if (msg['mode'] === 'ZOOM') {\n",
       "        fig.buttons['Pan'].classList.remove('active');\n",
       "        fig.buttons['Zoom'].classList.add('active');\n",
       "    } else {\n",
       "        fig.buttons['Pan'].classList.remove('active');\n",
       "        fig.buttons['Zoom'].classList.remove('active');\n",
       "    }\n",
       "};\n",
       "\n",
       "mpl.figure.prototype.updated_canvas_event = function () {\n",
       "    // Called whenever the canvas gets updated.\n",
       "    this.send_message('ack', {});\n",
       "};\n",
       "\n",
       "// A function to construct a web socket function for onmessage handling.\n",
       "// Called in the figure constructor.\n",
       "mpl.figure.prototype._make_on_message_function = function (fig) {\n",
       "    return function socket_on_message(evt) {\n",
       "        if (evt.data instanceof Blob) {\n",
       "            var img = evt.data;\n",
       "            if (img.type !== 'image/png') {\n",
       "                /* FIXME: We get \"Resource interpreted as Image but\n",
       "                 * transferred with MIME type text/plain:\" errors on\n",
       "                 * Chrome.  But how to set the MIME type?  It doesn't seem\n",
       "                 * to be part of the websocket stream */\n",
       "                img.type = 'image/png';\n",
       "            }\n",
       "\n",
       "            /* Free the memory for the previous frames */\n",
       "            if (fig.imageObj.src) {\n",
       "                (window.URL || window.webkitURL).revokeObjectURL(\n",
       "                    fig.imageObj.src\n",
       "                );\n",
       "            }\n",
       "\n",
       "            fig.imageObj.src = (window.URL || window.webkitURL).createObjectURL(\n",
       "                img\n",
       "            );\n",
       "            fig.updated_canvas_event();\n",
       "            fig.waiting = false;\n",
       "            return;\n",
       "        } else if (\n",
       "            typeof evt.data === 'string' &&\n",
       "            evt.data.slice(0, 21) === 'data:image/png;base64'\n",
       "        ) {\n",
       "            fig.imageObj.src = evt.data;\n",
       "            fig.updated_canvas_event();\n",
       "            fig.waiting = false;\n",
       "            return;\n",
       "        }\n",
       "\n",
       "        var msg = JSON.parse(evt.data);\n",
       "        var msg_type = msg['type'];\n",
       "\n",
       "        // Call the  \"handle_{type}\" callback, which takes\n",
       "        // the figure and JSON message as its only arguments.\n",
       "        try {\n",
       "            var callback = fig['handle_' + msg_type];\n",
       "        } catch (e) {\n",
       "            console.log(\n",
       "                \"No handler for the '\" + msg_type + \"' message type: \",\n",
       "                msg\n",
       "            );\n",
       "            return;\n",
       "        }\n",
       "\n",
       "        if (callback) {\n",
       "            try {\n",
       "                // console.log(\"Handling '\" + msg_type + \"' message: \", msg);\n",
       "                callback(fig, msg);\n",
       "            } catch (e) {\n",
       "                console.log(\n",
       "                    \"Exception inside the 'handler_\" + msg_type + \"' callback:\",\n",
       "                    e,\n",
       "                    e.stack,\n",
       "                    msg\n",
       "                );\n",
       "            }\n",
       "        }\n",
       "    };\n",
       "};\n",
       "\n",
       "// from http://stackoverflow.com/questions/1114465/getting-mouse-location-in-canvas\n",
       "mpl.findpos = function (e) {\n",
       "    //this section is from http://www.quirksmode.org/js/events_properties.html\n",
       "    var targ;\n",
       "    if (!e) {\n",
       "        e = window.event;\n",
       "    }\n",
       "    if (e.target) {\n",
       "        targ = e.target;\n",
       "    } else if (e.srcElement) {\n",
       "        targ = e.srcElement;\n",
       "    }\n",
       "    if (targ.nodeType === 3) {\n",
       "        // defeat Safari bug\n",
       "        targ = targ.parentNode;\n",
       "    }\n",
       "\n",
       "    // pageX,Y are the mouse positions relative to the document\n",
       "    var boundingRect = targ.getBoundingClientRect();\n",
       "    var x = e.pageX - (boundingRect.left + document.body.scrollLeft);\n",
       "    var y = e.pageY - (boundingRect.top + document.body.scrollTop);\n",
       "\n",
       "    return { x: x, y: y };\n",
       "};\n",
       "\n",
       "/*\n",
       " * return a copy of an object with only non-object keys\n",
       " * we need this to avoid circular references\n",
       " * http://stackoverflow.com/a/24161582/3208463\n",
       " */\n",
       "function simpleKeys(original) {\n",
       "    return Object.keys(original).reduce(function (obj, key) {\n",
       "        if (typeof original[key] !== 'object') {\n",
       "            obj[key] = original[key];\n",
       "        }\n",
       "        return obj;\n",
       "    }, {});\n",
       "}\n",
       "\n",
       "mpl.figure.prototype.mouse_event = function (event, name) {\n",
       "    var canvas_pos = mpl.findpos(event);\n",
       "\n",
       "    if (name === 'button_press') {\n",
       "        this.canvas.focus();\n",
       "        this.canvas_div.focus();\n",
       "    }\n",
       "\n",
       "    var x = canvas_pos.x * this.ratio;\n",
       "    var y = canvas_pos.y * this.ratio;\n",
       "\n",
       "    this.send_message(name, {\n",
       "        x: x,\n",
       "        y: y,\n",
       "        button: event.button,\n",
       "        step: event.step,\n",
       "        guiEvent: simpleKeys(event),\n",
       "    });\n",
       "\n",
       "    /* This prevents the web browser from automatically changing to\n",
       "     * the text insertion cursor when the button is pressed.  We want\n",
       "     * to control all of the cursor setting manually through the\n",
       "     * 'cursor' event from matplotlib */\n",
       "    event.preventDefault();\n",
       "    return false;\n",
       "};\n",
       "\n",
       "mpl.figure.prototype._key_event_extra = function (_event, _name) {\n",
       "    // Handle any extra behaviour associated with a key event\n",
       "};\n",
       "\n",
       "mpl.figure.prototype.key_event = function (event, name) {\n",
       "    // Prevent repeat events\n",
       "    if (name === 'key_press') {\n",
       "        if (event.key === this._key) {\n",
       "            return;\n",
       "        } else {\n",
       "            this._key = event.key;\n",
       "        }\n",
       "    }\n",
       "    if (name === 'key_release') {\n",
       "        this._key = null;\n",
       "    }\n",
       "\n",
       "    var value = '';\n",
       "    if (event.ctrlKey && event.key !== 'Control') {\n",
       "        value += 'ctrl+';\n",
       "    }\n",
       "    else if (event.altKey && event.key !== 'Alt') {\n",
       "        value += 'alt+';\n",
       "    }\n",
       "    else if (event.shiftKey && event.key !== 'Shift') {\n",
       "        value += 'shift+';\n",
       "    }\n",
       "\n",
       "    value += 'k' + event.key;\n",
       "\n",
       "    this._key_event_extra(event, name);\n",
       "\n",
       "    this.send_message(name, { key: value, guiEvent: simpleKeys(event) });\n",
       "    return false;\n",
       "};\n",
       "\n",
       "mpl.figure.prototype.toolbar_button_onclick = function (name) {\n",
       "    if (name === 'download') {\n",
       "        this.handle_save(this, null);\n",
       "    } else {\n",
       "        this.send_message('toolbar_button', { name: name });\n",
       "    }\n",
       "};\n",
       "\n",
       "mpl.figure.prototype.toolbar_button_onmouseover = function (tooltip) {\n",
       "    this.message.textContent = tooltip;\n",
       "};\n",
       "\n",
       "///////////////// REMAINING CONTENT GENERATED BY embed_js.py /////////////////\n",
       "// prettier-ignore\n",
       "var _JSXTOOLS_RESIZE_OBSERVER=function(A){var t,i=new WeakMap,n=new WeakMap,a=new WeakMap,r=new WeakMap,o=new Set;function s(e){if(!(this instanceof s))throw new TypeError(\"Constructor requires 'new' operator\");i.set(this,e)}function h(){throw new TypeError(\"Function is not a constructor\")}function c(e,t,i,n){e=0 in arguments?Number(arguments[0]):0,t=1 in arguments?Number(arguments[1]):0,i=2 in arguments?Number(arguments[2]):0,n=3 in arguments?Number(arguments[3]):0,this.right=(this.x=this.left=e)+(this.width=i),this.bottom=(this.y=this.top=t)+(this.height=n),Object.freeze(this)}function d(){t=requestAnimationFrame(d);var s=new WeakMap,p=new Set;o.forEach((function(t){r.get(t).forEach((function(i){var r=t instanceof window.SVGElement,o=a.get(t),d=r?0:parseFloat(o.paddingTop),f=r?0:parseFloat(o.paddingRight),l=r?0:parseFloat(o.paddingBottom),u=r?0:parseFloat(o.paddingLeft),g=r?0:parseFloat(o.borderTopWidth),m=r?0:parseFloat(o.borderRightWidth),w=r?0:parseFloat(o.borderBottomWidth),b=u+f,F=d+l,v=(r?0:parseFloat(o.borderLeftWidth))+m,W=g+w,y=r?0:t.offsetHeight-W-t.clientHeight,E=r?0:t.offsetWidth-v-t.clientWidth,R=b+v,z=F+W,M=r?t.width:parseFloat(o.width)-R-E,O=r?t.height:parseFloat(o.height)-z-y;if(n.has(t)){var k=n.get(t);if(k[0]===M&&k[1]===O)return}n.set(t,[M,O]);var S=Object.create(h.prototype);S.target=t,S.contentRect=new c(u,d,M,O),s.has(i)||(s.set(i,[]),p.add(i)),s.get(i).push(S)}))})),p.forEach((function(e){i.get(e).call(e,s.get(e),e)}))}return s.prototype.observe=function(i){if(i instanceof window.Element){r.has(i)||(r.set(i,new Set),o.add(i),a.set(i,window.getComputedStyle(i)));var n=r.get(i);n.has(this)||n.add(this),cancelAnimationFrame(t),t=requestAnimationFrame(d)}},s.prototype.unobserve=function(i){if(i instanceof window.Element&&r.has(i)){var n=r.get(i);n.has(this)&&(n.delete(this),n.size||(r.delete(i),o.delete(i))),n.size||r.delete(i),o.size||cancelAnimationFrame(t)}},A.DOMRectReadOnly=c,A.ResizeObserver=s,A.ResizeObserverEntry=h,A}; // eslint-disable-line\n",
       "mpl.toolbar_items = [[\"Home\", \"Reset original view\", \"fa fa-home icon-home\", \"home\"], [\"Back\", \"Back to previous view\", \"fa fa-arrow-left icon-arrow-left\", \"back\"], [\"Forward\", \"Forward to next view\", \"fa fa-arrow-right icon-arrow-right\", \"forward\"], [\"\", \"\", \"\", \"\"], [\"Pan\", \"Left button pans, Right button zooms\\nx/y fixes axis, CTRL fixes aspect\", \"fa fa-arrows icon-move\", \"pan\"], [\"Zoom\", \"Zoom to rectangle\\nx/y fixes axis, CTRL fixes aspect\", \"fa fa-square-o icon-check-empty\", \"zoom\"], [\"\", \"\", \"\", \"\"], [\"Download\", \"Download plot\", \"fa fa-floppy-o icon-save\", \"download\"]];\n",
       "\n",
       "mpl.extensions = [\"eps\", \"jpeg\", \"pgf\", \"pdf\", \"png\", \"ps\", \"raw\", \"svg\", \"tif\"];\n",
       "\n",
       "mpl.default_extension = \"png\";/* global mpl */\n",
       "\n",
       "var comm_websocket_adapter = function (comm) {\n",
       "    // Create a \"websocket\"-like object which calls the given IPython comm\n",
       "    // object with the appropriate methods. Currently this is a non binary\n",
       "    // socket, so there is still some room for performance tuning.\n",
       "    var ws = {};\n",
       "\n",
       "    ws.binaryType = comm.kernel.ws.binaryType;\n",
       "    ws.readyState = comm.kernel.ws.readyState;\n",
       "    function updateReadyState(_event) {\n",
       "        if (comm.kernel.ws) {\n",
       "            ws.readyState = comm.kernel.ws.readyState;\n",
       "        } else {\n",
       "            ws.readyState = 3; // Closed state.\n",
       "        }\n",
       "    }\n",
       "    comm.kernel.ws.addEventListener('open', updateReadyState);\n",
       "    comm.kernel.ws.addEventListener('close', updateReadyState);\n",
       "    comm.kernel.ws.addEventListener('error', updateReadyState);\n",
       "\n",
       "    ws.close = function () {\n",
       "        comm.close();\n",
       "    };\n",
       "    ws.send = function (m) {\n",
       "        //console.log('sending', m);\n",
       "        comm.send(m);\n",
       "    };\n",
       "    // Register the callback with on_msg.\n",
       "    comm.on_msg(function (msg) {\n",
       "        //console.log('receiving', msg['content']['data'], msg);\n",
       "        var data = msg['content']['data'];\n",
       "        if (data['blob'] !== undefined) {\n",
       "            data = {\n",
       "                data: new Blob(msg['buffers'], { type: data['blob'] }),\n",
       "            };\n",
       "        }\n",
       "        // Pass the mpl event to the overridden (by mpl) onmessage function.\n",
       "        ws.onmessage(data);\n",
       "    });\n",
       "    return ws;\n",
       "};\n",
       "\n",
       "mpl.mpl_figure_comm = function (comm, msg) {\n",
       "    // This is the function which gets called when the mpl process\n",
       "    // starts-up an IPython Comm through the \"matplotlib\" channel.\n",
       "\n",
       "    var id = msg.content.data.id;\n",
       "    // Get hold of the div created by the display call when the Comm\n",
       "    // socket was opened in Python.\n",
       "    var element = document.getElementById(id);\n",
       "    var ws_proxy = comm_websocket_adapter(comm);\n",
       "\n",
       "    function ondownload(figure, _format) {\n",
       "        window.open(figure.canvas.toDataURL());\n",
       "    }\n",
       "\n",
       "    var fig = new mpl.figure(id, ws_proxy, ondownload, element);\n",
       "\n",
       "    // Call onopen now - mpl needs it, as it is assuming we've passed it a real\n",
       "    // web socket which is closed, not our websocket->open comm proxy.\n",
       "    ws_proxy.onopen();\n",
       "\n",
       "    fig.parent_element = element;\n",
       "    fig.cell_info = mpl.find_output_cell(\"<div id='\" + id + \"'></div>\");\n",
       "    if (!fig.cell_info) {\n",
       "        console.error('Failed to find cell for figure', id, fig);\n",
       "        return;\n",
       "    }\n",
       "    fig.cell_info[0].output_area.element.on(\n",
       "        'cleared',\n",
       "        { fig: fig },\n",
       "        fig._remove_fig_handler\n",
       "    );\n",
       "};\n",
       "\n",
       "mpl.figure.prototype.handle_close = function (fig, msg) {\n",
       "    var width = fig.canvas.width / fig.ratio;\n",
       "    fig.cell_info[0].output_area.element.off(\n",
       "        'cleared',\n",
       "        fig._remove_fig_handler\n",
       "    );\n",
       "    fig.resizeObserverInstance.unobserve(fig.canvas_div);\n",
       "\n",
       "    // Update the output cell to use the data from the current canvas.\n",
       "    fig.push_to_output();\n",
       "    var dataURL = fig.canvas.toDataURL();\n",
       "    // Re-enable the keyboard manager in IPython - without this line, in FF,\n",
       "    // the notebook keyboard shortcuts fail.\n",
       "    IPython.keyboard_manager.enable();\n",
       "    fig.parent_element.innerHTML =\n",
       "        '<img src=\"' + dataURL + '\" width=\"' + width + '\">';\n",
       "    fig.close_ws(fig, msg);\n",
       "};\n",
       "\n",
       "mpl.figure.prototype.close_ws = function (fig, msg) {\n",
       "    fig.send_message('closing', msg);\n",
       "    // fig.ws.close()\n",
       "};\n",
       "\n",
       "mpl.figure.prototype.push_to_output = function (_remove_interactive) {\n",
       "    // Turn the data on the canvas into data in the output cell.\n",
       "    var width = this.canvas.width / this.ratio;\n",
       "    var dataURL = this.canvas.toDataURL();\n",
       "    this.cell_info[1]['text/html'] =\n",
       "        '<img src=\"' + dataURL + '\" width=\"' + width + '\">';\n",
       "};\n",
       "\n",
       "mpl.figure.prototype.updated_canvas_event = function () {\n",
       "    // Tell IPython that the notebook contents must change.\n",
       "    IPython.notebook.set_dirty(true);\n",
       "    this.send_message('ack', {});\n",
       "    var fig = this;\n",
       "    // Wait a second, then push the new image to the DOM so\n",
       "    // that it is saved nicely (might be nice to debounce this).\n",
       "    setTimeout(function () {\n",
       "        fig.push_to_output();\n",
       "    }, 1000);\n",
       "};\n",
       "\n",
       "mpl.figure.prototype._init_toolbar = function () {\n",
       "    var fig = this;\n",
       "\n",
       "    var toolbar = document.createElement('div');\n",
       "    toolbar.classList = 'btn-toolbar';\n",
       "    this.root.appendChild(toolbar);\n",
       "\n",
       "    function on_click_closure(name) {\n",
       "        return function (_event) {\n",
       "            return fig.toolbar_button_onclick(name);\n",
       "        };\n",
       "    }\n",
       "\n",
       "    function on_mouseover_closure(tooltip) {\n",
       "        return function (event) {\n",
       "            if (!event.currentTarget.disabled) {\n",
       "                return fig.toolbar_button_onmouseover(tooltip);\n",
       "            }\n",
       "        };\n",
       "    }\n",
       "\n",
       "    fig.buttons = {};\n",
       "    var buttonGroup = document.createElement('div');\n",
       "    buttonGroup.classList = 'btn-group';\n",
       "    var button;\n",
       "    for (var toolbar_ind in mpl.toolbar_items) {\n",
       "        var name = mpl.toolbar_items[toolbar_ind][0];\n",
       "        var tooltip = mpl.toolbar_items[toolbar_ind][1];\n",
       "        var image = mpl.toolbar_items[toolbar_ind][2];\n",
       "        var method_name = mpl.toolbar_items[toolbar_ind][3];\n",
       "\n",
       "        if (!name) {\n",
       "            /* Instead of a spacer, we start a new button group. */\n",
       "            if (buttonGroup.hasChildNodes()) {\n",
       "                toolbar.appendChild(buttonGroup);\n",
       "            }\n",
       "            buttonGroup = document.createElement('div');\n",
       "            buttonGroup.classList = 'btn-group';\n",
       "            continue;\n",
       "        }\n",
       "\n",
       "        button = fig.buttons[name] = document.createElement('button');\n",
       "        button.classList = 'btn btn-default';\n",
       "        button.href = '#';\n",
       "        button.title = name;\n",
       "        button.innerHTML = '<i class=\"fa ' + image + ' fa-lg\"></i>';\n",
       "        button.addEventListener('click', on_click_closure(method_name));\n",
       "        button.addEventListener('mouseover', on_mouseover_closure(tooltip));\n",
       "        buttonGroup.appendChild(button);\n",
       "    }\n",
       "\n",
       "    if (buttonGroup.hasChildNodes()) {\n",
       "        toolbar.appendChild(buttonGroup);\n",
       "    }\n",
       "\n",
       "    // Add the status bar.\n",
       "    var status_bar = document.createElement('span');\n",
       "    status_bar.classList = 'mpl-message pull-right';\n",
       "    toolbar.appendChild(status_bar);\n",
       "    this.message = status_bar;\n",
       "\n",
       "    // Add the close button to the window.\n",
       "    var buttongrp = document.createElement('div');\n",
       "    buttongrp.classList = 'btn-group inline pull-right';\n",
       "    button = document.createElement('button');\n",
       "    button.classList = 'btn btn-mini btn-primary';\n",
       "    button.href = '#';\n",
       "    button.title = 'Stop Interaction';\n",
       "    button.innerHTML = '<i class=\"fa fa-power-off icon-remove icon-large\"></i>';\n",
       "    button.addEventListener('click', function (_evt) {\n",
       "        fig.handle_close(fig, {});\n",
       "    });\n",
       "    button.addEventListener(\n",
       "        'mouseover',\n",
       "        on_mouseover_closure('Stop Interaction')\n",
       "    );\n",
       "    buttongrp.appendChild(button);\n",
       "    var titlebar = this.root.querySelector('.ui-dialog-titlebar');\n",
       "    titlebar.insertBefore(buttongrp, titlebar.firstChild);\n",
       "};\n",
       "\n",
       "mpl.figure.prototype._remove_fig_handler = function (event) {\n",
       "    var fig = event.data.fig;\n",
       "    if (event.target !== this) {\n",
       "        // Ignore bubbled events from children.\n",
       "        return;\n",
       "    }\n",
       "    fig.close_ws(fig, {});\n",
       "};\n",
       "\n",
       "mpl.figure.prototype._root_extra_style = function (el) {\n",
       "    el.style.boxSizing = 'content-box'; // override notebook setting of border-box.\n",
       "};\n",
       "\n",
       "mpl.figure.prototype._canvas_extra_style = function (el) {\n",
       "    // this is important to make the div 'focusable\n",
       "    el.setAttribute('tabindex', 0);\n",
       "    // reach out to IPython and tell the keyboard manager to turn it's self\n",
       "    // off when our div gets focus\n",
       "\n",
       "    // location in version 3\n",
       "    if (IPython.notebook.keyboard_manager) {\n",
       "        IPython.notebook.keyboard_manager.register_events(el);\n",
       "    } else {\n",
       "        // location in version 2\n",
       "        IPython.keyboard_manager.register_events(el);\n",
       "    }\n",
       "};\n",
       "\n",
       "mpl.figure.prototype._key_event_extra = function (event, _name) {\n",
       "    var manager = IPython.notebook.keyboard_manager;\n",
       "    if (!manager) {\n",
       "        manager = IPython.keyboard_manager;\n",
       "    }\n",
       "\n",
       "    // Check for shift+enter\n",
       "    if (event.shiftKey && event.which === 13) {\n",
       "        this.canvas_div.blur();\n",
       "        // select the cell after this one\n",
       "        var index = IPython.notebook.find_cell_index(this.cell_info[0]);\n",
       "        IPython.notebook.select(index + 1);\n",
       "    }\n",
       "};\n",
       "\n",
       "mpl.figure.prototype.handle_save = function (fig, _msg) {\n",
       "    fig.ondownload(fig, null);\n",
       "};\n",
       "\n",
       "mpl.find_output_cell = function (html_output) {\n",
       "    // Return the cell and output element which can be found *uniquely* in the notebook.\n",
       "    // Note - this is a bit hacky, but it is done because the \"notebook_saving.Notebook\"\n",
       "    // IPython event is triggered only after the cells have been serialised, which for\n",
       "    // our purposes (turning an active figure into a static one), is too late.\n",
       "    var cells = IPython.notebook.get_cells();\n",
       "    var ncells = cells.length;\n",
       "    for (var i = 0; i < ncells; i++) {\n",
       "        var cell = cells[i];\n",
       "        if (cell.cell_type === 'code') {\n",
       "            for (var j = 0; j < cell.output_area.outputs.length; j++) {\n",
       "                var data = cell.output_area.outputs[j];\n",
       "                if (data.data) {\n",
       "                    // IPython >= 3 moved mimebundle to data attribute of output\n",
       "                    data = data.data;\n",
       "                }\n",
       "                if (data['text/html'] === html_output) {\n",
       "                    return [cell, data, j];\n",
       "                }\n",
       "            }\n",
       "        }\n",
       "    }\n",
       "};\n",
       "\n",
       "// Register the function which deals with the matplotlib target/channel.\n",
       "// The kernel may be null if the page has been refreshed.\n",
       "if (IPython.notebook.kernel !== null) {\n",
       "    IPython.notebook.kernel.comm_manager.register_target(\n",
       "        'matplotlib',\n",
       "        mpl.mpl_figure_comm\n",
       "    );\n",
       "}\n"
      ],
      "text/plain": [
       "<IPython.core.display.Javascript object>"
      ]
     },
     "metadata": {},
     "output_type": "display_data"
    },
    {
     "data": {
      "text/html": [
       "<img src=\"data:image/png;base64,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\" width=\"1400\">"
      ],
      "text/plain": [
       "<IPython.core.display.HTML object>"
      ]
     },
     "metadata": {},
     "output_type": "display_data"
    }
   ],
   "source": [
    "from matplotlib.animation import FuncAnimation\n",
    "\n",
    "\n",
    "fig = plt.figure(figsize=(14,7))\n",
    "ax1 = plt.subplot(121)\n",
    "ax2 = plt.subplot(222)\n",
    "ax3 = plt.subplot(224)\n",
    "pi_ani = PiAnimation(ax1, ax2, ax3)\n",
    "anim = FuncAnimation(fig, pi_ani, frames=10_000, interval=50, blit=True)\n",
    "plt.show()"
   ]
  },
  {
   "cell_type": "code",
   "execution_count": null,
   "metadata": {},
   "outputs": [],
   "source": []
  }
 ],
 "metadata": {
  "kernelspec": {
   "display_name": "Python 3 (ipykernel)",
   "language": "python",
   "name": "python3"
  },
  "language_info": {
   "codemirror_mode": {
    "name": "ipython",
    "version": 3
   },
   "file_extension": ".py",
   "mimetype": "text/x-python",
   "name": "python",
   "nbconvert_exporter": "python",
   "pygments_lexer": "ipython3",
   "version": "3.8.11"
  }
 },
 "nbformat": 4,
 "nbformat_minor": 4
}
