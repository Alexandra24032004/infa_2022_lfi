{
 "cells": [
  {
   "cell_type": "markdown",
   "metadata": {},
   "source": [
    "# Библиотека numpy"
   ]
  },
  {
   "cell_type": "markdown",
   "metadata": {},
   "source": [
    "**NumPy** — это библиотека языка Python, добавляющая поддержку больших многомерных массивов и матриц, вместе с большой библиотекой высокоуровневых (и очень быстрых) математических функций для операций с этими массивами."
   ]
  },
  {
   "cell_type": "markdown",
   "metadata": {},
   "source": [
    "Основным объектом NumPy является однородный многомерный массив (в numpy называется numpy.ndarray). Это многомерный массив элементов (обычно чисел), одного типа.\n",
    "\n",
    "Наиболее важные атрибуты объектов ndarray:\n",
    "\n",
    "**ndarray.ndim** - число измерений (чаще их называют \"оси\") массива.\n",
    "\n",
    "**ndarray.shape** - размеры массива, его форма. Это кортеж натуральных чисел, показывающий длину массива по каждой оси. Для матрицы из n строк и m столбов, shape будет (n,m). Число элементов кортежа shape равно ndim.\n",
    "\n",
    "**ndarray.size** - количество элементов массива. Очевидно, равно произведению всех элементов атрибута shape.\n",
    "\n",
    "**ndarray.dtype** - объект, описывающий тип элементов массива. Можно определить dtype, используя стандартные типы данных Python. NumPy здесь предоставляет целый букет возможностей, как встроенных, например: bool_, character, int8, int16, int32, int64, float8, float16, float32, float64, complex64, object_, так и возможность определить собственные типы данных, в том числе и составные.\n",
    "\n",
    "**ndarray.itemsize** - размер каждого элемента массива в байтах."
   ]
  },
  {
   "cell_type": "markdown",
   "metadata": {},
   "source": [
    "# Создание массивов"
   ]
  },
  {
   "cell_type": "markdown",
   "metadata": {},
   "source": [
    "В NumPy существует много способов создать массив. Один из наиболее простых - создать массив из обычных списков или кортежей Python, используя функцию numpy.array() (запомните: array - функция, создающая объект типа ndarray):"
   ]
  },
  {
   "cell_type": "code",
   "execution_count": 1,
   "metadata": {},
   "outputs": [
    {
     "data": {
      "text/plain": [
       "array([1, 2, 3])"
      ]
     },
     "execution_count": 1,
     "metadata": {},
     "output_type": "execute_result"
    }
   ],
   "source": [
    "import numpy as np\n",
    "\n",
    "a = np.array([1, 2, 3])\n",
    "a"
   ]
  },
  {
   "cell_type": "code",
   "execution_count": 2,
   "metadata": {},
   "outputs": [
    {
     "data": {
      "text/plain": [
       "numpy.ndarray"
      ]
     },
     "execution_count": 2,
     "metadata": {},
     "output_type": "execute_result"
    }
   ],
   "source": [
    "type(a)"
   ]
  },
  {
   "cell_type": "markdown",
   "metadata": {},
   "source": [
    "Функция array() трансформирует вложенные последовательности в многомерные массивы. Тип элементов массива зависит от типа элементов исходной последовательности (но можно и переопределить его в момент создания)."
   ]
  },
  {
   "cell_type": "code",
   "execution_count": 3,
   "metadata": {},
   "outputs": [
    {
     "data": {
      "text/plain": [
       "array([[1.5, 2. , 3. ],\n",
       "       [4. , 5. , 6. ]])"
      ]
     },
     "execution_count": 3,
     "metadata": {},
     "output_type": "execute_result"
    }
   ],
   "source": [
    "b = np.array([[1.5, 2, 3], [4, 5, 6]])\n",
    "b"
   ]
  },
  {
   "cell_type": "markdown",
   "metadata": {},
   "source": [
    "Можно также переопределить тип в момент создания:"
   ]
  },
  {
   "cell_type": "code",
   "execution_count": 4,
   "metadata": {},
   "outputs": [
    {
     "name": "stderr",
     "output_type": "stream",
     "text": [
      "/tmp/ipykernel_4875/2311286893.py:1: DeprecationWarning: `np.complex` is a deprecated alias for the builtin `complex`. To silence this warning, use `complex` by itself. Doing this will not modify any behavior and is safe. If you specifically wanted the numpy scalar type, use `np.complex128` here.\n",
      "Deprecated in NumPy 1.20; for more details and guidance: https://numpy.org/devdocs/release/1.20.0-notes.html#deprecations\n",
      "  b = np.array([[1.5, 2, 3], [4, 5, 6]], dtype=np.complex)\n"
     ]
    },
    {
     "data": {
      "text/plain": [
       "array([[1.5+0.j, 2. +0.j, 3. +0.j],\n",
       "       [4. +0.j, 5. +0.j, 6. +0.j]])"
      ]
     },
     "execution_count": 4,
     "metadata": {},
     "output_type": "execute_result"
    }
   ],
   "source": [
    "b = np.array([[1.5, 2, 3], [4, 5, 6]], dtype=np.complex)\n",
    "b"
   ]
  },
  {
   "cell_type": "markdown",
   "metadata": {},
   "source": [
    "Функция array() не единственная функция для создания массивов. Обычно элементы массива вначале неизвестны, а массив, в котором они будут храниться, уже нужен. Поэтому имеется несколько функций для того, чтобы создавать массивы с каким-то исходным содержимым (по умолчанию тип создаваемого массива — float64).\n",
    "\n",
    "Функция zeros() создает массив из нулей, а функция ones() — массив из единиц. Обе функции принимают кортеж с размерами, и аргумент dtype:"
   ]
  },
  {
   "cell_type": "code",
   "execution_count": 5,
   "metadata": {},
   "outputs": [
    {
     "data": {
      "text/plain": [
       "array([[0., 0., 0., 0., 0.],\n",
       "       [0., 0., 0., 0., 0.],\n",
       "       [0., 0., 0., 0., 0.]])"
      ]
     },
     "execution_count": 5,
     "metadata": {},
     "output_type": "execute_result"
    }
   ],
   "source": [
    "a = np.zeros((3, 5))\n",
    "a"
   ]
  },
  {
   "cell_type": "code",
   "execution_count": 6,
   "metadata": {},
   "outputs": [
    {
     "data": {
      "text/plain": [
       "array([[[1., 1.],\n",
       "        [1., 1.]],\n",
       "\n",
       "       [[1., 1.],\n",
       "        [1., 1.]]])"
      ]
     },
     "execution_count": 6,
     "metadata": {},
     "output_type": "execute_result"
    }
   ],
   "source": [
    "a = np.ones((2, 2, 2))\n",
    "a"
   ]
  },
  {
   "cell_type": "markdown",
   "metadata": {},
   "source": [
    "Функция eye() создаёт единичную матрицу (двумерный массив)"
   ]
  },
  {
   "cell_type": "code",
   "execution_count": 7,
   "metadata": {},
   "outputs": [
    {
     "data": {
      "text/plain": [
       "array([[1., 0., 0., 0., 0.],\n",
       "       [0., 1., 0., 0., 0.],\n",
       "       [0., 0., 1., 0., 0.],\n",
       "       [0., 0., 0., 1., 0.],\n",
       "       [0., 0., 0., 0., 1.]])"
      ]
     },
     "execution_count": 7,
     "metadata": {},
     "output_type": "execute_result"
    }
   ],
   "source": [
    "a = np.eye(5)\n",
    "a"
   ]
  },
  {
   "cell_type": "markdown",
   "metadata": {},
   "source": [
    "Функция empty() создает массив без его заполнения. Исходное содержимое случайно и зависит от состояния памяти на момент создания массива (то есть от того мусора, что в ней хранится):"
   ]
  },
  {
   "cell_type": "code",
   "execution_count": 8,
   "metadata": {},
   "outputs": [
    {
     "data": {
      "text/plain": [
       "array([[6.9016133e-310, 2.4828870e-316, 0.0000000e+000],\n",
       "       [0.0000000e+000, 0.0000000e+000, 0.0000000e+000],\n",
       "       [0.0000000e+000, 0.0000000e+000, 0.0000000e+000]])"
      ]
     },
     "execution_count": 8,
     "metadata": {},
     "output_type": "execute_result"
    }
   ],
   "source": [
    "a = np.empty((3, 3))\n",
    "a"
   ]
  },
  {
   "cell_type": "markdown",
   "metadata": {},
   "source": [
    "Для создания последовательностей чисел, в NumPy имеется функция arange(), аналогичная встроенной в Python range(), только вместо списков она возвращает массивы, и принимает не только целые значения:"
   ]
  },
  {
   "cell_type": "code",
   "execution_count": 9,
   "metadata": {},
   "outputs": [
    {
     "data": {
      "text/plain": [
       "array([10, 15, 20, 25])"
      ]
     },
     "execution_count": 9,
     "metadata": {},
     "output_type": "execute_result"
    }
   ],
   "source": [
    "a = np.arange(10, 30, 5)\n",
    "a"
   ]
  },
  {
   "cell_type": "code",
   "execution_count": 10,
   "metadata": {},
   "outputs": [
    {
     "data": {
      "text/plain": [
       "array([0. , 0.1, 0.2, 0.3, 0.4, 0.5, 0.6, 0.7, 0.8, 0.9])"
      ]
     },
     "execution_count": 10,
     "metadata": {},
     "output_type": "execute_result"
    }
   ],
   "source": [
    "a = np.arange(0, 1, 0.1)\n",
    "a"
   ]
  },
  {
   "cell_type": "markdown",
   "metadata": {},
   "source": [
    "Вообще, при использовании arange() с аргументами типа float, сложно быть уверенным в том, сколько элементов будет получено (из-за ограничения точности чисел с плавающей запятой). Поэтому, в таких случаях обычно лучше использовать функцию linspace(), которая вместо шага в качестве одного из аргументов принимает число, равное количеству нужных элементов:"
   ]
  },
  {
   "cell_type": "code",
   "execution_count": 11,
   "metadata": {},
   "outputs": [
    {
     "data": {
      "text/plain": [
       "array([0.  , 0.25, 0.5 , 0.75, 1.  , 1.25, 1.5 , 1.75, 2.  ])"
      ]
     },
     "execution_count": 11,
     "metadata": {},
     "output_type": "execute_result"
    }
   ],
   "source": [
    "a = np.linspace(0, 2, 9)  # 9 чисел от 0 до 2 включительно\n",
    "a"
   ]
  },
  {
   "cell_type": "markdown",
   "metadata": {},
   "source": [
    "# Изменение формы массивов"
   ]
  },
  {
   "cell_type": "markdown",
   "metadata": {},
   "source": [
    "Предположим, у нас имеется массив, состоящий из десяти чисел: "
   ]
  },
  {
   "cell_type": "code",
   "execution_count": 12,
   "metadata": {},
   "outputs": [
    {
     "data": {
      "text/plain": [
       "array([0, 1, 2, 3, 4, 5, 6, 7, 8, 9])"
      ]
     },
     "execution_count": 12,
     "metadata": {},
     "output_type": "execute_result"
    }
   ],
   "source": [
    "a = np.arange(10)\n",
    "a"
   ]
  },
  {
   "cell_type": "markdown",
   "metadata": {},
   "source": [
    "Для изменения формы этого массива, достаточно указать свойству shape кортеж с новыми размерами, например, так: "
   ]
  },
  {
   "cell_type": "code",
   "execution_count": 13,
   "metadata": {},
   "outputs": [
    {
     "data": {
      "text/plain": [
       "array([[0, 1, 2, 3, 4],\n",
       "       [5, 6, 7, 8, 9]])"
      ]
     },
     "execution_count": 13,
     "metadata": {},
     "output_type": "execute_result"
    }
   ],
   "source": [
    "a.shape = 2, 5\n",
    "a"
   ]
  },
  {
   "cell_type": "markdown",
   "metadata": {},
   "source": [
    "В результате изменится представление массива, на которое ссылается переменная a. Если же требуется создать новое представление массива, сохранив прежнее, то следует воспользоваться методом reshape(): "
   ]
  },
  {
   "cell_type": "markdown",
   "metadata": {},
   "source": [
    "b = a.reshape(10)\n",
    "b"
   ]
  },
  {
   "cell_type": "markdown",
   "metadata": {},
   "source": [
    "Cсылки b и a будут использовать одни и те же данные, то есть, изменение массива через b: "
   ]
  },
  {
   "cell_type": "code",
   "execution_count": 14,
   "metadata": {},
   "outputs": [],
   "source": [
    "b[0] = -1 # приведет к изменению соответствующего элемента массива a: "
   ]
  },
  {
   "cell_type": "markdown",
   "metadata": {},
   "source": [
    "У свойства shape и метода reshape() размерность должна охватывать все элементы массива. Например, вот такая команда: "
   ]
  },
  {
   "cell_type": "code",
   "execution_count": 15,
   "metadata": {},
   "outputs": [
    {
     "ename": "ValueError",
     "evalue": "cannot reshape array of size 10 into shape (3,3)",
     "output_type": "error",
     "traceback": [
      "\u001b[0;31m---------------------------------------------------------------------------\u001b[0m",
      "\u001b[0;31mValueError\u001b[0m                                Traceback (most recent call last)",
      "\u001b[0;32m/tmp/ipykernel_4875/2444272619.py\u001b[0m in \u001b[0;36m<module>\u001b[0;34m\u001b[0m\n\u001b[0;32m----> 1\u001b[0;31m \u001b[0ma\u001b[0m\u001b[0;34m.\u001b[0m\u001b[0mshape\u001b[0m \u001b[0;34m=\u001b[0m \u001b[0;36m3\u001b[0m\u001b[0;34m,\u001b[0m \u001b[0;36m3\u001b[0m\u001b[0;34m\u001b[0m\u001b[0;34m\u001b[0m\u001b[0m\n\u001b[0m",
      "\u001b[0;31mValueError\u001b[0m: cannot reshape array of size 10 into shape (3,3)"
     ]
    }
   ],
   "source": [
    "a.shape = 3, 3"
   ]
  },
  {
   "cell_type": "markdown",
   "metadata": {},
   "source": [
    "приведет к ошибке, т.к. размерность 3x3 = 9 элементов, а в массиве 10 элементов. Здесь всегда должно выполняться равенство:\n",
    "\n",
    "n1 x n2 x … x nN = число элементов массива "
   ]
  },
  {
   "cell_type": "markdown",
   "metadata": {},
   "source": [
    "Но допускается делать так: "
   ]
  },
  {
   "cell_type": "code",
   "execution_count": 16,
   "metadata": {},
   "outputs": [
    {
     "data": {
      "text/plain": [
       "array([[0, 1],\n",
       "       [2, 3],\n",
       "       [4, 5],\n",
       "       [6, 7],\n",
       "       [8, 9]])"
      ]
     },
     "execution_count": 16,
     "metadata": {},
     "output_type": "execute_result"
    }
   ],
   "source": [
    "a.shape = -1, 2\n",
    "a"
   ]
  },
  {
   "cell_type": "markdown",
   "metadata": {},
   "source": [
    "Отрицательное значение -1 означает автоматическое вычисление размерности по первой оси. По второй берется значение 2. В этом случае получим размерность 5x2.\n",
    "\n",
    "То же самое можно делать и в методе reshape(): "
   ]
  },
  {
   "cell_type": "code",
   "execution_count": 17,
   "metadata": {},
   "outputs": [
    {
     "name": "stdout",
     "output_type": "stream",
     "text": [
      "[[-1.+0.j -1.+0.j -1.+0.j]\n",
      " [ 4.+0.j  5.+0.j  6.+0.j]]\n",
      "[[-1.+0.j -1.+0.j -1.+0.j]\n",
      " [ 4.+0.j  5.+0.j  6.+0.j]]\n"
     ]
    }
   ],
   "source": [
    "b.reshape(-1, 1)\n",
    "print(b)\n",
    "b.reshape(1, -1)\n",
    "print(b)"
   ]
  },
  {
   "cell_type": "markdown",
   "metadata": {},
   "source": [
    "Используя отрицательный индекс, можно делать и такие преобразования: "
   ]
  },
  {
   "cell_type": "code",
   "execution_count": 18,
   "metadata": {},
   "outputs": [
    {
     "name": "stdout",
     "output_type": "stream",
     "text": [
      "[[-1.+0.j -1.+0.j -1.+0.j]\n",
      " [ 4.+0.j  5.+0.j  6.+0.j]]\n",
      "[[-1.+0.j -1.+0.j -1.+0.j]\n",
      " [ 4.+0.j  5.+0.j  6.+0.j]]\n"
     ]
    }
   ],
   "source": [
    "b.reshape(2, -1)\n",
    "print(b)\n",
    "b.reshape(-1, 2)\n",
    "print(b)"
   ]
  },
  {
   "cell_type": "markdown",
   "metadata": {},
   "source": [
    "Если нам требуется многомерный массив преобразовать в обычный одномерный, то можно воспользоваться методом ravel(), который возвращает новое представление, не меняя текущего: "
   ]
  },
  {
   "cell_type": "code",
   "execution_count": 19,
   "metadata": {},
   "outputs": [
    {
     "data": {
      "text/plain": [
       "array([-1.+0.j, -1.+0.j, -1.+0.j,  4.+0.j,  5.+0.j,  6.+0.j])"
      ]
     },
     "execution_count": 19,
     "metadata": {},
     "output_type": "execute_result"
    }
   ],
   "source": [
    "c = b.ravel() # с ссылается на одномерное представление массива\n",
    "c"
   ]
  },
  {
   "cell_type": "markdown",
   "metadata": {},
   "source": [
    "Если же нам нужно текущий массив преобразовать в одномерный, то это можно сделать так: "
   ]
  },
  {
   "cell_type": "code",
   "execution_count": 20,
   "metadata": {},
   "outputs": [],
   "source": [
    "b.shape = -1"
   ]
  },
  {
   "cell_type": "markdown",
   "metadata": {},
   "source": [
    "Помимо свойства shape можно использовать метод resize, который выполняет подобную операцию с текущим массивом. Например: "
   ]
  },
  {
   "cell_type": "code",
   "execution_count": 21,
   "metadata": {},
   "outputs": [],
   "source": [
    "a.resize(2, 5) # массив 2x5"
   ]
  },
  {
   "cell_type": "markdown",
   "metadata": {},
   "source": [
    "Но, как мы уже говорили, вот такая строчка приведет к ошибке: "
   ]
  },
  {
   "cell_type": "code",
   "execution_count": 22,
   "metadata": {},
   "outputs": [
    {
     "ename": "ValueError",
     "evalue": "cannot resize an array that references or is referenced\nby another array in this way.\nUse the np.resize function or refcheck=False",
     "output_type": "error",
     "traceback": [
      "\u001b[0;31m---------------------------------------------------------------------------\u001b[0m",
      "\u001b[0;31mValueError\u001b[0m                                Traceback (most recent call last)",
      "\u001b[0;32m/tmp/ipykernel_4875/4058682236.py\u001b[0m in \u001b[0;36m<module>\u001b[0;34m\u001b[0m\n\u001b[0;32m----> 1\u001b[0;31m \u001b[0ma\u001b[0m\u001b[0;34m.\u001b[0m\u001b[0mresize\u001b[0m\u001b[0;34m(\u001b[0m\u001b[0;36m3\u001b[0m\u001b[0;34m,\u001b[0m \u001b[0;36m3\u001b[0m\u001b[0;34m)\u001b[0m  \u001b[0;31m# ошибка: 3x3 != 10\u001b[0m\u001b[0;34m\u001b[0m\u001b[0;34m\u001b[0m\u001b[0m\n\u001b[0m",
      "\u001b[0;31mValueError\u001b[0m: cannot resize an array that references or is referenced\nby another array in this way.\nUse the np.resize function or refcheck=False"
     ]
    }
   ],
   "source": [
    "a.resize(3, 3)  # ошибка: 3x3 != 10"
   ]
  },
  {
   "cell_type": "markdown",
   "metadata": {},
   "source": [
    "# Транспонирование матриц и векторов"
   ]
  },
  {
   "cell_type": "markdown",
   "metadata": {},
   "source": [
    "Очень часто в математических операциях требуется выполнять транспонирование матриц и векторов, то есть, заменять строки на столбцы. Например, если имеется матрица (двумерный массив): "
   ]
  },
  {
   "cell_type": "code",
   "execution_count": 23,
   "metadata": {},
   "outputs": [
    {
     "data": {
      "text/plain": [
       "array([[ 1,  2,  3],\n",
       "       [ 1,  4,  9],\n",
       "       [ 1,  8, 27]])"
      ]
     },
     "execution_count": 23,
     "metadata": {},
     "output_type": "execute_result"
    }
   ],
   "source": [
    "a = np.array([(1, 2, 3), (1, 4, 9), (1, 8, 27)])\n",
    "a"
   ]
  },
  {
   "cell_type": "markdown",
   "metadata": {},
   "source": [
    "то операция транспонирования может быть реализована так: "
   ]
  },
  {
   "cell_type": "code",
   "execution_count": 24,
   "metadata": {},
   "outputs": [
    {
     "data": {
      "text/plain": [
       "array([[ 1,  1,  1],\n",
       "       [ 2,  4,  8],\n",
       "       [ 3,  9, 27]])"
      ]
     },
     "execution_count": 24,
     "metadata": {},
     "output_type": "execute_result"
    }
   ],
   "source": [
    "b = a.T\n",
    "b"
   ]
  },
  {
   "cell_type": "markdown",
   "metadata": {},
   "source": [
    "Обратите внимание, мы здесь создаем лишь новое представление тех же самых данных массива a. И изменение элементов в массиве b: "
   ]
  },
  {
   "cell_type": "code",
   "execution_count": 25,
   "metadata": {},
   "outputs": [],
   "source": [
    "b[0, 1] = 10"
   ]
  },
  {
   "cell_type": "markdown",
   "metadata": {},
   "source": [
    "приведет к соответствующему изменению значения элемента и массива a. Это следует помнить, используя операцию транспонирования.\n",
    "\n",
    "Транспонирование векторов работает несколько иначе. Предположим, имеется одномерный массив: "
   ]
  },
  {
   "cell_type": "code",
   "execution_count": 26,
   "metadata": {},
   "outputs": [
    {
     "data": {
      "text/plain": [
       "array([1, 2, 3, 4, 5, 6, 7, 8, 9])"
      ]
     },
     "execution_count": 26,
     "metadata": {},
     "output_type": "execute_result"
    }
   ],
   "source": [
    "x = np.arange(1, 10)\n",
    "x"
   ]
  },
  {
   "cell_type": "markdown",
   "metadata": {},
   "source": [
    "и мы выполняем операцию транспонирования: "
   ]
  },
  {
   "cell_type": "code",
   "execution_count": 27,
   "metadata": {},
   "outputs": [
    {
     "data": {
      "text/plain": [
       "array([1, 2, 3, 4, 5, 6, 7, 8, 9])"
      ]
     },
     "execution_count": 27,
     "metadata": {},
     "output_type": "execute_result"
    }
   ],
   "source": [
    "x.T\n",
    "x"
   ]
  },
  {
   "cell_type": "markdown",
   "metadata": {},
   "source": [
    "В результате ничего не изменилось: вектор как был строкой, так строкой и остался. Почему? Дело в том, что массив x имеет только одну размерность, поэтому здесь нет понятия строк и столбцов. Соответственно, операция транспонирования ни к чему не приводит. Чтобы получить ожидаемый эффект, нужно добавить к массиву еще одну ось, например, так: "
   ]
  },
  {
   "cell_type": "code",
   "execution_count": 28,
   "metadata": {},
   "outputs": [],
   "source": [
    "x.shape = 1, -1"
   ]
  },
  {
   "cell_type": "markdown",
   "metadata": {},
   "source": [
    "И теперь, при транспонировании получим вектор-столбец: "
   ]
  },
  {
   "cell_type": "code",
   "execution_count": 29,
   "metadata": {},
   "outputs": [
    {
     "name": "stdout",
     "output_type": "stream",
     "text": [
      "[[1]\n",
      " [2]\n",
      " [3]\n",
      " [4]\n",
      " [5]\n",
      " [6]\n",
      " [7]\n",
      " [8]\n",
      " [9]]\n",
      "[[1 2 3 4 5 6 7 8 9]]\n"
     ]
    }
   ],
   "source": [
    "print(x.T)\n",
    "print(x)"
   ]
  },
  {
   "cell_type": "markdown",
   "metadata": {},
   "source": [
    "# Операции с индексами"
   ]
  },
  {
   "cell_type": "markdown",
   "metadata": {},
   "source": [
    "Оперативная память компьютера линейна, и поэтому даже многомерные массивы, на самом деле являются некоторыми линейными структурами, над которыми существуют система индексов, говорящих как именно читать этот линейный блок. Проведение операций над индексами в большистве случаев эффективно и поэтому операции смены размерности массива или транспонирования выполняются быстро"
   ]
  },
  {
   "cell_type": "code",
   "execution_count": 30,
   "metadata": {},
   "outputs": [
    {
     "name": "stdout",
     "output_type": "stream",
     "text": [
      "[[1 3]\n",
      " [2 4]]\n"
     ]
    }
   ],
   "source": [
    "import numpy as np\n",
    "\n",
    "a = np.asarray([[1,2], [3,4]])\n",
    "b = a.T # Транспонированый массив\n",
    "print(b)"
   ]
  },
  {
   "cell_type": "code",
   "execution_count": 31,
   "metadata": {},
   "outputs": [
    {
     "name": "stdout",
     "output_type": "stream",
     "text": [
      "[[10  3]\n",
      " [ 2  4]]\n"
     ]
    }
   ],
   "source": [
    "b[0,0] = 10\n",
    "print(b)"
   ]
  },
  {
   "cell_type": "code",
   "execution_count": 32,
   "metadata": {},
   "outputs": [
    {
     "name": "stdout",
     "output_type": "stream",
     "text": [
      "[[10  2]\n",
      " [ 3  4]]\n"
     ]
    }
   ],
   "source": [
    "print(a)"
   ]
  },
  {
   "cell_type": "code",
   "execution_count": 33,
   "metadata": {},
   "outputs": [
    {
     "data": {
      "text/plain": [
       "array([[11,  3],\n",
       "       [ 2,  4]])"
      ]
     },
     "execution_count": 33,
     "metadata": {},
     "output_type": "execute_result"
    }
   ],
   "source": [
    "b[0][0] = 11\n",
    "b"
   ]
  },
  {
   "cell_type": "markdown",
   "metadata": {},
   "source": [
    "Как мы видим при изменени переменной b изменилась переменная a. Это произошло потому, что обе эти переменные использубют один и тот же кусок памяти, но по разному."
   ]
  },
  {
   "cell_type": "markdown",
   "metadata": {},
   "source": [
    "# Добавление и удаление осей"
   ]
  },
  {
   "cell_type": "markdown",
   "metadata": {},
   "source": [
    "Часто при работе с массивами NumPy требуется добавлять новые оси измерений и удалять существующие. Есть множество способов выполнять эти операции, но мы рассмотрим два наиболее распространенных с помощью функций:\n",
    "\n",
    "    np.expand_dims(a, axis) – добавление новой оси;\n",
    "    np.squeeze(a[, axis]) – удаление оси (без удаления элементов). \n",
    "\n",
    "Давайте предположим, что у нас имеется некий многомерный массив: "
   ]
  },
  {
   "cell_type": "code",
   "execution_count": 34,
   "metadata": {},
   "outputs": [],
   "source": [
    "x_test = np.arange(32).reshape(8, 2, 2) # массив 8x2x2"
   ]
  },
  {
   "cell_type": "markdown",
   "metadata": {},
   "source": [
    "И нам потребовалось добавить еще одно измерение (ось), причем, в самое начало, то есть, ось axis0. Сейчас на этой оси 8 элементов – матриц 2x2, но мы хотим сделать четырехмерный массив, сохранив остальные три оси и их данные без изменений. Как раз это достаточно просто сделать с помощью функции expand_dims, следующим образом: "
   ]
  },
  {
   "cell_type": "code",
   "execution_count": 35,
   "metadata": {},
   "outputs": [],
   "source": [
    "x_test4 = np.expand_dims(x_test, axis=0)"
   ]
  },
  {
   "cell_type": "markdown",
   "metadata": {},
   "source": [
    "Обращаясь к свойству shape: "
   ]
  },
  {
   "cell_type": "markdown",
   "metadata": {},
   "source": [
    "x_test4.shape"
   ]
  },
  {
   "cell_type": "markdown",
   "metadata": {},
   "source": [
    "Видим, что массив стал четырехмерным и первая добавленная ось axis0 содержит один элемент – трехмерный массив 8x2x2. При необходимости, мы всегда можем добавить новый элемент на эту ось: "
   ]
  },
  {
   "cell_type": "code",
   "execution_count": 36,
   "metadata": {},
   "outputs": [
    {
     "data": {
      "text/plain": [
       "array([[[[ 0,  1],\n",
       "         [ 2,  3]],\n",
       "\n",
       "        [[ 4,  5],\n",
       "         [ 6,  7]],\n",
       "\n",
       "        [[ 8,  9],\n",
       "         [10, 11]],\n",
       "\n",
       "        [[12, 13],\n",
       "         [14, 15]],\n",
       "\n",
       "        [[16, 17],\n",
       "         [18, 19]],\n",
       "\n",
       "        [[20, 21],\n",
       "         [22, 23]],\n",
       "\n",
       "        [[24, 25],\n",
       "         [26, 27]],\n",
       "\n",
       "        [[28, 29],\n",
       "         [30, 31]]],\n",
       "\n",
       "\n",
       "       [[[ 0,  1],\n",
       "         [ 2,  3]],\n",
       "\n",
       "        [[ 4,  5],\n",
       "         [ 6,  7]],\n",
       "\n",
       "        [[ 8,  9],\n",
       "         [10, 11]],\n",
       "\n",
       "        [[12, 13],\n",
       "         [14, 15]],\n",
       "\n",
       "        [[16, 17],\n",
       "         [18, 19]],\n",
       "\n",
       "        [[20, 21],\n",
       "         [22, 23]],\n",
       "\n",
       "        [[24, 25],\n",
       "         [26, 27]],\n",
       "\n",
       "        [[28, 29],\n",
       "         [30, 31]]]])"
      ]
     },
     "execution_count": 36,
     "metadata": {},
     "output_type": "execute_result"
    }
   ],
   "source": [
    "a = np.append(x_test4, x_test4, axis=0) # размерность (2, 8, 2, 2)\n",
    "a"
   ]
  },
  {
   "cell_type": "markdown",
   "metadata": {},
   "source": [
    "или удалить ненужные элементы: "
   ]
  },
  {
   "cell_type": "code",
   "execution_count": 37,
   "metadata": {},
   "outputs": [
    {
     "data": {
      "text/plain": [
       "array([[[[ 0,  1],\n",
       "         [ 2,  3]],\n",
       "\n",
       "        [[ 4,  5],\n",
       "         [ 6,  7]],\n",
       "\n",
       "        [[ 8,  9],\n",
       "         [10, 11]],\n",
       "\n",
       "        [[12, 13],\n",
       "         [14, 15]],\n",
       "\n",
       "        [[16, 17],\n",
       "         [18, 19]],\n",
       "\n",
       "        [[20, 21],\n",
       "         [22, 23]],\n",
       "\n",
       "        [[24, 25],\n",
       "         [26, 27]],\n",
       "\n",
       "        [[28, 29],\n",
       "         [30, 31]]]])"
      ]
     },
     "execution_count": 37,
     "metadata": {},
     "output_type": "execute_result"
    }
   ],
   "source": [
    "b = np.delete(a, 0, axis=0) # размерность (1, 8, 2, 2)\n",
    "b"
   ]
  },
  {
   "cell_type": "markdown",
   "metadata": {},
   "source": [
    "Здесь второй параметр 0 – индекс удаляемого элемента на оси axis0.\n",
    "\n",
    "Если нам нужно добавить последнюю ось в массиве, то для этого можно записать такую команду: "
   ]
  },
  {
   "cell_type": "code",
   "execution_count": 38,
   "metadata": {},
   "outputs": [],
   "source": [
    "b = np.expand_dims(x_test4, axis=-1) # размерность (1, 8, 2, 2, 1)"
   ]
  },
  {
   "cell_type": "markdown",
   "metadata": {},
   "source": [
    "Отрицательный индекс -1 – это следующая с конца ось. Если указать индекс -2, то добавится предпоследняя ось и так далее. Отрицательные индексы очень удобно использовать при работе с массивами произвольных размерностей.\n",
    "\n",
    "Следующая функция squeeze позволяет удалить все оси с одним элементом. Например, строчка: "
   ]
  },
  {
   "cell_type": "code",
   "execution_count": 39,
   "metadata": {},
   "outputs": [
    {
     "data": {
      "text/plain": [
       "array([[[ 0,  1],\n",
       "        [ 2,  3]],\n",
       "\n",
       "       [[ 4,  5],\n",
       "        [ 6,  7]],\n",
       "\n",
       "       [[ 8,  9],\n",
       "        [10, 11]],\n",
       "\n",
       "       [[12, 13],\n",
       "        [14, 15]],\n",
       "\n",
       "       [[16, 17],\n",
       "        [18, 19]],\n",
       "\n",
       "       [[20, 21],\n",
       "        [22, 23]],\n",
       "\n",
       "       [[24, 25],\n",
       "        [26, 27]],\n",
       "\n",
       "       [[28, 29],\n",
       "        [30, 31]]])"
      ]
     },
     "execution_count": 39,
     "metadata": {},
     "output_type": "execute_result"
    }
   ],
   "source": [
    "c = np.squeeze(b) # размерность (8, 2, 2)\n",
    "c"
   ]
  },
  {
   "cell_type": "markdown",
   "metadata": {},
   "source": [
    "превращает массив размерностью (1, 8, 2, 2) в массив размерностью (8, 2, 2). При необходимости, дополнительно мы можем самостоятельно указать оси, которые следует удалять, например, так: "
   ]
  },
  {
   "cell_type": "code",
   "execution_count": 40,
   "metadata": {},
   "outputs": [],
   "source": [
    "c = np.squeeze(b, axis=0) # удалит только ось axis0, не затронув другие"
   ]
  },
  {
   "cell_type": "markdown",
   "metadata": {},
   "source": [
    "Но, если указать ось с числом элементов больше 1, то возникнет ошибка: "
   ]
  },
  {
   "cell_type": "code",
   "execution_count": 41,
   "metadata": {},
   "outputs": [
    {
     "ename": "ValueError",
     "evalue": "cannot select an axis to squeeze out which has size not equal to one",
     "output_type": "error",
     "traceback": [
      "\u001b[0;31m---------------------------------------------------------------------------\u001b[0m",
      "\u001b[0;31mValueError\u001b[0m                                Traceback (most recent call last)",
      "\u001b[0;32m/tmp/ipykernel_4875/129786531.py\u001b[0m in \u001b[0;36m<module>\u001b[0;34m\u001b[0m\n\u001b[0;32m----> 1\u001b[0;31m \u001b[0mc\u001b[0m \u001b[0;34m=\u001b[0m \u001b[0mnp\u001b[0m\u001b[0;34m.\u001b[0m\u001b[0msqueeze\u001b[0m\u001b[0;34m(\u001b[0m\u001b[0mb\u001b[0m\u001b[0;34m,\u001b[0m \u001b[0maxis\u001b[0m\u001b[0;34m=\u001b[0m\u001b[0;36m1\u001b[0m\u001b[0;34m)\u001b[0m \u001b[0;31m# ошибка, на оси axis1 8 элементов\u001b[0m\u001b[0;34m\u001b[0m\u001b[0;34m\u001b[0m\u001b[0m\n\u001b[0m",
      "\u001b[0;32m<__array_function__ internals>\u001b[0m in \u001b[0;36msqueeze\u001b[0;34m(*args, **kwargs)\u001b[0m\n",
      "\u001b[0;32m/opt/rh/rh-python38/root/usr/local/lib64/python3.8/site-packages/numpy/core/fromnumeric.py\u001b[0m in \u001b[0;36msqueeze\u001b[0;34m(a, axis)\u001b[0m\n\u001b[1;32m   1506\u001b[0m         \u001b[0;32mreturn\u001b[0m \u001b[0msqueeze\u001b[0m\u001b[0;34m(\u001b[0m\u001b[0;34m)\u001b[0m\u001b[0;34m\u001b[0m\u001b[0;34m\u001b[0m\u001b[0m\n\u001b[1;32m   1507\u001b[0m     \u001b[0;32melse\u001b[0m\u001b[0;34m:\u001b[0m\u001b[0;34m\u001b[0m\u001b[0;34m\u001b[0m\u001b[0m\n\u001b[0;32m-> 1508\u001b[0;31m         \u001b[0;32mreturn\u001b[0m \u001b[0msqueeze\u001b[0m\u001b[0;34m(\u001b[0m\u001b[0maxis\u001b[0m\u001b[0;34m=\u001b[0m\u001b[0maxis\u001b[0m\u001b[0;34m)\u001b[0m\u001b[0;34m\u001b[0m\u001b[0;34m\u001b[0m\u001b[0m\n\u001b[0m\u001b[1;32m   1509\u001b[0m \u001b[0;34m\u001b[0m\u001b[0m\n\u001b[1;32m   1510\u001b[0m \u001b[0;34m\u001b[0m\u001b[0m\n",
      "\u001b[0;31mValueError\u001b[0m: cannot select an axis to squeeze out which has size not equal to one"
     ]
    }
   ],
   "source": [
    "c = np.squeeze(b, axis=1) # ошибка, на оси axis1 8 элементов"
   ]
  },
  {
   "cell_type": "markdown",
   "metadata": {},
   "source": [
    "В NumPy добавлять новые оси иногда удобнее с помощью специального объекта np.newaxis. Например, пусть у нас есть одномерный массив: "
   ]
  },
  {
   "cell_type": "code",
   "execution_count": 42,
   "metadata": {},
   "outputs": [
    {
     "data": {
      "text/plain": [
       "array([1, 2, 3, 4, 5, 6, 7, 8, 9])"
      ]
     },
     "execution_count": 42,
     "metadata": {},
     "output_type": "execute_result"
    }
   ],
   "source": [
    "a = np.arange(1, 10)\n",
    "a"
   ]
  },
  {
   "cell_type": "markdown",
   "metadata": {},
   "source": [
    "У него одна ось – одно измерение. Добавим еще одну ось, допустим, в начало. С помощью объекта np.newaxis это можно сделать так: "
   ]
  },
  {
   "cell_type": "code",
   "execution_count": 43,
   "metadata": {},
   "outputs": [
    {
     "name": "stdout",
     "output_type": "stream",
     "text": [
      "[[1 2 3 4 5 6 7 8 9]]\n"
     ]
    },
    {
     "data": {
      "text/plain": [
       "(1, 9)"
      ]
     },
     "execution_count": 43,
     "metadata": {},
     "output_type": "execute_result"
    }
   ],
   "source": [
    "b = a[np.newaxis, :] # добавление оси axis0\n",
    "print(b)\n",
    "b.shape # (1, 9)"
   ]
  },
  {
   "cell_type": "markdown",
   "metadata": {},
   "source": [
    "Или, можно прописать сразу две оси: "
   ]
  },
  {
   "cell_type": "code",
   "execution_count": 44,
   "metadata": {},
   "outputs": [
    {
     "name": "stdout",
     "output_type": "stream",
     "text": [
      "[[[1]\n",
      "  [2]\n",
      "  [3]\n",
      "  [4]\n",
      "  [5]\n",
      "  [6]\n",
      "  [7]\n",
      "  [8]\n",
      "  [9]]]\n"
     ]
    },
    {
     "data": {
      "text/plain": [
       "(1, 9, 1)"
      ]
     },
     "execution_count": 44,
     "metadata": {},
     "output_type": "execute_result"
    }
   ],
   "source": [
    "c = a[np.newaxis, :, np.newaxis]\n",
    "print(c)\n",
    "c.shape # (1, 9, 1)"
   ]
  },
  {
   "cell_type": "markdown",
   "metadata": {},
   "source": [
    "# Базовые математические операции над массивами"
   ]
  },
  {
   "cell_type": "markdown",
   "metadata": {},
   "source": [
    "Предположим, имеется обычный список и массив, созданный на его основе:"
   ]
  },
  {
   "cell_type": "code",
   "execution_count": 45,
   "metadata": {},
   "outputs": [],
   "source": [
    "lst = [1, 2, 3]\n",
    "a = np.array([1, 2, 3])"
   ]
  },
  {
   "cell_type": "markdown",
   "metadata": {},
   "source": [
    "Сейчас вы увидите принципиальную разницу между двумя этими объектами. Умножим их на число 2: "
   ]
  },
  {
   "cell_type": "code",
   "execution_count": 46,
   "metadata": {},
   "outputs": [
    {
     "data": {
      "text/plain": [
       "array([2, 4, 6])"
      ]
     },
     "execution_count": 46,
     "metadata": {},
     "output_type": "execute_result"
    }
   ],
   "source": [
    "lst*2\n",
    "a*2"
   ]
  },
  {
   "cell_type": "markdown",
   "metadata": {},
   "source": [
    "Видите, при умножении списка языка Python, он дублируется дважды, а при умножении на NumPy массив – каждый его элемент умножается математически на число 2. Если бы мы захотели то же самое реализовать непосредственно на Python, оперируя списками, то пришлось бы делать что-то вроде:"
   ]
  },
  {
   "cell_type": "code",
   "execution_count": 47,
   "metadata": {},
   "outputs": [
    {
     "data": {
      "text/plain": [
       "[2, 4, 6]"
      ]
     },
     "execution_count": 47,
     "metadata": {},
     "output_type": "execute_result"
    }
   ],
   "source": [
    "[x*2 for x in lst]"
   ]
  },
  {
   "cell_type": "markdown",
   "metadata": {},
   "source": [
    "Но выполнялась бы такая конструкция дольше, чем в случае с массивом NumPy. Именно благодаря удобству и скорости библиотека NumPy и приобрела свою популярность."
   ]
  },
  {
   "cell_type": "markdown",
   "metadata": {},
   "source": [
    "Пусть у нас задан тот же одномерный массив: "
   ]
  },
  {
   "cell_type": "code",
   "execution_count": 48,
   "metadata": {},
   "outputs": [],
   "source": [
    "a = np.array([1, 2, 3])"
   ]
  },
  {
   "cell_type": "markdown",
   "metadata": {},
   "source": [
    "Все указанные в таблице операции выполняются следующим образом: "
   ]
  },
  {
   "cell_type": "code",
   "execution_count": 49,
   "metadata": {},
   "outputs": [
    {
     "name": "stdout",
     "output_type": "stream",
     "text": [
      "[-1 -2 -3]\n",
      "[3 4 5]\n",
      "[3 4 5]\n",
      "[-2 -1  0]\n",
      "[ 5 10 15]\n",
      "[0.2 0.4 0.6]\n",
      "[0 1 1]\n",
      "[ 1  8 27]\n",
      "[1 0 1]\n"
     ]
    }
   ],
   "source": [
    "print(-a) # унарный минус\n",
    "print(a + 2) # сложение с числом\n",
    "print(2 + a)  # так тоже можно записывать\n",
    "print(a - 3) # вычитание с числом\n",
    "print(a * 5) # умножение на число\n",
    "print(a / 5)  # деление на число\n",
    "print(a // 2)  # целочисленное деление\n",
    "print(a ** 3)  # возведение в степень 3\n",
    "print(a % 2)  # вычисление по модулю 2"
   ]
  },
  {
   "cell_type": "markdown",
   "metadata": {},
   "source": [
    "Приоритеты этих операций такие же, что и при обычных математических вычислениях. А на выходе мы получаем новый массив с соответствующими значениями.\n",
    "\n",
    "Давайте теперь добавим еще один массив: "
   ]
  },
  {
   "cell_type": "code",
   "execution_count": 50,
   "metadata": {},
   "outputs": [],
   "source": [
    "b = np.array([3, 4, 5])"
   ]
  },
  {
   "cell_type": "markdown",
   "metadata": {},
   "source": [
    "и посмотрим на эти же операции, но с участием двух массивов:"
   ]
  },
  {
   "cell_type": "code",
   "execution_count": 51,
   "metadata": {},
   "outputs": [
    {
     "name": "stdout",
     "output_type": "stream",
     "text": [
      "[-2 -2 -2]\n",
      "[4 6 8]\n",
      "[ 3  8 15]\n",
      "[3.         2.         1.66666667]\n",
      "[3 2 1]\n",
      "[  3  16 125]\n",
      "[0 0 2]\n"
     ]
    }
   ],
   "source": [
    "print(a - b)\n",
    "print(b + a)\n",
    "print(a * b)\n",
    "print(b / a)\n",
    "print(b // a)\n",
    "print(b ** a)\n",
    "print(b % a)"
   ]
  },
  {
   "cell_type": "markdown",
   "metadata": {},
   "source": [
    "Везде мы видим поэлементные операции. Соответственно, чтобы они выполнялись, массивы должны быть согласованы по длине. Например, если взять массив: "
   ]
  },
  {
   "cell_type": "code",
   "execution_count": 52,
   "metadata": {},
   "outputs": [],
   "source": [
    "b = np.array([3, 4, 5, 6])"
   ]
  },
  {
   "cell_type": "markdown",
   "metadata": {},
   "source": [
    "и выполнить операцию: "
   ]
  },
  {
   "cell_type": "code",
   "execution_count": 53,
   "metadata": {},
   "outputs": [
    {
     "ename": "ValueError",
     "evalue": "operands could not be broadcast together with shapes (3,) (4,) ",
     "output_type": "error",
     "traceback": [
      "\u001b[0;31m---------------------------------------------------------------------------\u001b[0m",
      "\u001b[0;31mValueError\u001b[0m                                Traceback (most recent call last)",
      "\u001b[0;32m/tmp/ipykernel_4875/557321716.py\u001b[0m in \u001b[0;36m<module>\u001b[0;34m\u001b[0m\n\u001b[0;32m----> 1\u001b[0;31m \u001b[0ma\u001b[0m \u001b[0;34m+\u001b[0m \u001b[0mb\u001b[0m  \u001b[0;31m# ошибка: длины массивов не совпадают\u001b[0m\u001b[0;34m\u001b[0m\u001b[0;34m\u001b[0m\u001b[0m\n\u001b[0m",
      "\u001b[0;31mValueError\u001b[0m: operands could not be broadcast together with shapes (3,) (4,) "
     ]
    }
   ],
   "source": [
    "a + b  # ошибка: длины массивов не совпадают"
   ]
  },
  {
   "cell_type": "markdown",
   "metadata": {},
   "source": [
    "то возникнет ошибка из-за несовпадения длин массивов. Но вот такая операция с двумерным массивом b сработает: "
   ]
  },
  {
   "cell_type": "code",
   "execution_count": 54,
   "metadata": {},
   "outputs": [
    {
     "data": {
      "text/plain": [
       "array([[2, 4, 6],\n",
       "       [5, 7, 9]])"
      ]
     },
     "execution_count": 54,
     "metadata": {},
     "output_type": "execute_result"
    }
   ],
   "source": [
    "b = np.arange(1, 7)\n",
    "b.resize(2, 3)\n",
    "a + b"
   ]
  },
  {
   "cell_type": "markdown",
   "metadata": {},
   "source": [
    "В этом случае массив a будет применен к каждой строке массива b. Такое поведение получило название транслирование массивов."
   ]
  },
  {
   "cell_type": "markdown",
   "metadata": {},
   "source": [
    "Все рассмотренные операции можно распространить и на многомерные массивы, главное, чтобы они были согласованы по размерам. Я приведу два небольших примера, так как думаю, общий принцип здесь понятен. Пусть у нас трехмерный и двумерный массивы: "
   ]
  },
  {
   "cell_type": "code",
   "execution_count": 55,
   "metadata": {},
   "outputs": [],
   "source": [
    "a = np.arange(1, 19)\n",
    "a.resize(3, 3, 2)\n",
    "b = np.ones((3, 2))"
   ]
  },
  {
   "cell_type": "markdown",
   "metadata": {},
   "source": [
    "С ними можно выполнять такие операции:"
   ]
  },
  {
   "cell_type": "code",
   "execution_count": 56,
   "metadata": {},
   "outputs": [
    {
     "name": "stdout",
     "output_type": "stream",
     "text": [
      "[[[ 0.  1.]\n",
      "  [ 2.  3.]\n",
      "  [ 4.  5.]]\n",
      "\n",
      " [[ 6.  7.]\n",
      "  [ 8.  9.]\n",
      "  [10. 11.]]\n",
      "\n",
      " [[12. 13.]\n",
      "  [14. 15.]\n",
      "  [16. 17.]]]\n",
      "[[[ 10  20]\n",
      "  [ 30  40]\n",
      "  [ 50  60]]\n",
      "\n",
      " [[ 70  80]\n",
      "  [ 90 100]\n",
      "  [110 120]]\n",
      "\n",
      " [[130 140]\n",
      "  [150 160]\n",
      "  [170 180]]]\n",
      "[[[ 1.  2.]\n",
      "  [ 3.  4.]\n",
      "  [ 5.  6.]]\n",
      "\n",
      " [[ 7.  8.]\n",
      "  [ 9. 10.]\n",
      "  [11. 12.]]\n",
      "\n",
      " [[13. 14.]\n",
      "  [15. 16.]\n",
      "  [17. 18.]]]\n"
     ]
    }
   ],
   "source": [
    "print(a - b)\n",
    "print(a * 10)\n",
    "print(a // b)"
   ]
  },
  {
   "cell_type": "markdown",
   "metadata": {},
   "source": [
    "Если нам нужно произвести какие-либо математические операции с массивом и изменения сохранить в нем же, то удобно использовать сокращенные записи."
   ]
  },
  {
   "cell_type": "code",
   "execution_count": 57,
   "metadata": {},
   "outputs": [],
   "source": [
    "a = np.array([1, 2, 6, 8])\n",
    "a += 5\n",
    "b = np.ones(4)\n",
    "b *= a"
   ]
  },
  {
   "cell_type": "markdown",
   "metadata": {},
   "source": [
    "# Элементы линейной алгебры"
   ]
  },
  {
   "cell_type": "markdown",
   "metadata": {},
   "source": [
    "**Упражнение 1**\n",
    "\n",
    "Создайте два вектора.\n",
    "\n",
    "Найдите в документации numpy функции **dot** и **inner** вычислите скалярное произведение векторов."
   ]
  },
  {
   "cell_type": "code",
   "execution_count": 78,
   "metadata": {},
   "outputs": [
    {
     "data": {
      "text/plain": [
       "32"
      ]
     },
     "execution_count": 78,
     "metadata": {},
     "output_type": "execute_result"
    }
   ],
   "source": [
    "x = np.array([1, 2, 3])\n",
    "y = np.array([4, 5, 6])\n",
    "np.dot (x, y)"
   ]
  },
  {
   "cell_type": "markdown",
   "metadata": {},
   "source": [
    "**Упражнение 2**\n",
    "\n",
    "Создайте две матрицы (двумерных массива).\n",
    "\n",
    "Найдите в документации numpy функции **dot** и **matmul** и с помощью этих функций вычислите произведение двух матриц.\n",
    "\n",
    "Создайте диагональную единичную матрицу и выполните умножение одной из предыдущих матриц на единичную матрицу."
   ]
  },
  {
   "cell_type": "code",
   "execution_count": 79,
   "metadata": {},
   "outputs": [
    {
     "data": {
      "text/plain": [
       "array([[1., 1., 1.],\n",
       "       [2., 2., 2.],\n",
       "       [3., 3., 3.]])"
      ]
     },
     "execution_count": 79,
     "metadata": {},
     "output_type": "execute_result"
    }
   ],
   "source": [
    "p = np.array([[1, 1, 1], [2, 2, 2], [3, 3, 3]])\n",
    "q = np.array([[8, 7, 6], [5, 5, 5], [4, 4, 4]])\n",
    "e = np.eye(3, 3)\n",
    "w = np.matmul(p, q)\n",
    "w2 = np.matmul(p, e)\n",
    "w2"
   ]
  },
  {
   "cell_type": "markdown",
   "metadata": {},
   "source": [
    "Вычисление нормы вектора:"
   ]
  },
  {
   "cell_type": "code",
   "execution_count": 80,
   "metadata": {},
   "outputs": [
    {
     "data": {
      "text/plain": [
       "10.14889156509222"
      ]
     },
     "execution_count": 80,
     "metadata": {},
     "output_type": "execute_result"
    }
   ],
   "source": [
    "b = np.array([0, 2, 3, 4, 5, 7])\n",
    "d = np.linalg.norm(b)\n",
    "d"
   ]
  },
  {
   "cell_type": "markdown",
   "metadata": {},
   "source": [
    "**Упражнение 3**\n",
    "\n",
    "Вычислите норму матрицы с помощью функции **np.linalg.norm**."
   ]
  },
  {
   "cell_type": "code",
   "execution_count": 81,
   "metadata": {},
   "outputs": [
    {
     "data": {
      "text/plain": [
       "6.48074069840786"
      ]
     },
     "execution_count": 81,
     "metadata": {},
     "output_type": "execute_result"
    }
   ],
   "source": [
    "np.linalg.norm(p)"
   ]
  },
  {
   "cell_type": "markdown",
   "metadata": {},
   "source": [
    "**Упражнение 4**\n",
    "\n",
    "Вычислите косинус угла между векторами: $\\normalsize cos\\alpha = \\frac{a*b}{\\|a\\|*\\|b\\|}$"
   ]
  },
  {
   "cell_type": "code",
   "execution_count": 82,
   "metadata": {},
   "outputs": [
    {
     "data": {
      "text/plain": [
       "0.9746318461970762"
      ]
     },
     "execution_count": 82,
     "metadata": {},
     "output_type": "execute_result"
    }
   ],
   "source": [
    "np.dot(x, y)/(np.linalg.norm(x))/(np.linalg.norm(y))"
   ]
  },
  {
   "cell_type": "markdown",
   "metadata": {},
   "source": [
    "____________________________________________________________________________________________________________________\n",
    "Вычисление определителя матрицы:"
   ]
  },
  {
   "cell_type": "code",
   "execution_count": 83,
   "metadata": {},
   "outputs": [
    {
     "name": "stdout",
     "output_type": "stream",
     "text": [
      "[[-4 -1  2]\n",
      " [10  4 -1]\n",
      " [ 8  3  1]]\n",
      "-14.000000000000009\n"
     ]
    }
   ],
   "source": [
    "A = np.matrix('-4 -1 2; 10 4 -1; 8 3 1') # еще один способ для создания матрицы\n",
    "print(A)\n",
    "d = np.linalg.det(A)\n",
    "print(d)"
   ]
  },
  {
   "cell_type": "markdown",
   "metadata": {},
   "source": [
    "**Упражнение 5**\n",
    "\n",
    "Транспонируйте матрицу, вычислите определитель. Отличается ли определитель транспонированной матрицы от определителя исходной матрицы?\n",
    "\n",
    "Замените одну из строк матрицы на строку из нулей, вычислите определитель матрицы.\n",
    "\n",
    "Создайте матрицу, у которой две строки переставлены местами по сравнению с исходной матрицей, вычислите определитель новой матрицы.\n",
    "\n",
    "Создайте матрицу с двумя одинаковыми строками, вычислите ее определитель.\n",
    "\n",
    "Умножьте одну из строк исходной матрицы на число, вычислите определитель.\n",
    "\n",
    "Прибавьте к элементам одной строки прибавить элементы другой строки, умноженные на одно и тоже число, вычтслите определитель."
   ]
  },
  {
   "cell_type": "code",
   "execution_count": 122,
   "metadata": {},
   "outputs": [
    {
     "name": "stdout",
     "output_type": "stream",
     "text": [
      "-2.0000000000000004 -2.0\n",
      "0.0\n",
      "0.0\n",
      "0.0\n",
      "-10.000000000000002\n",
      "-9.999999999999993\n"
     ]
    }
   ],
   "source": [
    "matrix = np.array([[1, 2], [3, 4]]) #транспонирование\n",
    "m = matrix.T\n",
    "d1 = np.linalg.det(matrix)\n",
    "d2 = np.linalg.det(m)\n",
    "print(d1, d2)\n",
    "m[0] = [0, 0] #замена строки на нулевую\n",
    "print(np.linalg.det(m))\n",
    "n = [i for i in m[1]] #строки меняем местами\n",
    "m[1] = m[0]\n",
    "m[0] = n\n",
    "print(np.linalg.det(m))\n",
    "m3 = np.array([[3, 4], [3, 4]]) #матрица с одинаковыми строками\n",
    "print(np.linalg.det(m3))\n",
    "matrix = np.array([[5, 10], [3, 4]]) #строка умножена на число\n",
    "print(np.linalg.det(matrix))\n",
    "matrix = np.array([[11, 18], [3, 4]]) #строка + вторая строка, умноженная на число\n",
    "print(np.linalg.det(matrix))"
   ]
  },
  {
   "cell_type": "markdown",
   "metadata": {},
   "source": [
    "# Построение графиков в matplotlib"
   ]
  },
  {
   "cell_type": "markdown",
   "metadata": {},
   "source": [
    "Построение графика по точкам:"
   ]
  },
  {
   "cell_type": "code",
   "execution_count": 101,
   "metadata": {},
   "outputs": [
    {
     "data": {
      "image/png": "[encoded data removed]",
      "text/plain": [
       "<Figure size 432x288 with 1 Axes>"
      ]
     },
     "metadata": {
      "needs_background": "light"
     },
     "output_type": "display_data"
    }
   ],
   "source": [
    "import matplotlib.pyplot as plt\n",
    "plt.plot([1, 2, 3, 4, 5], [1, 2, 3, 4, 5])\n",
    "plt.show()"
   ]
  },
  {
   "cell_type": "markdown",
   "metadata": {},
   "source": [
    "Для начала построим линейную зависимость, дадим нашему графику название, подпишем оси и отобразим сетку:"
   ]
  },
  {
   "cell_type": "code",
   "execution_count": 102,
   "metadata": {},
   "outputs": [
    {
     "data": {
      "text/plain": [
       "[<matplotlib.lines.Line2D at 0x7f0be03a3fa0>]"
      ]
     },
     "execution_count": 102,
     "metadata": {},
     "output_type": "execute_result"
    },
    {
     "data": {
      "image/png": "[encoded data removed]",
      "text/plain": [
       "<Figure size 432x288 with 1 Axes>"
      ]
     },
     "metadata": {
      "needs_background": "light"
     },
     "output_type": "display_data"
    }
   ],
   "source": [
    "import numpy as np\n",
    "# Независимая (x) и зависимая (y) переменные\n",
    "x = np.linspace(0, 10, 50)\n",
    "y = x\n",
    "\n",
    "# Построение графика\n",
    "plt.title(\"Линейная зависимость y = x\") # заголовок\n",
    "plt.xlabel(\"x\") # ось абсцисс\n",
    "plt.ylabel(\"y\") # ось ординат\n",
    "plt.grid()      # включение отображение сетки\n",
    "plt.plot(x, y)  # построение графика"
   ]
  },
  {
   "cell_type": "markdown",
   "metadata": {},
   "source": [
    "Изменим тип линии и ее цвет, для этого в функцию plot(), в качестве третьего параметра передадим строку, сформированную определенным образом, в нашем случае это “r–”, где “r” означает красный цвет, а “–” – тип линии – пунктирная линия."
   ]
  },
  {
   "cell_type": "code",
   "execution_count": 103,
   "metadata": {},
   "outputs": [
    {
     "data": {
      "text/plain": [
       "[<matplotlib.lines.Line2D at 0x7f0be0394e80>]"
      ]
     },
     "execution_count": 103,
     "metadata": {},
     "output_type": "execute_result"
    },
    {
     "data": {
      "image/png": "[encoded data removed]",
      "text/plain": [
       "<Figure size 432x288 with 1 Axes>"
      ]
     },
     "metadata": {
      "needs_background": "light"
     },
     "output_type": "display_data"
    }
   ],
   "source": [
    "# Построение графика\n",
    "plt.title(\"Линейная зависимость y = x\") # заголовок\n",
    "plt.xlabel(\"x\") # ось абсцисс\n",
    "plt.ylabel(\"y\") # ось ординат\n",
    "plt.grid()      # включение отображение сетки\n",
    "plt.plot(x, y, \"r--\")  # построение графика"
   ]
  },
  {
   "cell_type": "markdown",
   "metadata": {},
   "source": [
    "**Несколько графиков на одном поле**\n",
    "\n",
    "Построим несколько графиков на одном поле, для этого добавим квадратичную зависимость:"
   ]
  },
  {
   "cell_type": "code",
   "execution_count": 104,
   "metadata": {},
   "outputs": [
    {
     "data": {
      "text/plain": [
       "[<matplotlib.lines.Line2D at 0x7f0be02ffd00>,\n",
       " <matplotlib.lines.Line2D at 0x7f0be02ffd30>]"
      ]
     },
     "execution_count": 104,
     "metadata": {},
     "output_type": "execute_result"
    },
    {
     "data": {
      "image/png": "[encoded data removed]",
      "text/plain": [
       "<Figure size 432x288 with 1 Axes>"
      ]
     },
     "metadata": {
      "needs_background": "light"
     },
     "output_type": "display_data"
    }
   ],
   "source": [
    "# Линейная зависимость\n",
    "x = np.linspace(0, 10, 50)\n",
    "y1 = x\n",
    "# Квадратичная зависимость\n",
    "y2 = [i**2 for i in x]\n",
    "# Построение графика\n",
    "plt.title(\"Зависимости: y1 = x, y2 = x^2\") # заголовок\n",
    "plt.xlabel(\"x\")         # ось абсцисс\n",
    "plt.ylabel(\"y1, y2\")    # ось ординат\n",
    "plt.grid()              # включение отображение сетки\n",
    "plt.plot(x, y1, x, y2)  # построение графика"
   ]
  },
  {
   "cell_type": "markdown",
   "metadata": {},
   "source": [
    "В приведенном примере в функцию plot() последовательно передаются два массива для построения первого графика и два массива для построения второго, при этом, как вы можете заметить, для обоих графиков массив значений независимой переменной x один и то же."
   ]
  },
  {
   "cell_type": "markdown",
   "metadata": {},
   "source": [
    "**Несколько разделенных полей с графиками**\n",
    "\n",
    "Третья, довольно часто встречающаяся задача – это отобразить два или более различных поля, на которых будет отображено по одному или более графику.\n",
    "\n",
    "Построим уже известные нам две зависимость на разных полях."
   ]
  },
  {
   "cell_type": "code",
   "execution_count": 105,
   "metadata": {},
   "outputs": [
    {
     "data": {
      "image/png": "[encoded data removed]",
      "text/plain": [
       "<Figure size 648x648 with 2 Axes>"
      ]
     },
     "metadata": {
      "needs_background": "light"
     },
     "output_type": "display_data"
    }
   ],
   "source": [
    "# Линейная зависимость\n",
    "x = np.linspace(0, 10, 50)\n",
    "y1 = x\n",
    "# Квадратичная зависимость\n",
    "y2 = [i**2 for i in x]\n",
    "# Построение графиков\n",
    "plt.figure(figsize=(9, 9))\n",
    "plt.subplot(2, 1, 1)\n",
    "plt.plot(x, y1)               # построение графика\n",
    "plt.title(\"Зависимости: y1 = x, y2 = x^2\") # заголовок\n",
    "plt.ylabel(\"y1\", fontsize=14) # ось ординат\n",
    "plt.grid(True)                # включение отображение сетки\n",
    "plt.subplot(2, 1, 2)\n",
    "plt.plot(x, y2)               # построение графика\n",
    "plt.xlabel(\"x\", fontsize=14)  # ось абсцисс\n",
    "plt.ylabel(\"y2\", fontsize=14) # ось ординат\n",
    "plt.grid(True)                # включение отображение сетки"
   ]
  },
  {
   "cell_type": "markdown",
   "metadata": {},
   "source": [
    "Здесь мы воспользовались новыми функциями: \n",
    "\n",
    "figure() – функция для задания глобальных параметров отображения графиков. В нее, в качестве аргумента, мы передаем кортеж, определяющий размер общего поля. \n",
    "\n",
    "subplot() – функция для задания местоположения поля с графиком. Существует несколько способов задания областей для вывода через функцию subplot() мы воспользовались следующим: первый аргумент – количество строк, второй – столбцов в формируемом поле, третий – индекс (номер поля, считаем сверху вниз, слева направо).\n",
    "\n",
    "Дополнительно мы использовали параметр fontsize для функций xlabel() и ylabel(), для задания размера шрифта."
   ]
  },
  {
   "cell_type": "markdown",
   "metadata": {},
   "source": [
    "**Точечная диаграмма (scatter plot)**"
   ]
  },
  {
   "cell_type": "code",
   "execution_count": 106,
   "metadata": {},
   "outputs": [
    {
     "name": "stdout",
     "output_type": "stream",
     "text": [
      "x [0.87593148 0.86987788 0.39450989 0.37295243 0.84100822 0.06866119\n",
      " 0.43829078 0.6164703  0.94796416 0.20009428 0.39027043 0.53478342\n",
      " 0.83753955 0.71709798 0.44850095 0.82186672 0.01725102 0.65476577\n",
      " 0.57778598 0.67168046 0.38616158 0.77464718 0.62604003 0.25646847\n",
      " 0.23922816 0.32320337 0.60278761 0.52118256 0.0307638  0.4041814\n",
      " 0.73264741 0.53992673 0.04598524 0.60405963 0.76494871 0.19298914\n",
      " 0.24317514 0.75841636 0.84939448 0.5887785  0.83878376 0.95520883\n",
      " 0.6182687  0.52232784 0.96115051 0.6458812  0.2029184  0.3867655\n",
      " 0.05233291 0.72527202]\n",
      "y [0.1003646  0.0087824  0.98382184 0.98653453 0.46969711 0.37801114\n",
      " 0.94559271 0.5828015  0.36587573 0.69349732 0.68223317 0.5203867\n",
      " 0.66311188 0.22003615 0.95610233 0.471383   0.3525562  0.16629068\n",
      " 0.26928158 0.72186819 0.84224511 0.2668181  0.66274135 0.16975363\n",
      " 0.92680424 0.09266041 0.60036418 0.22792429 0.41964613 0.7517245\n",
      " 0.85648597 0.22869964 0.37728576 0.98044803 0.65827282 0.78006133\n",
      " 0.7660204  0.23432718 0.79354472 0.28155621 0.60679402 0.30504482\n",
      " 0.27213162 0.36768691 0.18213315 0.31930635 0.55981473 0.17293823\n",
      " 0.64495283 0.19118805]\n"
     ]
    },
    {
     "data": {
      "image/png": "[encoded data removed]",
      "text/plain": [
       "<Figure size 432x288 with 1 Axes>"
      ]
     },
     "metadata": {
      "needs_background": "light"
     },
     "output_type": "display_data"
    }
   ],
   "source": [
    "import numpy as np\n",
    "import matplotlib.pyplot as plt\n",
    "\n",
    "\n",
    "N = 50\n",
    "x = np.random.rand(N) # случайный вектор из 50 элементов\n",
    "print(\"x\", x)\n",
    "y = np.random.rand(N) # случайный вектор из 50 элементов\n",
    "print(\"y\", y)\n",
    "colors = np.random.rand(N) # случайный вектор из 50 элементов, чтобы задавать цвета каждой из точек\n",
    "area = (30 * np.random.rand(N))**2 # случайные площади каждой из точек\n",
    "\n",
    "plt.scatter(x, y, s=area, c=colors, alpha=0.5) # нанесение точек на диаграмму, x и y - координаты\n",
    "                                               # area - площади точек, colors - цвета точек\n",
    "                                               # alpha - значение прозрачности точек\n",
    "plt.show()"
   ]
  },
  {
   "cell_type": "markdown",
   "metadata": {},
   "source": [
    "**Пример с вычислением числа $\\pi$ с помощью метода Монте Карло и визуализация результатов**"
   ]
  },
  {
   "cell_type": "markdown",
   "metadata": {},
   "source": [
    "Переключим режим отображения графиков в notebook:"
   ]
  },
  {
   "cell_type": "code",
   "execution_count": 107,
   "metadata": {},
   "outputs": [],
   "source": [
    "%matplotlib notebook"
   ]
  },
  {
   "cell_type": "code",
   "execution_count": 108,
   "metadata": {},
   "outputs": [],
   "source": [
    "import matplotlib.pyplot as plt\n",
    "import numpy as np\n",
    "from matplotlib.axes import Axes\n",
    "from scipy.stats import norm\n",
    "\n",
    "class PiAnimation:\n",
    "    def __init__(self, ax: Axes, ax_pi: Axes, ax_gaus: Axes):\n",
    "        self.inner = 0\n",
    "        self.out = 0\n",
    "\n",
    "        self.xi, self.yi = [], []\n",
    "        self.xo, self.yo = [], []\n",
    "\n",
    "        ax.set_xlim(-1.0, 1.5)\n",
    "        ax.set_ylim(-1.0, 1.5)\n",
    "        ax.axis(\"off\")\n",
    "        ax.add_artist(plt.Circle((0.0, 0.0), 1, fill=False))\n",
    "        ax.add_artist(plt.Rectangle((-1, -1), 2, 2, fill=False))\n",
    "\n",
    "        self.line_i = ax.plot(self.xi, self.yi, \"ro\")[0]\n",
    "        self.line_o = ax.plot(self.xo, self.yo, \"bo\")[0]\n",
    "        self.text = ax.text(0.3, 1.1, \"\", fontdict={\"fontsize\": 32})\n",
    "        self.text_n = ax.text(-0.9, 1.1, \"\", fontdict={\"fontsize\": 32})\n",
    "\n",
    "        self.ax_pi = ax_pi\n",
    "        self.pi = []\n",
    "        self.pi_line = ax_pi.plot([], self.pi,\"-\")[0]\n",
    "        ax_pi.set_ylim(0, 2*np.pi)\n",
    "\n",
    "        self.ax_gaus = ax_gaus\n",
    "        self.gauss_point = np.linspace(0.5*np.pi, 1.5 * np.pi, 200)\n",
    "        self.gauss = ax_gaus.plot(self.gauss_point, np.zeros(200), \"\")[0]\n",
    "\n",
    "    def __call__(self, n):\n",
    "        x, y = 2*(np.random.random_sample(2) - 0.5)\n",
    "        if x ** 2 + y ** 2 <= 1:\n",
    "            self.inner += 1\n",
    "            self.xi.append(x)\n",
    "            self.yi.append(y)\n",
    "            self.line_i.set_data(self.xi, self.yi)\n",
    "        else:\n",
    "            self.out +=1\n",
    "            self.xo.append(x)\n",
    "            self.yo.append(y)\n",
    "            self.line_o.set_data(self.xo, self.yo)\n",
    "        N = self.inner + self.out\n",
    "        prob = self.inner/N\n",
    "        pi = 4*prob\n",
    "        self.pi.append(pi)\n",
    "        self.text.set_text(r\"$\\pi = {:.5}$\".format(pi))\n",
    "        self.text_n.set_text(\"N = {:5d}   \".format(N))\n",
    "\n",
    "        self.pi_line.set_data(range(N), self.pi)\n",
    "        self.ax_pi.relim()\n",
    "        self.ax_pi.autoscale()\n",
    "\n",
    "        mean, var = np.mean(self.pi), np.var(self.pi)\n",
    "\n",
    "        if N > 3:\n",
    "            self.gauss.set_data(self.gauss_point, norm.pdf(self.gauss_point, loc = mean, scale = var))\n",
    "            self.ax_gaus.relim()\n",
    "            self.ax_gaus.autoscale()\n",
    "        return self.line_i, self.line_o, self.text, self.text_n, self.pi_line, self.gauss"
   ]
  },
  {
   "cell_type": "code",
   "execution_count": 109,
   "metadata": {},
   "outputs": [
    {
     "data": {
      "application/javascript": [
       "/* Put everything inside the global mpl namespace */\n",
       "/* global mpl */\n",
       "window.mpl = {};\n",
       "\n",
       "mpl.get_websocket_type = function () {\n",
       "    if (typeof WebSocket !== 'undefined') {\n",
       "        return WebSocket;\n",
       "    } else if (typeof MozWebSocket !== 'undefined') {\n",
       "        return MozWebSocket;\n",
       "    } else {\n",
       "        alert(\n",
       "            'Your browser does not have WebSocket support. ' +\n",
       "                'Please try Chrome, Safari or Firefox ≥ 6. ' +\n",
       "                'Firefox 4 and 5 are also supported but you ' +\n",
       "                'have to enable WebSockets in about:config.'\n",
       "        );\n",
       "    }\n",
       "};\n",
       "\n",
       "mpl.figure = function (figure_id, websocket, ondownload, parent_element) {\n",
       "    this.id = figure_id;\n",
       "\n",
       "    this.ws = websocket;\n",
       "\n",
       "    this.supports_binary = this.ws.binaryType !== undefined;\n",
       "\n",
       "    if (!this.supports_binary) {\n",
       "        var warnings = document.getElementById('mpl-warnings');\n",
       "        if (warnings) {\n",
       "            warnings.style.display = 'block';\n",
       "            warnings.textContent =\n",
       "                'This browser does not support binary websocket messages. ' +\n",
       "                'Performance may be slow.';\n",
       "        }\n",
       "    }\n",
       "\n",
       "    this.imageObj = new Image();\n",
       "\n",
       "    this.context = undefined;\n",
       "    this.message = undefined;\n",
       "    this.canvas = undefined;\n",
       "    this.rubberband_canvas = undefined;\n",
       "    this.rubberband_context = undefined;\n",
       "    this.format_dropdown = undefined;\n",
       "\n",
       "    this.image_mode = 'full';\n",
       "\n",
       "    this.root = document.createElement('div');\n",
       "    this.root.setAttribute('style', 'display: inline-block');\n",
       "    this._root_extra_style(this.root);\n",
       "\n",
       "    parent_element.appendChild(this.root);\n",
       "\n",
       "    this._init_header(this);\n",
       "    this._init_canvas(this);\n",
       "    this._init_toolbar(this);\n",
       "\n",
       "    var fig = this;\n",
       "\n",
       "    this.waiting = false;\n",
       "\n",
       "    this.ws.onopen = function () {\n",
       "        fig.send_message('supports_binary', { value: fig.supports_binary });\n",
       "        fig.send_message('send_image_mode', {});\n",
       "        if (fig.ratio !== 1) {\n",
       "            fig.send_message('set_dpi_ratio', { dpi_ratio: fig.ratio });\n",
       "        }\n",
       "        fig.send_message('refresh', {});\n",
       "    };\n",
       "\n",
       "    this.imageObj.onload = function () {\n",
       "        if (fig.image_mode === 'full') {\n",
       "            // Full images could contain transparency (where diff images\n",
       "            // almost always do), so we need to clear the canvas so that\n",
       "            // there is no ghosting.\n",
       "            fig.context.clearRect(0, 0, fig.canvas.width, fig.canvas.height);\n",
       "        }\n",
       "        fig.context.drawImage(fig.imageObj, 0, 0);\n",
       "    };\n",
       "\n",
       "    this.imageObj.onunload = function () {\n",
       "        fig.ws.close();\n",
       "    };\n",
       "\n",
       "    this.ws.onmessage = this._make_on_message_function(this);\n",
       "\n",
       "    this.ondownload = ondownload;\n",
       "};\n",
       "\n",
       "mpl.figure.prototype._init_header = function () {\n",
       "    var titlebar = document.createElement('div');\n",
       "    titlebar.classList =\n",
       "        'ui-dialog-titlebar ui-widget-header ui-corner-all ui-helper-clearfix';\n",
       "    var titletext = document.createElement('div');\n",
       "    titletext.classList = 'ui-dialog-title';\n",
       "    titletext.setAttribute(\n",
       "        'style',\n",
       "        'width: 100%; text-align: center; padding: 3px;'\n",
       "    );\n",
       "    titlebar.appendChild(titletext);\n",
       "    this.root.appendChild(titlebar);\n",
       "    this.header = titletext;\n",
       "};\n",
       "\n",
       "mpl.figure.prototype._canvas_extra_style = function (_canvas_div) {};\n",
       "\n",
       "mpl.figure.prototype._root_extra_style = function (_canvas_div) {};\n",
       "\n",
       "mpl.figure.prototype._init_canvas = function () {\n",
       "    var fig = this;\n",
       "\n",
       "    var canvas_div = (this.canvas_div = document.createElement('div'));\n",
       "    canvas_div.setAttribute(\n",
       "        'style',\n",
       "        'border: 1px solid #ddd;' +\n",
       "            'box-sizing: content-box;' +\n",
       "            'clear: both;' +\n",
       "            'min-height: 1px;' +\n",
       "            'min-width: 1px;' +\n",
       "            'outline: 0;' +\n",
       "            'overflow: hidden;' +\n",
       "            'position: relative;' +\n",
       "            'resize: both;'\n",
       "    );\n",
       "\n",
       "    function on_keyboard_event_closure(name) {\n",
       "        return function (event) {\n",
       "            return fig.key_event(event, name);\n",
       "        };\n",
       "    }\n",
       "\n",
       "    canvas_div.addEventListener(\n",
       "        'keydown',\n",
       "        on_keyboard_event_closure('key_press')\n",
       "    );\n",
       "    canvas_div.addEventListener(\n",
       "        'keyup',\n",
       "        on_keyboard_event_closure('key_release')\n",
       "    );\n",
       "\n",
       "    this._canvas_extra_style(canvas_div);\n",
       "    this.root.appendChild(canvas_div);\n",
       "\n",
       "    var canvas = (this.canvas = document.createElement('canvas'));\n",
       "    canvas.classList.add('mpl-canvas');\n",
       "    canvas.setAttribute('style', 'box-sizing: content-box;');\n",
       "\n",
       "    this.context = canvas.getContext('2d');\n",
       "\n",
       "    var backingStore =\n",
       "        this.context.backingStorePixelRatio ||\n",
       "        this.context.webkitBackingStorePixelRatio ||\n",
       "        this.context.mozBackingStorePixelRatio ||\n",
       "        this.context.msBackingStorePixelRatio ||\n",
       "        this.context.oBackingStorePixelRatio ||\n",
       "        this.context.backingStorePixelRatio ||\n",
       "        1;\n",
       "\n",
       "    this.ratio = (window.devicePixelRatio || 1) / backingStore;\n",
       "\n",
       "    var rubberband_canvas = (this.rubberband_canvas = document.createElement(\n",
       "        'canvas'\n",
       "    ));\n",
       "    rubberband_canvas.setAttribute(\n",
       "        'style',\n",
       "        'box-sizing: content-box; position: absolute; left: 0; top: 0; z-index: 1;'\n",
       "    );\n",
       "\n",
       "    // Apply a ponyfill if ResizeObserver is not implemented by browser.\n",
       "    if (this.ResizeObserver === undefined) {\n",
       "        if (window.ResizeObserver !== undefined) {\n",
       "            this.ResizeObserver = window.ResizeObserver;\n",
       "        } else {\n",
       "            var obs = _JSXTOOLS_RESIZE_OBSERVER({});\n",
       "            this.ResizeObserver = obs.ResizeObserver;\n",
       "        }\n",
       "    }\n",
       "\n",
       "    this.resizeObserverInstance = new this.ResizeObserver(function (entries) {\n",
       "        var nentries = entries.length;\n",
       "        for (var i = 0; i < nentries; i++) {\n",
       "            var entry = entries[i];\n",
       "            var width, height;\n",
       "            if (entry.contentBoxSize) {\n",
       "                if (entry.contentBoxSize instanceof Array) {\n",
       "                    // Chrome 84 implements new version of spec.\n",
       "                    width = entry.contentBoxSize[0].inlineSize;\n",
       "                    height = entry.contentBoxSize[0].blockSize;\n",
       "                } else {\n",
       "                    // Firefox implements old version of spec.\n",
       "                    width = entry.contentBoxSize.inlineSize;\n",
       "                    height = entry.contentBoxSize.blockSize;\n",
       "                }\n",
       "            } else {\n",
       "                // Chrome <84 implements even older version of spec.\n",
       "                width = entry.contentRect.width;\n",
       "                height = entry.contentRect.height;\n",
       "            }\n",
       "\n",
       "            // Keep the size of the canvas and rubber band canvas in sync with\n",
       "            // the canvas container.\n",
       "            if (entry.devicePixelContentBoxSize) {\n",
       "                // Chrome 84 implements new version of spec.\n",
       "                canvas.setAttribute(\n",
       "                    'width',\n",
       "                    entry.devicePixelContentBoxSize[0].inlineSize\n",
       "                );\n",
       "                canvas.setAttribute(\n",
       "                    'height',\n",
       "                    entry.devicePixelContentBoxSize[0].blockSize\n",
       "                );\n",
       "            } else {\n",
       "                canvas.setAttribute('width', width * fig.ratio);\n",
       "                canvas.setAttribute('height', height * fig.ratio);\n",
       "            }\n",
       "            canvas.setAttribute(\n",
       "                'style',\n",
       "                'width: ' + width + 'px; height: ' + height + 'px;'\n",
       "            );\n",
       "\n",
       "            rubberband_canvas.setAttribute('width', width);\n",
       "            rubberband_canvas.setAttribute('height', height);\n",
       "\n",
       "            // And update the size in Python. We ignore the initial 0/0 size\n",
       "            // that occurs as the element is placed into the DOM, which should\n",
       "            // otherwise not happen due to the minimum size styling.\n",
       "            if (fig.ws.readyState == 1 && width != 0 && height != 0) {\n",
       "                fig.request_resize(width, height);\n",
       "            }\n",
       "        }\n",
       "    });\n",
       "    this.resizeObserverInstance.observe(canvas_div);\n",
       "\n",
       "    function on_mouse_event_closure(name) {\n",
       "        return function (event) {\n",
       "            return fig.mouse_event(event, name);\n",
       "        };\n",
       "    }\n",
       "\n",
       "    rubberband_canvas.addEventListener(\n",
       "        'mousedown',\n",
       "        on_mouse_event_closure('button_press')\n",
       "    );\n",
       "    rubberband_canvas.addEventListener(\n",
       "        'mouseup',\n",
       "        on_mouse_event_closure('button_release')\n",
       "    );\n",
       "    rubberband_canvas.addEventListener(\n",
       "        'dblclick',\n",
       "        on_mouse_event_closure('dblclick')\n",
       "    );\n",
       "    // Throttle sequential mouse events to 1 every 20ms.\n",
       "    rubberband_canvas.addEventListener(\n",
       "        'mousemove',\n",
       "        on_mouse_event_closure('motion_notify')\n",
       "    );\n",
       "\n",
       "    rubberband_canvas.addEventListener(\n",
       "        'mouseenter',\n",
       "        on_mouse_event_closure('figure_enter')\n",
       "    );\n",
       "    rubberband_canvas.addEventListener(\n",
       "        'mouseleave',\n",
       "        on_mouse_event_closure('figure_leave')\n",
       "    );\n",
       "\n",
       "    canvas_div.addEventListener('wheel', function (event) {\n",
       "        if (event.deltaY < 0) {\n",
       "            event.step = 1;\n",
       "        } else {\n",
       "            event.step = -1;\n",
       "        }\n",
       "        on_mouse_event_closure('scroll')(event);\n",
       "    });\n",
       "\n",
       "    canvas_div.appendChild(canvas);\n",
       "    canvas_div.appendChild(rubberband_canvas);\n",
       "\n",
       "    this.rubberband_context = rubberband_canvas.getContext('2d');\n",
       "    this.rubberband_context.strokeStyle = '#000000';\n",
       "\n",
       "    this._resize_canvas = function (width, height, forward) {\n",
       "        if (forward) {\n",
       "            canvas_div.style.width = width + 'px';\n",
       "            canvas_div.style.height = height + 'px';\n",
       "        }\n",
       "    };\n",
       "\n",
       "    // Disable right mouse context menu.\n",
       "    this.rubberband_canvas.addEventListener('contextmenu', function (_e) {\n",
       "        event.preventDefault();\n",
       "        return false;\n",
       "    });\n",
       "\n",
       "    function set_focus() {\n",
       "        canvas.focus();\n",
       "        canvas_div.focus();\n",
       "    }\n",
       "\n",
       "    window.setTimeout(set_focus, 100);\n",
       "};\n",
       "\n",
       "mpl.figure.prototype._init_toolbar = function () {\n",
       "    var fig = this;\n",
       "\n",
       "    var toolbar = document.createElement('div');\n",
       "    toolbar.classList = 'mpl-toolbar';\n",
       "    this.root.appendChild(toolbar);\n",
       "\n",
       "    function on_click_closure(name) {\n",
       "        return function (_event) {\n",
       "            return fig.toolbar_button_onclick(name);\n",
       "        };\n",
       "    }\n",
       "\n",
       "    function on_mouseover_closure(tooltip) {\n",
       "        return function (event) {\n",
       "            if (!event.currentTarget.disabled) {\n",
       "                return fig.toolbar_button_onmouseover(tooltip);\n",
       "            }\n",
       "        };\n",
       "    }\n",
       "\n",
       "    fig.buttons = {};\n",
       "    var buttonGroup = document.createElement('div');\n",
       "    buttonGroup.classList = 'mpl-button-group';\n",
       "    for (var toolbar_ind in mpl.toolbar_items) {\n",
       "        var name = mpl.toolbar_items[toolbar_ind][0];\n",
       "        var tooltip = mpl.toolbar_items[toolbar_ind][1];\n",
       "        var image = mpl.toolbar_items[toolbar_ind][2];\n",
       "        var method_name = mpl.toolbar_items[toolbar_ind][3];\n",
       "\n",
       "        if (!name) {\n",
       "            /* Instead of a spacer, we start a new button group. */\n",
       "            if (buttonGroup.hasChildNodes()) {\n",
       "                toolbar.appendChild(buttonGroup);\n",
       "            }\n",
       "            buttonGroup = document.createElement('div');\n",
       "            buttonGroup.classList = 'mpl-button-group';\n",
       "            continue;\n",
       "        }\n",
       "\n",
       "        var button = (fig.buttons[name] = document.createElement('button'));\n",
       "        button.classList = 'mpl-widget';\n",
       "        button.setAttribute('role', 'button');\n",
       "        button.setAttribute('aria-disabled', 'false');\n",
       "        button.addEventListener('click', on_click_closure(method_name));\n",
       "        button.addEventListener('mouseover', on_mouseover_closure(tooltip));\n",
       "\n",
       "        var icon_img = document.createElement('img');\n",
       "        icon_img.src = '_images/' + image + '.png';\n",
       "        icon_img.srcset = '_images/' + image + '_large.png 2x';\n",
       "        icon_img.alt = tooltip;\n",
       "        button.appendChild(icon_img);\n",
       "\n",
       "        buttonGroup.appendChild(button);\n",
       "    }\n",
       "\n",
       "    if (buttonGroup.hasChildNodes()) {\n",
       "        toolbar.appendChild(buttonGroup);\n",
       "    }\n",
       "\n",
       "    var fmt_picker = document.createElement('select');\n",
       "    fmt_picker.classList = 'mpl-widget';\n",
       "    toolbar.appendChild(fmt_picker);\n",
       "    this.format_dropdown = fmt_picker;\n",
       "\n",
       "    for (var ind in mpl.extensions) {\n",
       "        var fmt = mpl.extensions[ind];\n",
       "        var option = document.createElement('option');\n",
       "        option.selected = fmt === mpl.default_extension;\n",
       "        option.innerHTML = fmt;\n",
       "        fmt_picker.appendChild(option);\n",
       "    }\n",
       "\n",
       "    var status_bar = document.createElement('span');\n",
       "    status_bar.classList = 'mpl-message';\n",
       "    toolbar.appendChild(status_bar);\n",
       "    this.message = status_bar;\n",
       "};\n",
       "\n",
       "mpl.figure.prototype.request_resize = function (x_pixels, y_pixels) {\n",
       "    // Request matplotlib to resize the figure. Matplotlib will then trigger a resize in the client,\n",
       "    // which will in turn request a refresh of the image.\n",
       "    this.send_message('resize', { width: x_pixels, height: y_pixels });\n",
       "};\n",
       "\n",
       "mpl.figure.prototype.send_message = function (type, properties) {\n",
       "    properties['type'] = type;\n",
       "    properties['figure_id'] = this.id;\n",
       "    this.ws.send(JSON.stringify(properties));\n",
       "};\n",
       "\n",
       "mpl.figure.prototype.send_draw_message = function () {\n",
       "    if (!this.waiting) {\n",
       "        this.waiting = true;\n",
       "        this.ws.send(JSON.stringify({ type: 'draw', figure_id: this.id }));\n",
       "    }\n",
       "};\n",
       "\n",
       "mpl.figure.prototype.handle_save = function (fig, _msg) {\n",
       "    var format_dropdown = fig.format_dropdown;\n",
       "    var format = format_dropdown.options[format_dropdown.selectedIndex].value;\n",
       "    fig.ondownload(fig, format);\n",
       "};\n",
       "\n",
       "mpl.figure.prototype.handle_resize = function (fig, msg) {\n",
       "    var size = msg['size'];\n",
       "    if (size[0] !== fig.canvas.width || size[1] !== fig.canvas.height) {\n",
       "        fig._resize_canvas(size[0], size[1], msg['forward']);\n",
       "        fig.send_message('refresh', {});\n",
       "    }\n",
       "};\n",
       "\n",
       "mpl.figure.prototype.handle_rubberband = function (fig, msg) {\n",
       "    var x0 = msg['x0'] / fig.ratio;\n",
       "    var y0 = (fig.canvas.height - msg['y0']) / fig.ratio;\n",
       "    var x1 = msg['x1'] / fig.ratio;\n",
       "    var y1 = (fig.canvas.height - msg['y1']) / fig.ratio;\n",
       "    x0 = Math.floor(x0) + 0.5;\n",
       "    y0 = Math.floor(y0) + 0.5;\n",
       "    x1 = Math.floor(x1) + 0.5;\n",
       "    y1 = Math.floor(y1) + 0.5;\n",
       "    var min_x = Math.min(x0, x1);\n",
       "    var min_y = Math.min(y0, y1);\n",
       "    var width = Math.abs(x1 - x0);\n",
       "    var height = Math.abs(y1 - y0);\n",
       "\n",
       "    fig.rubberband_context.clearRect(\n",
       "        0,\n",
       "        0,\n",
       "        fig.canvas.width / fig.ratio,\n",
       "        fig.canvas.height / fig.ratio\n",
       "    );\n",
       "\n",
       "    fig.rubberband_context.strokeRect(min_x, min_y, width, height);\n",
       "};\n",
       "\n",
       "mpl.figure.prototype.handle_figure_label = function (fig, msg) {\n",
       "    // Updates the figure title.\n",
       "    fig.header.textContent = msg['label'];\n",
       "};\n",
       "\n",
       "mpl.figure.prototype.handle_cursor = function (fig, msg) {\n",
       "    var cursor = msg['cursor'];\n",
       "    switch (cursor) {\n",
       "        case 0:\n",
       "            cursor = 'pointer';\n",
       "            break;\n",
       "        case 1:\n",
       "            cursor = 'default';\n",
       "            break;\n",
       "        case 2:\n",
       "            cursor = 'crosshair';\n",
       "            break;\n",
       "        case 3:\n",
       "            cursor = 'move';\n",
       "            break;\n",
       "    }\n",
       "    fig.rubberband_canvas.style.cursor = cursor;\n",
       "};\n",
       "\n",
       "mpl.figure.prototype.handle_message = function (fig, msg) {\n",
       "    fig.message.textContent = msg['message'];\n",
       "};\n",
       "\n",
       "mpl.figure.prototype.handle_draw = function (fig, _msg) {\n",
       "    // Request the server to send over a new figure.\n",
       "    fig.send_draw_message();\n",
       "};\n",
       "\n",
       "mpl.figure.prototype.handle_image_mode = function (fig, msg) {\n",
       "    fig.image_mode = msg['mode'];\n",
       "};\n",
       "\n",
       "mpl.figure.prototype.handle_history_buttons = function (fig, msg) {\n",
       "    for (var key in msg) {\n",
       "        if (!(key in fig.buttons)) {\n",
       "            continue;\n",
       "        }\n",
       "        fig.buttons[key].disabled = !msg[key];\n",
       "        fig.buttons[key].setAttribute('aria-disabled', !msg[key]);\n",
       "    }\n",
       "};\n",
       "\n",
       "mpl.figure.prototype.handle_navigate_mode = function (fig, msg) {\n",
       "    if (msg['mode'] === 'PAN') {\n",
       "        fig.buttons['Pan'].classList.add('active');\n",
       "        fig.buttons['Zoom'].classList.remove('active');\n",
       "    } else if (msg['mode'] === 'ZOOM') {\n",
       "        fig.buttons['Pan'].classList.remove('active');\n",
       "        fig.buttons['Zoom'].classList.add('active');\n",
       "    } else {\n",
       "        fig.buttons['Pan'].classList.remove('active');\n",
       "        fig.buttons['Zoom'].classList.remove('active');\n",
       "    }\n",
       "};\n",
       "\n",
       "mpl.figure.prototype.updated_canvas_event = function () {\n",
       "    // Called whenever the canvas gets updated.\n",
       "    this.send_message('ack', {});\n",
       "};\n",
       "\n",
       "// A function to construct a web socket function for onmessage handling.\n",
       "// Called in the figure constructor.\n",
       "mpl.figure.prototype._make_on_message_function = function (fig) {\n",
       "    return function socket_on_message(evt) {\n",
       "        if (evt.data instanceof Blob) {\n",
       "            var img = evt.data;\n",
       "            if (img.type !== 'image/png') {\n",
       "                /* FIXME: We get \"Resource interpreted as Image but\n",
       "                 * transferred with MIME type text/plain:\" errors on\n",
       "                 * Chrome.  But how to set the MIME type?  It doesn't seem\n",
       "                 * to be part of the websocket stream */\n",
       "                img.type = 'image/png';\n",
       "            }\n",
       "\n",
       "            /* Free the memory for the previous frames */\n",
       "            if (fig.imageObj.src) {\n",
       "                (window.URL || window.webkitURL).revokeObjectURL(\n",
       "                    fig.imageObj.src\n",
       "                );\n",
       "            }\n",
       "\n",
       "            fig.imageObj.src = (window.URL || window.webkitURL).createObjectURL(\n",
       "                img\n",
       "            );\n",
       "            fig.updated_canvas_event();\n",
       "            fig.waiting = false;\n",
       "            return;\n",
       "        } else if (\n",
       "            typeof evt.data === 'string' &&\n",
       "            evt.data.slice(0, 21) === 'data:image/png;base64'\n",
       "        ) {\n",
       "            fig.imageObj.src = evt.data;\n",
       "            fig.updated_canvas_event();\n",
       "            fig.waiting = false;\n",
       "            return;\n",
       "        }\n",
       "\n",
       "        var msg = JSON.parse(evt.data);\n",
       "        var msg_type = msg['type'];\n",
       "\n",
       "        // Call the  \"handle_{type}\" callback, which takes\n",
       "        // the figure and JSON message as its only arguments.\n",
       "        try {\n",
       "            var callback = fig['handle_' + msg_type];\n",
       "        } catch (e) {\n",
       "            console.log(\n",
       "                \"No handler for the '\" + msg_type + \"' message type: \",\n",
       "                msg\n",
       "            );\n",
       "            return;\n",
       "        }\n",
       "\n",
       "        if (callback) {\n",
       "            try {\n",
       "                // console.log(\"Handling '\" + msg_type + \"' message: \", msg);\n",
       "                callback(fig, msg);\n",
       "            } catch (e) {\n",
       "                console.log(\n",
       "                    \"Exception inside the 'handler_\" + msg_type + \"' callback:\",\n",
       "                    e,\n",
       "                    e.stack,\n",
       "                    msg\n",
       "                );\n",
       "            }\n",
       "        }\n",
       "    };\n",
       "};\n",
       "\n",
       "// from http://stackoverflow.com/questions/1114465/getting-mouse-location-in-canvas\n",
       "mpl.findpos = function (e) {\n",
       "    //this section is from http://www.quirksmode.org/js/events_properties.html\n",
       "    var targ;\n",
       "    if (!e) {\n",
       "        e = window.event;\n",
       "    }\n",
       "    if (e.target) {\n",
       "        targ = e.target;\n",
       "    } else if (e.srcElement) {\n",
       "        targ = e.srcElement;\n",
       "    }\n",
       "    if (targ.nodeType === 3) {\n",
       "        // defeat Safari bug\n",
       "        targ = targ.parentNode;\n",
       "    }\n",
       "\n",
       "    // pageX,Y are the mouse positions relative to the document\n",
       "    var boundingRect = targ.getBoundingClientRect();\n",
       "    var x = e.pageX - (boundingRect.left + document.body.scrollLeft);\n",
       "    var y = e.pageY - (boundingRect.top + document.body.scrollTop);\n",
       "\n",
       "    return { x: x, y: y };\n",
       "};\n",
       "\n",
       "/*\n",
       " * return a copy of an object with only non-object keys\n",
       " * we need this to avoid circular references\n",
       " * http://stackoverflow.com/a/24161582/3208463\n",
       " */\n",
       "function simpleKeys(original) {\n",
       "    return Object.keys(original).reduce(function (obj, key) {\n",
       "        if (typeof original[key] !== 'object') {\n",
       "            obj[key] = original[key];\n",
       "        }\n",
       "        return obj;\n",
       "    }, {});\n",
       "}\n",
       "\n",
       "mpl.figure.prototype.mouse_event = function (event, name) {\n",
       "    var canvas_pos = mpl.findpos(event);\n",
       "\n",
       "    if (name === 'button_press') {\n",
       "        this.canvas.focus();\n",
       "        this.canvas_div.focus();\n",
       "    }\n",
       "\n",
       "    var x = canvas_pos.x * this.ratio;\n",
       "    var y = canvas_pos.y * this.ratio;\n",
       "\n",
       "    this.send_message(name, {\n",
       "        x: x,\n",
       "        y: y,\n",
       "        button: event.button,\n",
       "        step: event.step,\n",
       "        guiEvent: simpleKeys(event),\n",
       "    });\n",
       "\n",
       "    /* This prevents the web browser from automatically changing to\n",
       "     * the text insertion cursor when the button is pressed.  We want\n",
       "     * to control all of the cursor setting manually through the\n",
       "     * 'cursor' event from matplotlib */\n",
       "    event.preventDefault();\n",
       "    return false;\n",
       "};\n",
       "\n",
       "mpl.figure.prototype._key_event_extra = function (_event, _name) {\n",
       "    // Handle any extra behaviour associated with a key event\n",
       "};\n",
       "\n",
       "mpl.figure.prototype.key_event = function (event, name) {\n",
       "    // Prevent repeat events\n",
       "    if (name === 'key_press') {\n",
       "        if (event.key === this._key) {\n",
       "            return;\n",
       "        } else {\n",
       "            this._key = event.key;\n",
       "        }\n",
       "    }\n",
       "    if (name === 'key_release') {\n",
       "        this._key = null;\n",
       "    }\n",
       "\n",
       "    var value = '';\n",
       "    if (event.ctrlKey && event.key !== 'Control') {\n",
       "        value += 'ctrl+';\n",
       "    }\n",
       "    else if (event.altKey && event.key !== 'Alt') {\n",
       "        value += 'alt+';\n",
       "    }\n",
       "    else if (event.shiftKey && event.key !== 'Shift') {\n",
       "        value += 'shift+';\n",
       "    }\n",
       "\n",
       "    value += 'k' + event.key;\n",
       "\n",
       "    this._key_event_extra(event, name);\n",
       "\n",
       "    this.send_message(name, { key: value, guiEvent: simpleKeys(event) });\n",
       "    return false;\n",
       "};\n",
       "\n",
       "mpl.figure.prototype.toolbar_button_onclick = function (name) {\n",
       "    if (name === 'download') {\n",
       "        this.handle_save(this, null);\n",
       "    } else {\n",
       "        this.send_message('toolbar_button', { name: name });\n",
       "    }\n",
       "};\n",
       "\n",
       "mpl.figure.prototype.toolbar_button_onmouseover = function (tooltip) {\n",
       "    this.message.textContent = tooltip;\n",
       "};\n",
       "\n",
       "///////////////// REMAINING CONTENT GENERATED BY embed_js.py /////////////////\n",
       "// prettier-ignore\n",
       "var _JSXTOOLS_RESIZE_OBSERVER=function(A){var t,i=new WeakMap,n=new WeakMap,a=new WeakMap,r=new WeakMap,o=new Set;function s(e){if(!(this instanceof s))throw new TypeError(\"Constructor requires 'new' operator\");i.set(this,e)}function h(){throw new TypeError(\"Function is not a constructor\")}function c(e,t,i,n){e=0 in arguments?Number(arguments[0]):0,t=1 in arguments?Number(arguments[1]):0,i=2 in arguments?Number(arguments[2]):0,n=3 in arguments?Number(arguments[3]):0,this.right=(this.x=this.left=e)+(this.width=i),this.bottom=(this.y=this.top=t)+(this.height=n),Object.freeze(this)}function d(){t=requestAnimationFrame(d);var s=new WeakMap,p=new Set;o.forEach((function(t){r.get(t).forEach((function(i){var r=t instanceof window.SVGElement,o=a.get(t),d=r?0:parseFloat(o.paddingTop),f=r?0:parseFloat(o.paddingRight),l=r?0:parseFloat(o.paddingBottom),u=r?0:parseFloat(o.paddingLeft),g=r?0:parseFloat(o.borderTopWidth),m=r?0:parseFloat(o.borderRightWidth),w=r?0:parseFloat(o.borderBottomWidth),b=u+f,F=d+l,v=(r?0:parseFloat(o.borderLeftWidth))+m,W=g+w,y=r?0:t.offsetHeight-W-t.clientHeight,E=r?0:t.offsetWidth-v-t.clientWidth,R=b+v,z=F+W,M=r?t.width:parseFloat(o.width)-R-E,O=r?t.height:parseFloat(o.height)-z-y;if(n.has(t)){var k=n.get(t);if(k[0]===M&&k[1]===O)return}n.set(t,[M,O]);var S=Object.create(h.prototype);S.target=t,S.contentRect=new c(u,d,M,O),s.has(i)||(s.set(i,[]),p.add(i)),s.get(i).push(S)}))})),p.forEach((function(e){i.get(e).call(e,s.get(e),e)}))}return s.prototype.observe=function(i){if(i instanceof window.Element){r.has(i)||(r.set(i,new Set),o.add(i),a.set(i,window.getComputedStyle(i)));var n=r.get(i);n.has(this)||n.add(this),cancelAnimationFrame(t),t=requestAnimationFrame(d)}},s.prototype.unobserve=function(i){if(i instanceof window.Element&&r.has(i)){var n=r.get(i);n.has(this)&&(n.delete(this),n.size||(r.delete(i),o.delete(i))),n.size||r.delete(i),o.size||cancelAnimationFrame(t)}},A.DOMRectReadOnly=c,A.ResizeObserver=s,A.ResizeObserverEntry=h,A}; // eslint-disable-line\n",
       "mpl.toolbar_items = [[\"Home\", \"Reset original view\", \"fa fa-home icon-home\", \"home\"], [\"Back\", \"Back to previous view\", \"fa fa-arrow-left icon-arrow-left\", \"back\"], [\"Forward\", \"Forward to next view\", \"fa fa-arrow-right icon-arrow-right\", \"forward\"], [\"\", \"\", \"\", \"\"], [\"Pan\", \"Left button pans, Right button zooms\\nx/y fixes axis, CTRL fixes aspect\", \"fa fa-arrows icon-move\", \"pan\"], [\"Zoom\", \"Zoom to rectangle\\nx/y fixes axis, CTRL fixes aspect\", \"fa fa-square-o icon-check-empty\", \"zoom\"], [\"\", \"\", \"\", \"\"], [\"Download\", \"Download plot\", \"fa fa-floppy-o icon-save\", \"download\"]];\n",
       "\n",
       "mpl.extensions = [\"eps\", \"jpeg\", \"pgf\", \"pdf\", \"png\", \"ps\", \"raw\", \"svg\", \"tif\"];\n",
       "\n",
       "mpl.default_extension = \"png\";/* global mpl */\n",
       "\n",
       "var comm_websocket_adapter = function (comm) {\n",
       "    // Create a \"websocket\"-like object which calls the given IPython comm\n",
       "    // object with the appropriate methods. Currently this is a non binary\n",
       "    // socket, so there is still some room for performance tuning.\n",
       "    var ws = {};\n",
       "\n",
       "    ws.binaryType = comm.kernel.ws.binaryType;\n",
       "    ws.readyState = comm.kernel.ws.readyState;\n",
       "    function updateReadyState(_event) {\n",
       "        if (comm.kernel.ws) {\n",
       "            ws.readyState = comm.kernel.ws.readyState;\n",
       "        } else {\n",
       "            ws.readyState = 3; // Closed state.\n",
       "        }\n",
       "    }\n",
       "    comm.kernel.ws.addEventListener('open', updateReadyState);\n",
       "    comm.kernel.ws.addEventListener('close', updateReadyState);\n",
       "    comm.kernel.ws.addEventListener('error', updateReadyState);\n",
       "\n",
       "    ws.close = function () {\n",
       "        comm.close();\n",
       "    };\n",
       "    ws.send = function (m) {\n",
       "        //console.log('sending', m);\n",
       "        comm.send(m);\n",
       "    };\n",
       "    // Register the callback with on_msg.\n",
       "    comm.on_msg(function (msg) {\n",
       "        //console.log('receiving', msg['content']['data'], msg);\n",
       "        var data = msg['content']['data'];\n",
       "        if (data['blob'] !== undefined) {\n",
       "            data = {\n",
       "                data: new Blob(msg['buffers'], { type: data['blob'] }),\n",
       "            };\n",
       "        }\n",
       "        // Pass the mpl event to the overridden (by mpl) onmessage function.\n",
       "        ws.onmessage(data);\n",
       "    });\n",
       "    return ws;\n",
       "};\n",
       "\n",
       "mpl.mpl_figure_comm = function (comm, msg) {\n",
       "    // This is the function which gets called when the mpl process\n",
       "    // starts-up an IPython Comm through the \"matplotlib\" channel.\n",
       "\n",
       "    var id = msg.content.data.id;\n",
       "    // Get hold of the div created by the display call when the Comm\n",
       "    // socket was opened in Python.\n",
       "    var element = document.getElementById(id);\n",
       "    var ws_proxy = comm_websocket_adapter(comm);\n",
       "\n",
       "    function ondownload(figure, _format) {\n",
       "        window.open(figure.canvas.toDataURL());\n",
       "    }\n",
       "\n",
       "    var fig = new mpl.figure(id, ws_proxy, ondownload, element);\n",
       "\n",
       "    // Call onopen now - mpl needs it, as it is assuming we've passed it a real\n",
       "    // web socket which is closed, not our websocket->open comm proxy.\n",
       "    ws_proxy.onopen();\n",
       "\n",
       "    fig.parent_element = element;\n",
       "    fig.cell_info = mpl.find_output_cell(\"<div id='\" + id + \"'></div>\");\n",
       "    if (!fig.cell_info) {\n",
       "        console.error('Failed to find cell for figure', id, fig);\n",
       "        return;\n",
       "    }\n",
       "    fig.cell_info[0].output_area.element.on(\n",
       "        'cleared',\n",
       "        { fig: fig },\n",
       "        fig._remove_fig_handler\n",
       "    );\n",
       "};\n",
       "\n",
       "mpl.figure.prototype.handle_close = function (fig, msg) {\n",
       "    var width = fig.canvas.width / fig.ratio;\n",
       "    fig.cell_info[0].output_area.element.off(\n",
       "        'cleared',\n",
       "        fig._remove_fig_handler\n",
       "    );\n",
       "    fig.resizeObserverInstance.unobserve(fig.canvas_div);\n",
       "\n",
       "    // Update the output cell to use the data from the current canvas.\n",
       "    fig.push_to_output();\n",
       "    var dataURL = fig.canvas.toDataURL();\n",
       "    // Re-enable the keyboard manager in IPython - without this line, in FF,\n",
       "    // the notebook keyboard shortcuts fail.\n",
       "    IPython.keyboard_manager.enable();\n",
       "    fig.parent_element.innerHTML =\n",
       "        '<img src=\"' + dataURL + '\" width=\"' + width + '\">';\n",
       "    fig.close_ws(fig, msg);\n",
       "};\n",
       "\n",
       "mpl.figure.prototype.close_ws = function (fig, msg) {\n",
       "    fig.send_message('closing', msg);\n",
       "    // fig.ws.close()\n",
       "};\n",
       "\n",
       "mpl.figure.prototype.push_to_output = function (_remove_interactive) {\n",
       "    // Turn the data on the canvas into data in the output cell.\n",
       "    var width = this.canvas.width / this.ratio;\n",
       "    var dataURL = this.canvas.toDataURL();\n",
       "    this.cell_info[1]['text/html'] =\n",
       "        '<img src=\"' + dataURL + '\" width=\"' + width + '\">';\n",
       "};\n",
       "\n",
       "mpl.figure.prototype.updated_canvas_event = function () {\n",
       "    // Tell IPython that the notebook contents must change.\n",
       "    IPython.notebook.set_dirty(true);\n",
       "    this.send_message('ack', {});\n",
       "    var fig = this;\n",
       "    // Wait a second, then push the new image to the DOM so\n",
       "    // that it is saved nicely (might be nice to debounce this).\n",
       "    setTimeout(function () {\n",
       "        fig.push_to_output();\n",
       "    }, 1000);\n",
       "};\n",
       "\n",
       "mpl.figure.prototype._init_toolbar = function () {\n",
       "    var fig = this;\n",
       "\n",
       "    var toolbar = document.createElement('div');\n",
       "    toolbar.classList = 'btn-toolbar';\n",
       "    this.root.appendChild(toolbar);\n",
       "\n",
       "    function on_click_closure(name) {\n",
       "        return function (_event) {\n",
       "            return fig.toolbar_button_onclick(name);\n",
       "        };\n",
       "    }\n",
       "\n",
       "    function on_mouseover_closure(tooltip) {\n",
       "        return function (event) {\n",
       "            if (!event.currentTarget.disabled) {\n",
       "                return fig.toolbar_button_onmouseover(tooltip);\n",
       "            }\n",
       "        };\n",
       "    }\n",
       "\n",
       "    fig.buttons = {};\n",
       "    var buttonGroup = document.createElement('div');\n",
       "    buttonGroup.classList = 'btn-group';\n",
       "    var button;\n",
       "    for (var toolbar_ind in mpl.toolbar_items) {\n",
       "        var name = mpl.toolbar_items[toolbar_ind][0];\n",
       "        var tooltip = mpl.toolbar_items[toolbar_ind][1];\n",
       "        var image = mpl.toolbar_items[toolbar_ind][2];\n",
       "        var method_name = mpl.toolbar_items[toolbar_ind][3];\n",
       "\n",
       "        if (!name) {\n",
       "            /* Instead of a spacer, we start a new button group. */\n",
       "            if (buttonGroup.hasChildNodes()) {\n",
       "                toolbar.appendChild(buttonGroup);\n",
       "            }\n",
       "            buttonGroup = document.createElement('div');\n",
       "            buttonGroup.classList = 'btn-group';\n",
       "            continue;\n",
       "        }\n",
       "\n",
       "        button = fig.buttons[name] = document.createElement('button');\n",
       "        button.classList = 'btn btn-default';\n",
       "        button.href = '#';\n",
       "        button.title = name;\n",
       "        button.innerHTML = '<i class=\"fa ' + image + ' fa-lg\"></i>';\n",
       "        button.addEventListener('click', on_click_closure(method_name));\n",
       "        button.addEventListener('mouseover', on_mouseover_closure(tooltip));\n",
       "        buttonGroup.appendChild(button);\n",
       "    }\n",
       "\n",
       "    if (buttonGroup.hasChildNodes()) {\n",
       "        toolbar.appendChild(buttonGroup);\n",
       "    }\n",
       "\n",
       "    // Add the status bar.\n",
       "    var status_bar = document.createElement('span');\n",
       "    status_bar.classList = 'mpl-message pull-right';\n",
       "    toolbar.appendChild(status_bar);\n",
       "    this.message = status_bar;\n",
       "\n",
       "    // Add the close button to the window.\n",
       "    var buttongrp = document.createElement('div');\n",
       "    buttongrp.classList = 'btn-group inline pull-right';\n",
       "    button = document.createElement('button');\n",
       "    button.classList = 'btn btn-mini btn-primary';\n",
       "    button.href = '#';\n",
       "    button.title = 'Stop Interaction';\n",
       "    button.innerHTML = '<i class=\"fa fa-power-off icon-remove icon-large\"></i>';\n",
       "    button.addEventListener('click', function (_evt) {\n",
       "        fig.handle_close(fig, {});\n",
       "    });\n",
       "    button.addEventListener(\n",
       "        'mouseover',\n",
       "        on_mouseover_closure('Stop Interaction')\n",
       "    );\n",
       "    buttongrp.appendChild(button);\n",
       "    var titlebar = this.root.querySelector('.ui-dialog-titlebar');\n",
       "    titlebar.insertBefore(buttongrp, titlebar.firstChild);\n",
       "};\n",
       "\n",
       "mpl.figure.prototype._remove_fig_handler = function (event) {\n",
       "    var fig = event.data.fig;\n",
       "    if (event.target !== this) {\n",
       "        // Ignore bubbled events from children.\n",
       "        return;\n",
       "    }\n",
       "    fig.close_ws(fig, {});\n",
       "};\n",
       "\n",
       "mpl.figure.prototype._root_extra_style = function (el) {\n",
       "    el.style.boxSizing = 'content-box'; // override notebook setting of border-box.\n",
       "};\n",
       "\n",
       "mpl.figure.prototype._canvas_extra_style = function (el) {\n",
       "    // this is important to make the div 'focusable\n",
       "    el.setAttribute('tabindex', 0);\n",
       "    // reach out to IPython and tell the keyboard manager to turn it's self\n",
       "    // off when our div gets focus\n",
       "\n",
       "    // location in version 3\n",
       "    if (IPython.notebook.keyboard_manager) {\n",
       "        IPython.notebook.keyboard_manager.register_events(el);\n",
       "    } else {\n",
       "        // location in version 2\n",
       "        IPython.keyboard_manager.register_events(el);\n",
       "    }\n",
       "};\n",
       "\n",
       "mpl.figure.prototype._key_event_extra = function (event, _name) {\n",
       "    var manager = IPython.notebook.keyboard_manager;\n",
       "    if (!manager) {\n",
       "        manager = IPython.keyboard_manager;\n",
       "    }\n",
       "\n",
       "    // Check for shift+enter\n",
       "    if (event.shiftKey && event.which === 13) {\n",
       "        this.canvas_div.blur();\n",
       "        // select the cell after this one\n",
       "        var index = IPython.notebook.find_cell_index(this.cell_info[0]);\n",
       "        IPython.notebook.select(index + 1);\n",
       "    }\n",
       "};\n",
       "\n",
       "mpl.figure.prototype.handle_save = function (fig, _msg) {\n",
       "    fig.ondownload(fig, null);\n",
       "};\n",
       "\n",
       "mpl.find_output_cell = function (html_output) {\n",
       "    // Return the cell and output element which can be found *uniquely* in the notebook.\n",
       "    // Note - this is a bit hacky, but it is done because the \"notebook_saving.Notebook\"\n",
       "    // IPython event is triggered only after the cells have been serialised, which for\n",
       "    // our purposes (turning an active figure into a static one), is too late.\n",
       "    var cells = IPython.notebook.get_cells();\n",
       "    var ncells = cells.length;\n",
       "    for (var i = 0; i < ncells; i++) {\n",
       "        var cell = cells[i];\n",
       "        if (cell.cell_type === 'code') {\n",
       "            for (var j = 0; j < cell.output_area.outputs.length; j++) {\n",
       "                var data = cell.output_area.outputs[j];\n",
       "                if (data.data) {\n",
       "                    // IPython >= 3 moved mimebundle to data attribute of output\n",
       "                    data = data.data;\n",
       "                }\n",
       "                if (data['text/html'] === html_output) {\n",
       "                    return [cell, data, j];\n",
       "                }\n",
       "            }\n",
       "        }\n",
       "    }\n",
       "};\n",
       "\n",
       "// Register the function which deals with the matplotlib target/channel.\n",
       "// The kernel may be null if the page has been refreshed.\n",
       "if (IPython.notebook.kernel !== null) {\n",
       "    IPython.notebook.kernel.comm_manager.register_target(\n",
       "        'matplotlib',\n",
       "        mpl.mpl_figure_comm\n",
       "    );\n",
       "}\n"
      ],
      "text/plain": [
       "<IPython.core.display.Javascript object>"
      ]
     },
     "metadata": {},
     "output_type": "display_data"
    },
    {
     "data": {
      "text/html": [
       "<img src=\"data:image/png;base64,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\" width=\"1400\">"
      ],
      "text/plain": [
       "<IPython.core.display.HTML object>"
      ]
     },
     "metadata": {},
     "output_type": "display_data"
    }
   ],
   "source": [
    "from matplotlib.animation import FuncAnimation\n",
    "\n",
    "\n",
    "fig = plt.figure(figsize=(14,7))\n",
    "ax1 = plt.subplot(121)\n",
    "ax2 = plt.subplot(222)\n",
    "ax3 = plt.subplot(224)\n",
    "pi_ani = PiAnimation(ax1, ax2, ax3)\n",
    "anim = FuncAnimation(fig, pi_ani, frames=10_000, interval=50, blit=True)\n",
    "plt.show()"
   ]
  },
  {
   "cell_type": "code",
   "execution_count": null,
   "metadata": {},
   "outputs": [],
   "source": []
  }
 ],
 "metadata": {
  "kernelspec": {
   "display_name": "Python 3 (ipykernel)",
   "language": "python",
   "name": "python3"
  },
  "language_info": {
   "codemirror_mode": {
    "name": "ipython",
    "version": 3
   },
   "file_extension": ".py",
   "mimetype": "text/x-python",
   "name": "python",
   "nbconvert_exporter": "python",
   "pygments_lexer": "ipython3",
   "version": "3.8.11"
  }
 },
 "nbformat": 4,
 "nbformat_minor": 4
}
